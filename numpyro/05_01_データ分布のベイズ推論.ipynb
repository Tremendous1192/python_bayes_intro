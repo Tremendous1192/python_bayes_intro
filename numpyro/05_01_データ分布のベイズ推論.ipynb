{
 "cells": [
  {
   "cell_type": "markdown",
   "id": "0bb44465",
   "metadata": {},
   "source": [
    "# 第5章 ベイズ推論プログラミング"
   ]
  },
  {
   "cell_type": "markdown",
   "id": "c86a8fee",
   "metadata": {},
   "source": [
    "## 5.1節 データ分布のベイズ推論"
   ]
  },
  {
   "cell_type": "markdown",
   "id": "b4c58ec8",
   "metadata": {},
   "source": [
    "## モジュールのimport"
   ]
  },
  {
   "cell_type": "code",
   "execution_count": null,
   "id": "dca255b5",
   "metadata": {},
   "outputs": [],
   "source": [
    "# Module\n",
    "import sys\n",
    "sys.path.append(\"../\")\n",
    "from mod.numpyro_utility import *\n",
    "\n",
    "# DataFrame, Numerical computation\n",
    "import polars as pl\n",
    "pl.Config(fmt_str_lengths = 100, tbl_cols = 100, tbl_rows = 100)\n",
    "import pandas as pd\n",
    "import numpy as np\n",
    "import jax\n",
    "import jax.numpy as jnp\n",
    "#import jax.random as random\n",
    "\n",
    "# ベイズ推定\n",
    "import numpyro\n",
    "import numpyro.distributions as dist # 確率分布\n",
    "\n",
    "# plot\n",
    "import matplotlib.pyplot as plt\n",
    "%matplotlib inline\n",
    "import seaborn as sns\n",
    "import arviz as az\n",
    "\n",
    "# plotの設定\n",
    "import json\n",
    "def to_rc_dict(dict):\n",
    "    \"\"\"\n",
    "    jsonファイルのdictを読み込む\n",
    "    \"\"\"\n",
    "    return {f'{k1}.{k2}': v for k1,d in dict.items() for k2,v in d.items()}\n",
    "\n",
    "file_path = \"../mod/rcParams.json\"\n",
    "with open(file_path) as f: \n",
    "    plt.rcParams.update(to_rc_dict(json.load(f)))\n",
    "\n",
    "# 日本語 or 英語の2択\n",
    "import japanize_matplotlib\n",
    "#plt.rcParams['font.family'] = \"Times New Roman\""
   ]
  },
  {
   "cell_type": "markdown",
   "id": "ab98ac10",
   "metadata": {},
   "source": [
    "## 5.1 データ分布のベイズ推論\n",
    "### 5.1.1 問題設定\n",
    "```setosa```の```sepal_length```のデータ分布が正規分布に従うと仮定して、```sepal_length```の分布の形を調べる。"
   ]
  },
  {
   "cell_type": "markdown",
   "id": "8c4b24aa",
   "metadata": {},
   "source": [
    "### 5.1.2 データ準備\n",
    "```seaborn```の```iris```データセットを読み込む。\\\n",
    "```setosa```の萼片（がくへん）の長さ```sepal_length```を抽出する。\\\n",
    "```sepal_length```の分布に興味があるため目的変数の $y$ とする。"
   ]
  },
  {
   "cell_type": "code",
   "execution_count": null,
   "id": "a9ac4a57",
   "metadata": {},
   "outputs": [],
   "source": [
    "# データセットを読み込む\n",
    "df = sns.load_dataset(\"iris\")\n",
    "\n",
    "# setosa を抽出する\n",
    "df_setosa = df.query('species == \"setosa\"')\n",
    "\n",
    "# ヒストグラムを描画\n",
    "bins = np.arange(4.0, 6.2, 0.2)\n",
    "sns.histplot(data = df_setosa, x = \"sepal_length\", bins = bins, kde = True)\n",
    "plt.xticks(bins);"
   ]
  },
  {
   "cell_type": "code",
   "execution_count": null,
   "id": "8c2f9926",
   "metadata": {},
   "outputs": [],
   "source": [
    "# NumPy変数の1次元配列に変換\n",
    "Y = jnp.array(df_setosa['sepal_length'].values, dtype = float)\n",
    "\n",
    "# 統計情報の確認\n",
    "print(df_setosa['sepal_length'].describe())\n",
    "\n",
    "# 値の確認\n",
    "print(Y)"
   ]
  },
  {
   "cell_type": "markdown",
   "id": "9335ce60",
   "metadata": {},
   "source": [
    "### 5.1.3 確率モデル定義"
   ]
  },
  {
   "cell_type": "markdown",
   "id": "1916d697",
   "metadata": {},
   "source": [
    "前章と同様に数式で整理してから確率モデルをプログラミングする。\n",
    "\n",
    "1. ```setosa```の```sepal_length```のデータ分布が正規分布に従うと仮定する\n",
    "    * $y_{i} \\sim N(\\mu, \\sigma^2)$\n",
    "1. 正規分布のパラメータに関する情報は無い。\n",
    "    1. 正規分布の平均 $\\mu$ が取りうる値はかなり広いものとする。\n",
    "        * ヒストグラムより平均0, 標準偏差10の正規分布に従うと仮定する。\n",
    "    1. 正規分布の標準偏差 $\\sigma$ が取りうる値はかなり広いものとする。\n",
    "        * 標準偏差10の半正規分布に従うと仮定する。\n",
    "\n",
    "確率モデルは数式のまとめを終わりから実装していく。"
   ]
  },
  {
   "cell_type": "code",
   "execution_count": null,
   "id": "884cf09e",
   "metadata": {},
   "outputs": [],
   "source": [
    "def model_normal(N, Y = None):\n",
    "    '''\n",
    "        5.1節のSetosaのがく片長さの確率分布モデル\n",
    "    '''\n",
    "    # 2.2. 正規分布の標準偏差 $\\sigma$は標準偏差10の半正規分布に従うと仮定する。\n",
    "    sigma = numpyro.sample(\"sigma\", dist.HalfNormal(scale = 10))\n",
    "    # 2.1. 正規分布の平均 $\\mu$ はヒストグラムより平均0, 標準偏差10の正規分布に従うと仮定する。\n",
    "    mu = numpyro.sample(\"mu\", dist.Normal(loc = 0, scale = 10))\n",
    "    # ベクトル化\n",
    "    with numpyro.plate(\"N\", N):\n",
    "        # 1. $y_{i} \\sim N(\\mu, \\sigma^2)$\n",
    "        numpyro.sample(\"Y\", dist.Normal(loc = mu, scale = sigma), obs = Y)"
   ]
  },
  {
   "cell_type": "code",
   "execution_count": null,
   "id": "98a4eafd",
   "metadata": {},
   "outputs": [],
   "source": [
    "model_args = {\n",
    "    \"N\": len(Y),\n",
    "    \"Y\": Y\n",
    "}\n",
    "try_render_model(model_normal, render_name = \"Setosa's sepal length\", **model_args)"
   ]
  },
  {
   "cell_type": "markdown",
   "id": "d81265e2",
   "metadata": {},
   "source": [
    "### 5.1.4 サンプリング"
   ]
  },
  {
   "cell_type": "code",
   "execution_count": null,
   "id": "d3af6d88",
   "metadata": {},
   "outputs": [],
   "source": [
    "model_args = {\n",
    "    \"N\": len(Y),\n",
    "    \"Y\": Y\n",
    "}\n",
    "mcmc = run_mcmc(model_normal, num_chains = 4, num_warmup = 1000, num_samples = 1000, thinning = 1, seed = 42, **model_args)"
   ]
  },
  {
   "cell_type": "markdown",
   "id": "71121761",
   "metadata": {},
   "source": [
    "### 5.1.5 結果分析"
   ]
  },
  {
   "cell_type": "code",
   "execution_count": null,
   "id": "a000b83a",
   "metadata": {},
   "outputs": [],
   "source": [
    "az.plot_trace(mcmc, compact = False)\n",
    "plt.tight_layout()"
   ]
  },
  {
   "cell_type": "code",
   "execution_count": null,
   "id": "451c085c",
   "metadata": {},
   "outputs": [],
   "source": [
    "ax = az.plot_posterior(mcmc)\n",
    "plt.suptitle(\"Setosaのがく片長さの確率分布の形状\")\n",
    "plt.tight_layout()\n",
    "plt.show()"
   ]
  },
  {
   "cell_type": "code",
   "execution_count": null,
   "id": "aaf917f5",
   "metadata": {},
   "outputs": [],
   "source": [
    "summary = az.summary(mcmc)\n",
    "display(summary)"
   ]
  },
  {
   "cell_type": "code",
   "execution_count": null,
   "id": "f9734d6b",
   "metadata": {},
   "outputs": [],
   "source": [
    "print(f\"mu={summary.loc[\"mu\", \"mean\"]}, sigma={summary.loc[\"sigma\", \"mean\"]}\")"
   ]
  },
  {
   "cell_type": "markdown",
   "id": "92828da4",
   "metadata": {},
   "source": [
    "### 5.1.6 ヒストグラムと正規分布関数の重ね書き\n",
    "ほぼ書籍のコードと同じ。"
   ]
  },
  {
   "cell_type": "code",
   "execution_count": null,
   "id": "a3880ea0",
   "metadata": {},
   "outputs": [],
   "source": [
    "def norm(x, mu, sigma):\n",
    "    \"\"\"\n",
    "    正規分布のラインプロットの確率密度関数の値を計算する\n",
    "    \"\"\"\n",
    "    y = (x-mu)/sigma\n",
    "    a = np.exp(-(y**2)/2)\n",
    "    b = np.sqrt(2*np.pi)*sigma\n",
    "    return a/b"
   ]
  },
  {
   "cell_type": "code",
   "execution_count": null,
   "id": "81674ad7",
   "metadata": {},
   "outputs": [],
   "source": [
    "x_min = Y.min()\n",
    "x_max = Y.max()\n",
    "x_list = np.arange(x_min, x_max, 0.01)\n",
    "y_list = norm(x_list, summary.loc[\"mu\", \"mean\"], summary.loc[\"sigma\", \"mean\"])"
   ]
  },
  {
   "cell_type": "code",
   "execution_count": null,
   "id": "04539636",
   "metadata": {},
   "outputs": [],
   "source": [
    "delta = 0.2\n",
    "bins=np.arange(4.0, 6.0, delta)\n",
    "fig, ax = plt.subplots()\n",
    "sns.histplot(df_setosa, ax=ax, x='sepal_length',\n",
    "    bins=bins, kde=True, stat='probability')\n",
    "ax.get_lines()[0].set_label('KDE曲線')\n",
    "ax.set_xticks(bins)\n",
    "ax.plot(x_list, y_list*delta, c='r', label='ベイズ推論結果')\n",
    "ax.set_title('ベイズ推論結果とKDE曲線の比較')\n",
    "plt.legend();"
   ]
  },
  {
   "cell_type": "markdown",
   "id": "0160213c",
   "metadata": {},
   "source": [
    "### 5.1.7 少ないサンプル数でのベイズ推論\n",
    "省略"
   ]
  },
  {
   "cell_type": "markdown",
   "id": "1f526df5",
   "metadata": {},
   "source": [
    "### "
   ]
  }
 ],
 "metadata": {
  "kernelspec": {
   "display_name": "Python 3",
   "language": "python",
   "name": "python3"
  },
  "language_info": {
   "codemirror_mode": {
    "name": "ipython",
    "version": 3
   },
   "file_extension": ".py",
   "mimetype": "text/x-python",
   "name": "python",
   "nbconvert_exporter": "python",
   "pygments_lexer": "ipython3",
   "version": "3.12.12"
  }
 },
 "nbformat": 4,
 "nbformat_minor": 5
}
