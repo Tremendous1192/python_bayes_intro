{
 "cells": [
  {
   "cell_type": "markdown",
   "id": "0bb44465",
   "metadata": {},
   "source": [
    "# 5.1 データ分布のベイズ推論 - 第5章ベイズ推論プログラミング"
   ]
  },
  {
   "cell_type": "markdown",
   "id": "d43cc1c7",
   "metadata": {},
   "source": [
    "## はじめに\n",
    "[Pythonでスラスラわかる ベイズ推論「超」入門(赤石 雅典 (著), 須山 敦志 (監修))](https://www.yodobashi.com/product/100000009003770765/)の5.1節のPyMCコードをNumPyroで書き直しました。\\\n",
    "アイリス・データセットを使って```Setosa```のがく片の長さ```sepal_length```の分布を例に正規分布のベイズ推論を行います。\\\n",
    "ここから条件付確率 $P(H|D)=P(D,H)/P(D)$ の比例式 $P(H|D) \\propto P(D,H)$ と確率モデルとの関係が分かりにくくなります。"
   ]
  },
  {
   "cell_type": "markdown",
   "id": "cc724034",
   "metadata": {},
   "source": [
    "## フォルダ構造とユーティリティ関数、ライブラリimport\n",
    "リンク集の記事にフォルダ構造とユーティリティ関数、ライブラリimportを掲載しました。\\\n",
    "準備としてそちらのページをご覧ください。\n",
    "1. [フォルダ構造とユーティリティ関数](https://zenn.dev/tremendous1192/articles/eacc2b67d911db#%E3%83%95%E3%82%A9%E3%83%AB%E3%83%80%E6%A7%8B%E9%80%A0%E3%81%A8%E3%83%A6%E3%83%BC%E3%83%86%E3%82%A3%E3%83%AA%E3%83%86%E3%82%A3%E9%96%A2%E6%95%B0)\n",
    "1. [ライブラリimport](https://zenn.dev/tremendous1192/articles/eacc2b67d911db#%E9%96%A2%E9%80%A3notebook%E3%81%AE%E5%85%B1%E9%80%9Aimport)"
   ]
  },
  {
   "cell_type": "markdown",
   "id": "b4c58ec8",
   "metadata": {},
   "source": [
    "## モジュールのimport"
   ]
  },
  {
   "cell_type": "code",
   "execution_count": null,
   "id": "dca255b5",
   "metadata": {},
   "outputs": [],
   "source": [
    "# Module\n",
    "import sys\n",
    "sys.path.append(\"../\")\n",
    "from mod.numpyro_utility import *\n",
    "\n",
    "# DataFrame, Numerical computation\n",
    "import polars as pl\n",
    "pl.Config(fmt_str_lengths = 100, tbl_cols = 100, tbl_rows = 100)\n",
    "import pandas as pd\n",
    "import numpy as np\n",
    "import jax\n",
    "import jax.numpy as jnp\n",
    "\n",
    "# ベイズ推定\n",
    "import numpyro\n",
    "import numpyro.distributions as dist # 確率分布\n",
    "\n",
    "# plot\n",
    "import matplotlib.pyplot as plt\n",
    "%matplotlib inline\n",
    "import seaborn as sns\n",
    "import arviz as az\n",
    "\n",
    "# plotの設定\n",
    "import json\n",
    "def to_rc_dict(dict):\n",
    "    \"\"\"\n",
    "    jsonファイルのdictを読み込む\n",
    "    \"\"\"\n",
    "    return {f'{k1}.{k2}': v for k1,d in dict.items() for k2,v in d.items()}\n",
    "\n",
    "file_path = \"../mod/rcParams.json\"\n",
    "with open(file_path) as f: \n",
    "    plt.rcParams.update(to_rc_dict(json.load(f)))\n",
    "\n",
    "# 日本語 or 英語の2択\n",
    "import japanize_matplotlib\n",
    "#plt.rcParams['font.family'] = \"Times New Roman\""
   ]
  },
  {
   "cell_type": "markdown",
   "id": "ab98ac10",
   "metadata": {},
   "source": [
    "## 5.1 データ分布のベイズ推論\n",
    "### 5.1.1 問題設定\n",
    "```setosa```の```sepal_length```のデータ分布が正規分布に従うと仮定して、```sepal_length```の分布の形を調べます。"
   ]
  },
  {
   "cell_type": "markdown",
   "id": "8c4b24aa",
   "metadata": {},
   "source": [
    "### 5.1.2 データ準備\n",
    "```seaborn```の```iris```データセットを読み込みます。\\\n",
    "```setosa```の萼片（がくへん）の長さ```sepal_length```を抽出します。\\\n",
    "```sepal_length```の分布に興味があるため目的変数の $y$ とします。\\\n",
    "```sepal_length```のヒストグラムをプロットすると正規分布の釣り鐘型に近い分布がプロットされました。\\\n",
    "正規分布で近似してよさそうです。"
   ]
  },
  {
   "cell_type": "code",
   "execution_count": null,
   "id": "a9ac4a57",
   "metadata": {},
   "outputs": [],
   "source": [
    "# データセットを読み込む\n",
    "df = sns.load_dataset(\"iris\")\n",
    "\n",
    "# setosa を抽出する\n",
    "df_setosa = df.query('species == \"setosa\"')\n",
    "\n",
    "# ヒストグラムを描画\n",
    "bins = np.arange(4.0, 6.2, 0.2)\n",
    "sns.histplot(data = df_setosa, x = \"sepal_length\", bins = bins, kde = True)\n",
    "plt.xticks(bins);"
   ]
  },
  {
   "cell_type": "code",
   "execution_count": null,
   "id": "8c2f9926",
   "metadata": {},
   "outputs": [],
   "source": [
    "# NumPy変数の1次元配列に変換\n",
    "Y = jnp.array(df_setosa['sepal_length'].values, dtype = float)\n",
    "\n",
    "# 統計情報の確認\n",
    "print(df_setosa['sepal_length'].describe())\n",
    "\n",
    "# 値の確認\n",
    "print(Y)"
   ]
  },
  {
   "cell_type": "markdown",
   "id": "9335ce60",
   "metadata": {},
   "source": [
    "### 5.1.3 確率モデル定義\n",
    "確率モデルをプログラミングするために、全勝と同様に数式を使って状況を整理します。\n",
    "\n",
    "まず、ヒストグラムより $N$ 個の ```sepal_length``` $\\{ y_{i} \\}$ は正規分布に従うと仮定します。\\\n",
    "正規分布は平均 $\\mu$ と標準偏差 $\\sigma$ で確率分布の形状が決まります。\\\n",
    "本節のベイズ推論は平均 $\\mu$ と標準偏差 $\\sigma$ を求める問題になります。\n",
    "\n",
    "$$\n",
    "y_{i} \\sim N(\\mu, \\sigma^2)\n",
    "$$\n",
    "\n",
    "次に、正規分布のパラメータの推論精度を高める情報はありません。\\\n",
    "広めの事前分布を与えておきましょう。\\\n",
    "平均 $\\mu$ は平均0, 標準偏差10の正規分布に従うと仮定します。\\\n",
    "標準偏差 $\\sigma$ は標準偏差10の半正規分布に従うと仮定します。\\\n",
    "さらに、平均 $\\mu$ と標準偏差 $\\sigma$ は独立であると仮定します。\n",
    "\n",
    "$$\n",
    "\n",
    "\\begin{aligned}\n",
    "\\mu \\sim& N(0,10^2)\\\\\n",
    "\\sigma \\sim& HN(0,10^2)\\\\\n",
    "P(\\mu, \\sigma) =& P(\\mu) \\times P(\\sigma)\n",
    "\\end{aligned}\n",
    "$$\n",
    "\n",
    "ここまでの結果を条件付確率 $P(H|D)=P(D,H)/P(D)$ の比例式 $P(H|D) \\propto P(D,H)$ に当てはめます。\n",
    "\n",
    "$$\n",
    "\\begin{aligned}\n",
    "P(H = (\\mu, \\sigma)|D = y)\n",
    "    \\propto& P(D = y,H = (\\mu, \\sigma))\\\\\n",
    "    =& P(D = y|H = (\\mu, \\sigma)) \\times P(\\mu, \\sigma)\\\\\n",
    "    =& P(D = y|H = (\\mu, \\sigma)) \\times P(\\mu) \\times P(\\sigma)\\\\\n",
    "    =& N(\\mu, \\sigma^2) \\times N(0,10^2) \\times HN(0,10^2)\n",
    "\\end{aligned}\n",
    "$$\n",
    "\n",
    "PyMCやNumPyroのプログラミングは、右辺の最後の式を後ろから記述します。"
   ]
  },
  {
   "cell_type": "code",
   "execution_count": null,
   "id": "884cf09e",
   "metadata": {},
   "outputs": [],
   "source": [
    "def model_normal(N, Y = None):\n",
    "    '''\n",
    "        5.1節のSetosaのがく片長さの確率分布モデル\n",
    "    '''\n",
    "    # 標準偏差 $\\sigma$ は標準偏差10の半正規分布に従うと仮定します\n",
    "    sigma = numpyro.sample(\"sigma\", dist.HalfNormal(scale = 10))\n",
    "    # 平均 $\\mu$ は平均0, 標準偏差10の正規分布に従うと仮定します\n",
    "    mu = numpyro.sample(\"mu\", dist.Normal(loc = 0, scale = 10))\n",
    "    # ```sepal_length```は正規分布に従うと仮定します\n",
    "    # ベクトル化(学習用データを確率変数に割り当てるためのNumPyroのお作法)\n",
    "    with numpyro.plate(\"N\", N):\n",
    "        numpyro.sample(\"Y\", dist.Normal(loc = mu, scale = sigma), obs = Y)"
   ]
  },
  {
   "cell_type": "code",
   "execution_count": null,
   "id": "98a4eafd",
   "metadata": {},
   "outputs": [],
   "source": [
    "model_args = {\n",
    "    \"N\": len(Y),\n",
    "    \"Y\": Y\n",
    "}\n",
    "try_render_model(model_normal, render_name = \"Setosaｎがく片の長さの正規分布近似\", **model_args)"
   ]
  },
  {
   "cell_type": "markdown",
   "id": "d81265e2",
   "metadata": {},
   "source": [
    "### 5.1.4 サンプリング\n",
    "データを用意してモデルを作成したら後はユーティリティ関数に渡すだけです。"
   ]
  },
  {
   "cell_type": "code",
   "execution_count": null,
   "id": "d3af6d88",
   "metadata": {},
   "outputs": [],
   "source": [
    "model_args = {\n",
    "    \"N\": len(Y),\n",
    "    \"Y\": Y\n",
    "}\n",
    "idata = run_mcmc(\n",
    "    model_normal,\n",
    "    num_chains = 4,\n",
    "    num_warmup = 1000,\n",
    "    num_samples = 1000,\n",
    "    thinning = 1,\n",
    "    seed = 42,\n",
    "    target_accept_prob = 0.8,\n",
    "    log_likelihood = False,\n",
    "    **model_args\n",
    ")"
   ]
  },
  {
   "cell_type": "markdown",
   "id": "71121761",
   "metadata": {},
   "source": [
    "### 5.1.5 結果分析\n",
    "ここからは書籍のコードとほぼ同じです。\n",
    "\n",
    "まずはサンプリングが上手くいったか確認します。"
   ]
  },
  {
   "cell_type": "code",
   "execution_count": null,
   "id": "a000b83a",
   "metadata": {},
   "outputs": [],
   "source": [
    "az.plot_trace(idata, compact = False)\n",
    "plt.tight_layout()"
   ]
  },
  {
   "cell_type": "markdown",
   "id": "7cc10aba",
   "metadata": {},
   "source": [
    "正規分布のパラメータの事後分布をプロットします。\\\n",
    "正規分布の平均値 $\\mu$ に注目すると事後分布の平均値が5でヒストグラムの結果通りです。"
   ]
  },
  {
   "cell_type": "code",
   "execution_count": null,
   "id": "451c085c",
   "metadata": {},
   "outputs": [],
   "source": [
    "ax = az.plot_posterior(idata)\n",
    "plt.suptitle(\"Setosaのがく片長さの確率分布の形状\")\n",
    "plt.tight_layout()\n",
    "plt.show()"
   ]
  },
  {
   "cell_type": "markdown",
   "id": "2813244c",
   "metadata": {},
   "source": [
    "集計用のデータも確認します。"
   ]
  },
  {
   "cell_type": "code",
   "execution_count": null,
   "id": "aaf917f5",
   "metadata": {},
   "outputs": [],
   "source": [
    "summary = az.summary(idata)\n",
    "display(summary)"
   ]
  },
  {
   "cell_type": "markdown",
   "id": "4fc8fe89",
   "metadata": {},
   "source": [
    "summaryはpandas DataFrameのため次のコードのような面白い抽出ができます。"
   ]
  },
  {
   "cell_type": "code",
   "execution_count": null,
   "id": "f9734d6b",
   "metadata": {},
   "outputs": [],
   "source": [
    "print(f\"mu={summary.loc[\"mu\", \"mean\"]}, sigma={summary.loc[\"sigma\", \"mean\"]}\")"
   ]
  },
  {
   "cell_type": "markdown",
   "id": "92828da4",
   "metadata": {},
   "source": [
    "### 5.1.6 ヒストグラムと正規分布関数の重ね書き\n",
    "書籍のコードから変数名を変えています。\\\n",
    "ベイズ推論で計算した正規分布をヒストグラムに重ねるとほぼ一致したので、良い推論ができたと判断します。"
   ]
  },
  {
   "cell_type": "code",
   "execution_count": null,
   "id": "a3880ea0",
   "metadata": {},
   "outputs": [],
   "source": [
    "def norm(x, mu, sigma):\n",
    "    \"\"\"\n",
    "    正規分布のラインプロットの確率密度関数の値を計算する\n",
    "    \"\"\"\n",
    "    y = (x-mu)/sigma\n",
    "    a = np.exp(-(y**2)/2)\n",
    "    b = np.sqrt(2*np.pi)*sigma\n",
    "    return a/b"
   ]
  },
  {
   "cell_type": "code",
   "execution_count": null,
   "id": "81674ad7",
   "metadata": {},
   "outputs": [],
   "source": [
    "# 変更点\n",
    "x_min = Y.min()\n",
    "x_max = Y.max()\n",
    "x_list = np.arange(x_min, x_max, 0.01)\n",
    "y_list = norm(x_list, summary.loc[\"mu\", \"mean\"], summary.loc[\"sigma\", \"mean\"])"
   ]
  },
  {
   "cell_type": "code",
   "execution_count": null,
   "id": "04539636",
   "metadata": {},
   "outputs": [],
   "source": [
    "delta = 0.2\n",
    "bins=np.arange(4.0, 6.0, delta)\n",
    "fig, ax = plt.subplots()\n",
    "sns.histplot(df_setosa, ax=ax, x='sepal_length',\n",
    "    bins=bins, kde=True, stat='probability')\n",
    "ax.get_lines()[0].set_label('KDE曲線')\n",
    "ax.set_xticks(bins)\n",
    "ax.plot(x_list, y_list*delta, c='r', label='ベイズ推論結果')\n",
    "ax.set_title('ベイズ推論結果とKDE曲線の比較')\n",
    "plt.legend();"
   ]
  },
  {
   "cell_type": "markdown",
   "id": "0160213c",
   "metadata": {},
   "source": [
    "### 5.1.7 少ないサンプル数でのベイズ推論\n",
    "省略"
   ]
  },
  {
   "cell_type": "markdown",
   "id": "9460c15d",
   "metadata": {},
   "source": [
    "## 終わりに\n",
    "正規分布の例を使ってベイズ推論を行いました。\\\n",
    "数式の準備以外は前章のくじ引きと同じ流れです。"
   ]
  },
  {
   "cell_type": "markdown",
   "id": "1f526df5",
   "metadata": {},
   "source": [
    "### "
   ]
  }
 ],
 "metadata": {
  "kernelspec": {
   "display_name": "Python 3",
   "language": "python",
   "name": "python3"
  },
  "language_info": {
   "codemirror_mode": {
    "name": "ipython",
    "version": 3
   },
   "file_extension": ".py",
   "mimetype": "text/x-python",
   "name": "python",
   "nbconvert_exporter": "python",
   "pygments_lexer": "ipython3",
   "version": "3.13.9"
  }
 },
 "nbformat": 4,
 "nbformat_minor": 5
}
