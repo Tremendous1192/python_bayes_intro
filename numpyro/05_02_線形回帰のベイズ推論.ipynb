{
 "cells": [
  {
   "cell_type": "markdown",
   "id": "9510b62d",
   "metadata": {},
   "source": [
    "# 5.2 線形回帰のベイズ推論 - 第5章ベイズ推論プログラミング"
   ]
  },
  {
   "cell_type": "markdown",
   "id": "f582bf11",
   "metadata": {},
   "source": [
    "## はじめに\n",
    "[Pythonでスラスラわかる ベイズ推論「超」入門(赤石 雅典 (著), 須山 敦志 (監修))](https://www.yodobashi.com/product/100000009003770765/)の5.2節のPyMCコードをNumPyroで書き直しました。\\\n",
    "アイリス・データセットの```versicolor```のがく片の長さ```sepal_length```とがく片の幅```sepal_width```の1次関数近似のベイズ推論を行います。\\\n",
    "単純な線形回帰であっても一目ではベイズの定理と確率モデルとの関係性が分かりにくいので、数式で考えることの恩恵が大きくなります。"
   ]
  },
  {
   "cell_type": "markdown",
   "id": "aafbdcc5",
   "metadata": {},
   "source": [
    "## フォルダ構造とユーティリティ関数、ライブラリimport\n",
    "リンク集の記事にフォルダ構造とユーティリティ関数、ライブラリimportを掲載しました。\\\n",
    "準備としてそちらのページをご覧ください。\n",
    "1. [フォルダ構造とユーティリティ関数]()\n",
    "1. [ライブラリimport]()"
   ]
  },
  {
   "cell_type": "markdown",
   "id": "9baf05d1",
   "metadata": {},
   "source": [
    "## モジュールのimport"
   ]
  },
  {
   "cell_type": "code",
   "execution_count": null,
   "id": "f7db04c5",
   "metadata": {},
   "outputs": [],
   "source": [
    "# Module\n",
    "import sys\n",
    "sys.path.append(\"../\")\n",
    "from mod.numpyro_utility import *\n",
    "\n",
    "# DataFrame, Numerical computation\n",
    "import polars as pl\n",
    "pl.Config(fmt_str_lengths = 100, tbl_cols = 100, tbl_rows = 100)\n",
    "import pandas as pd\n",
    "import numpy as np\n",
    "import jax\n",
    "import jax.numpy as jnp\n",
    "\n",
    "# ベイズ推定\n",
    "import numpyro\n",
    "import numpyro.distributions as dist # 確率分布\n",
    "\n",
    "# plot\n",
    "import matplotlib.pyplot as plt\n",
    "%matplotlib inline\n",
    "import seaborn as sns\n",
    "import arviz as az\n",
    "\n",
    "# plotの設定\n",
    "import json\n",
    "def to_rc_dict(dict):\n",
    "    \"\"\"\n",
    "    jsonファイルのdictを読み込む\n",
    "    \"\"\"\n",
    "    return {f'{k1}.{k2}': v for k1,d in dict.items() for k2,v in d.items()}\n",
    "\n",
    "file_path = \"../mod/rcParams.json\"\n",
    "with open(file_path) as f: \n",
    "    plt.rcParams.update(to_rc_dict(json.load(f)))\n",
    "\n",
    "# 日本語 or 英語の2択\n",
    "import japanize_matplotlib\n",
    "#plt.rcParams['font.family'] = \"Times New Roman\""
   ]
  },
  {
   "cell_type": "markdown",
   "id": "1d76d260",
   "metadata": {},
   "source": [
    "## 5.2 線形回帰のベイズ推論"
   ]
  },
  {
   "cell_type": "markdown",
   "id": "288bd44a",
   "metadata": {},
   "source": [
    "### 5.2.1 問題設定\n",
    "```versicolor```のがく片の長さ(```sepal_length```)と幅(```sepal_width```)の関係を1次関数近似します。"
   ]
  },
  {
   "cell_type": "markdown",
   "id": "a2944dba",
   "metadata": {},
   "source": [
    "### 5.2.2 データ準備\n",
    "問題設定の通りにデータを抽出します。"
   ]
  },
  {
   "cell_type": "code",
   "execution_count": null,
   "id": "deec4431",
   "metadata": {},
   "outputs": [],
   "source": [
    "# データセットを読み込む\n",
    "df = sns.load_dataset(\"iris\")\n",
    "\n",
    "# setosa を抽出する\n",
    "df_versicolor = df.query('species == \"versicolor\"')\n",
    "\n",
    "# sepal_lengthとsepal_widthの列を抽出\n",
    "X = jnp.array(df_versicolor['sepal_length'], dtype = float)\n",
    "Y = jnp.array(df_versicolor['sepal_width'], dtype = float)"
   ]
  },
  {
   "cell_type": "markdown",
   "id": "8fbc2e11",
   "metadata": {},
   "source": [
    "抽出したデータの散布図をプロットします。\\\n",
    "少しばらつきは大きいですが1次関数近似してもよさそうです。"
   ]
  },
  {
   "cell_type": "code",
   "execution_count": null,
   "id": "b8f8ab6c",
   "metadata": {},
   "outputs": [],
   "source": [
    "plt.title('２つの項目間の関係')\n",
    "plt.scatter(X, Y, label='ベイズ推論で利用', c='b', marker='o')\n",
    "plt.legend()\n",
    "plt.xticks([4, 5, 6, 7, 8])\n",
    "plt.yticks([1, 2, 3, 4, 5])\n",
    "plt.xlabel('sepal_length')\n",
    "plt.ylabel('sepal_width')"
   ]
  },
  {
   "cell_type": "markdown",
   "id": "2bda99b2",
   "metadata": {},
   "source": [
    "### 5.2.3 確率モデル定義1\n",
    "中間変数を設定しないモデル作成の項です。\\\n",
    "少しモデル定義の関数が短くなりますが、可読性が下がるデメリットの方が大きいです。\\\n",
    "個人的に実用性を感じないので省略します。"
   ]
  },
  {
   "cell_type": "markdown",
   "id": "2f260f89",
   "metadata": {},
   "source": [
    "### 5.2.4 確率モデル2\n",
    "確率モデルをプログラミングするために、全勝と同様に数式を使って状況を整理します。\n",
    "\n",
    "まず、散布図より $N$ 組の ```sepal_length``` $x_{i}$ とがく片の幅 ```sepal_width``` $y_{i}$ は1次関数で近似できると仮定します。\n",
    "\n",
    "$$\n",
    "y_{i} \\approx \\omega_{0} + \\omega_{1} x_{i}\n",
    "$$\n",
    "\n",
    "確率モデルを作成するためのテクニックとして、右辺を $\\mu$ とおくことにします。\n",
    "\n",
    "$$\n",
    "\\mu_{i} \\equiv \\omega_{0} + \\omega_{1} x_{i}\\\\\n",
    "\\Rightarrow y_{i} \\approx \\mu_{i}\n",
    "$$\n",
    "\n",
    "$y_{i}$ は $x_{i}$ の値に応じた定数 $\\mu_{i}$ に近い値を取ると読むことができます。\\\n",
    "前節の正規分布の仮定とほぼ同じですね。\\\n",
    "$y_{i}$ が $x_{i}$ の値に応じた平均値 $\\mu_{i}$ をパラメータに持つ正規分布に従うと仮定します。\n",
    "\n",
    "$$\n",
    "y_{i} \\sim N(\\mu_{i}, \\sigma^2)\n",
    "$$\n",
    "\n",
    "1次関数近似のベイズ推論は、1次関数のパラメータ $\\{ \\omega_{0}, \\omega_{1} \\}$ と正規分布の標準偏差 $\\sigma$ を求める問題になりました。\\\n",
    "これらのパラメータの推論精度を高める情報はありません。\\\n",
    "広めの事前分布を与えておきましょう。\\\n",
    "1次関数のパラメータ $\\{ \\omega_{0}, \\omega_{1} \\}$ はそれぞれ平均0, 標準偏差10の正規分布に従うと仮定します。\\\n",
    "標準偏差 $\\sigma$ は標準偏差10の半正規分布に従うと仮定します。\\\n",
    "さらに、これらのパラメータは独立であると仮定します。\n",
    "\n",
    "$$\n",
    "\\begin{aligned}\n",
    "\\omega_{0} \\sim& N(0,10^2)\\\\\n",
    "\\omega_{1} \\sim& N(0,10^2)\\\\\n",
    "\\sigma \\sim& HN(0,10^2)\\\\\n",
    "P(\\omega_{0}, \\omega_{1}, \\sigma) =& P(\\omega_{0}) \\times P(\\omega_{1}) \\times P(\\sigma)\n",
    "\\end{aligned}\n",
    "$$\n",
    "\n",
    "ここまでの結果を条件付確率 $P(H|D)=P(D,H)/P(D)$ に当てはめます。\\\n",
    "データは説明変数と目的変数の組 $D = (x, y)$ ですが、 $y$ に関する確率分布を仮定しているので、良い感じに分離します。\\\n",
    "説明変数 $x$ と今回のパラメータは全て独立であると仮定しておきます。\n",
    "\n",
    "$$\n",
    "\\begin{aligned}\n",
    "P(H = (\\omega_{0}, \\omega_{1}, \\sigma)|D = (x, y)) / P(D = (x,y))\n",
    "    =& P(D = (x, y),H = (\\omega_{0}, \\omega_{1}, \\sigma)) / \\left( P(y|x) \\times P(x) \\right)\\\\\n",
    "    =& P(y,(x, \\omega_{0}, \\omega_{1}, \\sigma)) / \\left( P(y|x) \\times P(x) \\right)\\\\\n",
    "    =& P(y | (x, \\omega_{0}, \\omega_{1}, \\sigma)) \\times P(x, \\omega_{0}, \\omega_{1}, \\sigma) / \\left( P(y|x) \\times P(x) \\right)\\\\\n",
    "    =& P(y | (x, \\omega_{0}, \\omega_{1}, \\sigma)) \\times P(x) \\times P(\\omega_{0}) \\times P(\\omega_{1}) \\times P(\\sigma) / \\left( P(y|x) \\times P(x) \\right)\\\\\n",
    "    =& P(y | (x, \\omega_{0}, \\omega_{1}, \\sigma)) \\times P(\\omega_{0}) \\times P(\\omega_{1}) \\times P(\\sigma) / P(y|x)\\\\\n",
    "    \\propto& P(y | (x, \\omega_{0}, \\omega_{1}, \\sigma)) \\times P(\\omega_{0}) \\times P(\\omega_{1}) \\times P(\\sigma)\n",
    "\\end{aligned}\n",
    "$$\n",
    "\n",
    "説明変数がある場合、条件付確率から計算すると説明変数の確率がきれいに約分されます。\\\n",
    "PyMCやNumPyroのプログラミングは、右辺の最後の式を後ろから記述します。"
   ]
  },
  {
   "cell_type": "code",
   "execution_count": null,
   "id": "a0065c2d",
   "metadata": {},
   "outputs": [],
   "source": [
    "def model_linear_regression(X, Y = None):\n",
    "    '''\n",
    "        5.2節のversicolorのがく片長さと幅の確率分布モデル\n",
    "    '''\n",
    "    # 1次関数の切片は標準偏差10の半正規分布に従うと仮定します\n",
    "    ω0 = numpyro.sample(\"ω0\", dist.Normal(loc = 0, scale = 10))\n",
    "    # 1次関数の傾きは標準偏差10の半正規分布に従うと仮定します\n",
    "    ω1 = numpyro.sample(\"ω1\", dist.Normal(loc = 0, scale = 10))\n",
    "    # 1次関数の右辺を $\\mu_{i}$ とおきます\n",
    "    μ = numpyro.deterministic(\"μ\", ω0 + ω1 * X)\n",
    "    # 正規分布の標準偏差は標準偏差10の半正規分布に従うと仮定します\n",
    "    σ = numpyro.sample(\"σ\", dist.HalfNormal(scale = 10))\n",
    "    # 目的変数 y は説明変数 x の値に応じた平均値 μ をパラメータとする正規分布に従うと仮定します。\n",
    "    # ベクトル化(学習用データを確率変数に割り当てるためのNumPyroのお作法)\n",
    "    N = len(X)\n",
    "    with numpyro.plate(\"N\", N):\n",
    "        numpyro.sample(\"Y\", dist.Normal(loc = μ, scale = σ), obs = Y)"
   ]
  },
  {
   "cell_type": "markdown",
   "id": "008fe042",
   "metadata": {},
   "source": [
    "作成したﾓﾃﾞﾙをプロットします。\\\n",
    "勉強を始めた当初は1次関数でもなぜこのモデルで表されるのか不思議でした。"
   ]
  },
  {
   "cell_type": "code",
   "execution_count": null,
   "id": "4958d9e0",
   "metadata": {},
   "outputs": [],
   "source": [
    "model_args = {\n",
    "    \"X\": X,\n",
    "    \"Y\": Y\n",
    "}\n",
    "try_render_model(model_linear_regression, render_name = \"線形回帰\", **model_args)"
   ]
  },
  {
   "cell_type": "markdown",
   "id": "65a14af9",
   "metadata": {},
   "source": [
    "### 5.2.5 サンプリングと結果分析\n",
    "データを用意してモデルを作成したら後はユーティリティ関数に渡すだけです。"
   ]
  },
  {
   "cell_type": "code",
   "execution_count": null,
   "id": "f0c77ca3",
   "metadata": {},
   "outputs": [],
   "source": [
    "model_args = {\n",
    "    \"X\": X,\n",
    "    \"Y\": Y\n",
    "}\n",
    "idata = run_mcmc(\n",
    "    model_linear_regression,\n",
    "    num_chains = 4,\n",
    "    num_warmup = 1000,\n",
    "    num_samples = 1000,\n",
    "    thinning = 1,\n",
    "    seed = 42,\n",
    "    target_accept_prob = 0.8,\n",
    "    log_likelihood = False,\n",
    "    **model_args\n",
    ")"
   ]
  },
  {
   "cell_type": "markdown",
   "id": "2801c7b0",
   "metadata": {},
   "source": [
    "結果分析のコードは書籍とほぼ同じです。\n",
    "\n",
    "まずはサンプリングが上手くいったか確認します。"
   ]
  },
  {
   "cell_type": "code",
   "execution_count": null,
   "id": "4b882df2",
   "metadata": {},
   "outputs": [],
   "source": [
    "az.plot_trace(idata, compact = False, var_names = [\"ω0\", \"ω1\", \"σ\"])\n",
    "plt.tight_layout()"
   ]
  },
  {
   "cell_type": "markdown",
   "id": "410022ed",
   "metadata": {},
   "source": [
    "知りたかった1次関数の切片と傾きの事後分布をプロットします。"
   ]
  },
  {
   "cell_type": "code",
   "execution_count": null,
   "id": "3b8a27ae",
   "metadata": {},
   "outputs": [],
   "source": [
    "ax = az.plot_posterior(idata, var_names = [\"ω0\", \"ω1\"])\n",
    "plt.suptitle(\"1次関数近似の係数の分布\")\n",
    "plt.tight_layout()\n",
    "plt.show()"
   ]
  },
  {
   "cell_type": "markdown",
   "id": "63616d70",
   "metadata": {},
   "source": [
    "### 5.2.6 散布図と回帰直線の重ね描き\n",
    "サンプリングしたそれぞれの切片と傾きを使って近似直線をプロットします。\\\n",
    "今回は4,000個のサンプリングデータがあるので、4,000本の直線をプロットします。\n",
    "\n",
    "このセルの計算はNumPyのテクニックがつまった計算です。\\\n",
    "何度も読み返すことになるでしょう。"
   ]
  },
  {
   "cell_type": "code",
   "execution_count": null,
   "id": "91525e75",
   "metadata": {},
   "outputs": [],
   "source": [
    "# データ量を節約するために2点間を結ぶ線分をプロットします。\n",
    "# 説明変数 x の値域より少し広い範囲を選択します。\n",
    "x_values = np.array([X.min()-0.1, X.max()+0.1])\n",
    "print(x_values, x_values.shape) # (2点,)\n",
    "\n",
    "# サンプリング結果から切片と傾きを取り出しshapeを加工する\n",
    "ω0_posterior = idata['posterior']['ω0'].values.reshape(-1, 1)\n",
    "ω1_posterior = idata['posterior']['ω1'].values.reshape(-1, 1)\n",
    "\n",
    "# shapeの確認\n",
    "print(ω0_posterior.shape, ω1_posterior.shape)# (サンプリングサイズ,1列)\n",
    "\n",
    "# 4000パターンそれぞれで、２点の１次関数値の計算\n",
    "y_preds = x_values * ω1_posterior + ω0_posterior\n",
    "print(y_preds.shape)# (サンプリングサイズ,2点!?)"
   ]
  },
  {
   "cell_type": "code",
   "execution_count": null,
   "id": "6212733c",
   "metadata": {},
   "outputs": [],
   "source": [
    "for y_pred in y_preds:\n",
    "    # 各行のデータから近似直線をぷろｗする。\n",
    "    plt.plot(x_values, y_pred, lw=1, alpha=0.01, c='g')\n",
    "plt.scatter(X, Y)\n",
    "plt.title('ベイズ推論による回帰直線')\n",
    "plt.xlabel('sepal_length')\n",
    "plt.ylabel('sepal_width');"
   ]
  },
  {
   "cell_type": "markdown",
   "id": "7858cc5a",
   "metadata": {},
   "source": [
    "### 5.2.7 少ない観測値でのベイズ推論\n",
    "省略。"
   ]
  },
  {
   "cell_type": "markdown",
   "id": "b684edca",
   "metadata": {},
   "source": [
    "## 終わりに\n",
    "1次関数近似のベイズ推論を行いました。\\\n",
    "機械学習の最初に学ぶ線形回帰もこんなに複雑になるのですね。"
   ]
  }
 ],
 "metadata": {
  "kernelspec": {
   "display_name": "Python 3",
   "language": "python",
   "name": "python3"
  },
  "language_info": {
   "codemirror_mode": {
    "name": "ipython",
    "version": 3
   },
   "file_extension": ".py",
   "mimetype": "text/x-python",
   "name": "python",
   "nbconvert_exporter": "python",
   "pygments_lexer": "ipython3",
   "version": "3.13.9"
  }
 },
 "nbformat": 4,
 "nbformat_minor": 5
}
