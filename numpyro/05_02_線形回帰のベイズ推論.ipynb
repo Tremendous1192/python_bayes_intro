{
 "cells": [
  {
   "cell_type": "markdown",
   "id": "9510b62d",
   "metadata": {},
   "source": [
    "## モジュールのimport"
   ]
  },
  {
   "cell_type": "code",
   "execution_count": null,
   "id": "f7db04c5",
   "metadata": {},
   "outputs": [],
   "source": [
    "# Module\n",
    "import sys\n",
    "sys.path.append(\"../\")\n",
    "from mod.numpyro_utility import *\n",
    "\n",
    "# DataFrame, Numerical computation\n",
    "import polars as pl\n",
    "pl.Config(fmt_str_lengths = 100, tbl_cols = 100, tbl_rows = 100)\n",
    "import pandas as pd\n",
    "import numpy as np\n",
    "import jax\n",
    "import jax.numpy as jnp\n",
    "\n",
    "# ベイズ推定\n",
    "import numpyro\n",
    "import numpyro.distributions as dist # 確率分布\n",
    "\n",
    "# plot\n",
    "import matplotlib.pyplot as plt\n",
    "%matplotlib inline\n",
    "import seaborn as sns\n",
    "import arviz as az\n",
    "\n",
    "# plotの設定\n",
    "import json\n",
    "def to_rc_dict(dict):\n",
    "    \"\"\"\n",
    "    jsonファイルのdictを読み込む\n",
    "    \"\"\"\n",
    "    return {f'{k1}.{k2}': v for k1,d in dict.items() for k2,v in d.items()}\n",
    "\n",
    "file_path = \"../mod/rcParams.json\"\n",
    "with open(file_path) as f: \n",
    "    plt.rcParams.update(to_rc_dict(json.load(f)))\n",
    "\n",
    "# 日本語 or 英語の2択\n",
    "import japanize_matplotlib\n",
    "#plt.rcParams['font.family'] = \"Times New Roman\""
   ]
  },
  {
   "cell_type": "markdown",
   "id": "1d76d260",
   "metadata": {},
   "source": [
    "## 5.2 線形回帰のベイズ推論"
   ]
  },
  {
   "cell_type": "markdown",
   "id": "288bd44a",
   "metadata": {},
   "source": [
    "### 5.2.1 問題設定\n",
    "versicolorのがく片の長さ(sepal_length)と幅(sepal_width)の関係を1次関数近似する。"
   ]
  },
  {
   "cell_type": "markdown",
   "id": "a2944dba",
   "metadata": {},
   "source": [
    "### 5.2.2 データ準備"
   ]
  },
  {
   "cell_type": "code",
   "execution_count": null,
   "id": "deec4431",
   "metadata": {},
   "outputs": [],
   "source": [
    "# データセットを読み込む\n",
    "df = sns.load_dataset(\"iris\")\n",
    "\n",
    "# setosa を抽出する\n",
    "df_versicolor = df.query('species == \"versicolor\"')\n",
    "\n",
    "# sepal_lengthとsepal_widthの列を抽出\n",
    "X = jnp.array(df_versicolor['sepal_length'], dtype = float)\n",
    "Y = jnp.array(df_versicolor['sepal_width'], dtype = float)"
   ]
  },
  {
   "cell_type": "code",
   "execution_count": null,
   "id": "b8f8ab6c",
   "metadata": {},
   "outputs": [],
   "source": [
    "plt.title('２つの項目間の関係')\n",
    "plt.scatter(X, Y, label='ベイズ推論で利用', c='b', marker='o')\n",
    "plt.legend()\n",
    "plt.xlabel('sepal_length')\n",
    "plt.ylabel('sepal_width')"
   ]
  },
  {
   "cell_type": "markdown",
   "id": "2bda99b2",
   "metadata": {},
   "source": [
    "### 5.2.3 確率モデル定義1\n",
    "この説は省略する。"
   ]
  },
  {
   "cell_type": "markdown",
   "id": "2f260f89",
   "metadata": {},
   "source": [
    "### 5.2.4 確率モデル2\n",
    "数式で整理して、プログラミングで実装する。\n",
    "\n",
    "1. がく片の長さ sepal_length $x$ とがく片の幅 sepal_width $y$ とを1次関数で近似できる。\n",
    "    * $y_{i} \\approx \\omega_{0} + \\omega_{1} x_{i}$\n",
    "1. 1次関数の右辺を $\\mu_{i}$ とおく。\n",
    "    * $\\mu_{i} \\equiv \\omega_{0} + \\omega_{1} x_{i}$\n",
    "1. がく片の幅 sepal_width $y$ が正規分布に従うと仮定する。\n",
    "    * 形状パラメータの $\\mu_{i}$ が説明変数によって変化すると仮定する。\n",
    "    * $y_{i} \\sim N(\\mu_{i}, \\epsilon^2)$\n",
    "    * 正規分布の標準偏差 $\\epsilon$ の情報はないので広めの値を取る\n",
    "        * $\\epsilon \\sim HN(10^2)$\n",
    "1. 切片や係数の情報は無いので広めの値を取る\n",
    "        * $\\omega_{0} \\sim N(0, 10^2)$\n",
    "        * $\\omega_{1} \\sim N(0, 10^2)$\n",
    "\n",
    "前節までより少し複雑な順番で実装する。"
   ]
  },
  {
   "cell_type": "code",
   "execution_count": null,
   "id": "a0065c2d",
   "metadata": {},
   "outputs": [],
   "source": [
    "def model_linear_regression(X, Y = None):\n",
    "    '''\n",
    "        5.2節のversicolorのがく片長さと幅の確率分布モデル\n",
    "    '''\n",
    "    # 4.1 $\\omega_{0} \\sim N(0, 10^2)$\n",
    "    ω0 = numpyro.sample(\"ω0\", dist.Normal(loc = 0, scale = 10))\n",
    "    # 4.2 $\\omega_{1} \\sim N(0, 10^2)$\n",
    "    ω1 = numpyro.sample(\"ω1\", dist.Normal(loc = 0, scale = 10))\n",
    "    # 2. 1次関数の右辺を $\\mu_{i}$ とおく。\n",
    "    μ = numpyro.deterministic(\"μ\", ω0 + ω1 * X)\n",
    "    # 3. 正規分布の標準偏差は $\\epsilon \\sim HN(10^2)$ と仮定する。\n",
    "    ε = numpyro.sample(\"ε\", dist.HalfNormal(scale = 10))\n",
    "    # ベクトル化\n",
    "    N = len(X)\n",
    "    with numpyro.plate(\"N\", N):\n",
    "        # 1. $y_{i} \\sim N(\\mu, \\sigma^2)$\n",
    "        numpyro.sample(\"Y\", dist.Normal(loc = μ, scale = ε), obs = Y)"
   ]
  },
  {
   "cell_type": "code",
   "execution_count": null,
   "id": "4958d9e0",
   "metadata": {},
   "outputs": [],
   "source": [
    "model_args = {\n",
    "    \"X\": X,\n",
    "    \"Y\": Y\n",
    "}\n",
    "try_render_model(model_linear_regression, render_name = \"線形回帰\", **model_args)"
   ]
  },
  {
   "cell_type": "markdown",
   "id": "65a14af9",
   "metadata": {},
   "source": [
    "### 5.2.5 サンプリングと結果分析"
   ]
  },
  {
   "cell_type": "code",
   "execution_count": null,
   "id": "f0c77ca3",
   "metadata": {},
   "outputs": [],
   "source": [
    "model_args = {\n",
    "    \"X\": X,\n",
    "    \"Y\": Y\n",
    "}\n",
    "idata = run_mcmc(\n",
    "    model_linear_regression,\n",
    "    num_chains = 4,\n",
    "    num_warmup = 1000,\n",
    "    num_samples = 1000,\n",
    "    thinning = 1,\n",
    "    seed = 42,\n",
    "    target_accept_prob = 0.8,\n",
    "    log_likelihood = False,\n",
    "    **model_args\n",
    ")"
   ]
  },
  {
   "cell_type": "code",
   "execution_count": null,
   "id": "4b882df2",
   "metadata": {},
   "outputs": [],
   "source": [
    "az.plot_trace(idata, compact = False, var_names = [\"ω0\", \"ω1\", \"ε\"])\n",
    "plt.tight_layout()"
   ]
  },
  {
   "cell_type": "code",
   "execution_count": null,
   "id": "3b8a27ae",
   "metadata": {},
   "outputs": [],
   "source": [
    "ax = az.plot_posterior(idata, var_names = [\"ω0\", \"ω1\", \"ε\"])\n",
    "plt.suptitle(\"1次関数近似の係数の分布\")\n",
    "plt.tight_layout()\n",
    "plt.show()"
   ]
  },
  {
   "cell_type": "markdown",
   "id": "63616d70",
   "metadata": {},
   "source": [
    "### 5.2.6 散布図と回帰直線の重ね描き"
   ]
  },
  {
   "cell_type": "code",
   "execution_count": null,
   "id": "91525e75",
   "metadata": {},
   "outputs": [],
   "source": [
    "# xの２点をNumPy配列にする\n",
    "x_values = np.array([X.min()-0.1, X.max()+0.1])\n",
    "print(x_values, x_values.shape)\n",
    "\n",
    "# サンプリング結果からalphaとbetaを取り出しshapeを加工する\n",
    "ω0_posterior = idata['posterior']['ω0'].values.reshape(-1, 1)\n",
    "ω1_posterior = idata['posterior']['ω1'].values.reshape(-1, 1)\n",
    "\n",
    "# shapeの確認\n",
    "print(ω0_posterior.shape, ω1_posterior.shape)\n",
    "\n",
    "# 2000パターンそれぞれで、２点の１次関数値の計算\n",
    "y_preds = x_values * ω1_posterior + ω0_posterior\n",
    "print(y_preds.shape)"
   ]
  },
  {
   "cell_type": "code",
   "execution_count": null,
   "id": "6212733c",
   "metadata": {},
   "outputs": [],
   "source": [
    "for y_pred in y_preds:\n",
    "    plt.plot(x_values, y_pred, lw=1, alpha=0.01, c='g')\n",
    "plt.scatter(X, Y)\n",
    "plt.title('ベイズ推論による回帰直線')\n",
    "plt.xlabel('sepal_length')\n",
    "plt.ylabel('sepal_width');"
   ]
  },
  {
   "cell_type": "markdown",
   "id": "7858cc5a",
   "metadata": {},
   "source": [
    "### 5.2.7 少ない観測値でのベイズ推論\n",
    "省略。"
   ]
  }
 ],
 "metadata": {
  "kernelspec": {
   "display_name": "Python 3",
   "language": "python",
   "name": "python3"
  },
  "language_info": {
   "codemirror_mode": {
    "name": "ipython",
    "version": 3
   },
   "file_extension": ".py",
   "mimetype": "text/x-python",
   "name": "python",
   "nbconvert_exporter": "python",
   "pygments_lexer": "ipython3",
   "version": "3.13.9"
  }
 },
 "nbformat": 4,
 "nbformat_minor": 5
}
