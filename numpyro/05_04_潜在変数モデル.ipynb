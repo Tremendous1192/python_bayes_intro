{
 "cells": [
  {
   "cell_type": "markdown",
   "id": "eb3f6930",
   "metadata": {},
   "source": [
    "# 5.4 潜在変数モデル - 第5章ベイズ推論プログラミング\n",
    "[Pythonでスラスラわかる ベイズ推論「超」入門(赤石 雅典 (著), 須山 敦志 (監修))](https://www.yodobashi.com/product/100000009003770765/)の5.4節のPyMCコードをNumPyroで書き直しました。\\\n",
    "アイリス・データセットの```versicolor```と```virginica```をがく片の幅```sepal_width```だけでクラスタリングします。\\\n",
    "それぞれのがく片の幅が正規分布に従うというシンプルな仮定から見事にクラスタリングされる様子を味わうことができます。"
   ]
  },
  {
   "cell_type": "markdown",
   "id": "ec806d52",
   "metadata": {},
   "source": [
    "## フォルダ構造とユーティリティ関数、ライブラリimport\n",
    "リンク集の記事にフォルダ構造とユーティリティ関数、ライブラリimportを掲載しました。\\\n",
    "準備としてそちらのページをご覧ください。\n",
    "1. [フォルダ構造とユーティリティ関数]()\n",
    "1. [ライブラリimport]()"
   ]
  },
  {
   "cell_type": "markdown",
   "id": "875942cb",
   "metadata": {},
   "source": [
    "## モジュールのimport"
   ]
  },
  {
   "cell_type": "code",
   "execution_count": null,
   "id": "99440067",
   "metadata": {},
   "outputs": [],
   "source": [
    "# Module\n",
    "import sys\n",
    "sys.path.append(\"../\")\n",
    "from mod.numpyro_utility import *\n",
    "\n",
    "# DataFrame, Numerical computation\n",
    "import polars as pl\n",
    "pl.Config(fmt_str_lengths = 100, tbl_cols = 100, tbl_rows = 100)\n",
    "import pandas as pd\n",
    "import numpy as np\n",
    "import jax\n",
    "import jax.numpy as jnp\n",
    "\n",
    "# ベイズ推定\n",
    "import numpyro\n",
    "import numpyro.distributions as dist # 確率分布\n",
    "\n",
    "# plot\n",
    "import matplotlib.pyplot as plt\n",
    "%matplotlib inline\n",
    "import seaborn as sns\n",
    "import arviz as az\n",
    "\n",
    "# plotの設定\n",
    "import json\n",
    "def to_rc_dict(dict):\n",
    "    \"\"\"\n",
    "    jsonファイルのdictを読み込む\n",
    "    \"\"\"\n",
    "    return {f'{k1}.{k2}': v for k1,d in dict.items() for k2,v in d.items()}\n",
    "\n",
    "file_path = \"../mod/rcParams.json\"\n",
    "with open(file_path) as f: \n",
    "    plt.rcParams.update(to_rc_dict(json.load(f)))\n",
    "\n",
    "# 日本語 or 英語の2択\n",
    "import japanize_matplotlib\n",
    "#plt.rcParams['font.family'] = \"Times New Roman\""
   ]
  },
  {
   "cell_type": "markdown",
   "id": "b420b9c6",
   "metadata": {},
   "source": [
    "## 5.4 潜在変数モデル"
   ]
  },
  {
   "cell_type": "markdown",
   "id": "017c647f",
   "metadata": {},
   "source": [
    "### 5.4.1 問題設定\n",
    "versicolor と virginica のがく片の幅の分布から2つの正規分布の混在比率を同時に求めます。"
   ]
  },
  {
   "cell_type": "markdown",
   "id": "0258d79b",
   "metadata": {},
   "source": [
    "### 5.4.2 データ準備\n",
    "がく片の長さについて調べるので目的変数の $Y$ とします。"
   ]
  },
  {
   "cell_type": "code",
   "execution_count": null,
   "id": "792ff3f9",
   "metadata": {},
   "outputs": [],
   "source": [
    "# アイリスデータセットの読み込み\n",
    "df = sns.load_dataset('iris')\n",
    "\n",
    "# 花の種類をsetosa以外の２種類に絞り込む\n",
    "df_exclude_setosa = df.query('species != \"setosa\"')\n",
    "\n",
    "# インデックスを0から振り直す\n",
    "df_exclude_setosa = df_exclude_setosa.reset_index(drop=True)\n",
    "\n",
    "# petal_widthの項目値をx_dataにセット\n",
    "Y = jnp.array(df_exclude_setosa['petal_width'].values, dtype = float)\n",
    "display(Y)"
   ]
  },
  {
   "cell_type": "code",
   "execution_count": null,
   "id": "37b61488",
   "metadata": {},
   "outputs": [],
   "source": [
    "# 色分けしないでプロットする。\n",
    "bins = np.arange(0.8, 3.0, 0.1)\n",
    "fig, ax = plt.subplots()\n",
    "sns.histplot(bins=bins, x=Y)\n",
    "ax.set_xlabel('petal_width')\n",
    "ax.xaxis.set_tick_params(rotation=90)\n",
    "ax.set_title('petal_widthのヒストグラム')\n",
    "ax.set_xticks(bins)\n",
    "plt.tight_layout()\n",
    "plt.show()"
   ]
  },
  {
   "cell_type": "code",
   "execution_count": null,
   "id": "b7918685",
   "metadata": {},
   "outputs": [],
   "source": [
    "# 花の種類の答えのプロット\n",
    "bins = np.arange(0.8, 3.0, 0.1)\n",
    "fig, ax = plt.subplots()\n",
    "sns.histplot(data=df_exclude_setosa, bins=bins, x='petal_width',\n",
    "    hue='species', kde=True)\n",
    "ax.xaxis.set_tick_params(rotation=90)\n",
    "ax.set_title('petal_widthのヒストグラム')\n",
    "ax.set_xticks(bins);"
   ]
  },
  {
   "cell_type": "markdown",
   "id": "2c0f7665",
   "metadata": {},
   "source": [
    "### 5.4.3 確率モデル定義\n",
    "確率モデルをプログラミングするために、前章と同様に数式を使って状況を整理します。\n",
    "\n",
    "まず、ヒストグラムよりがく片の長さは花の種類ごとの正規分布に従うと仮定します。\\\n",
    "参考書籍で標準偏差の逆数である精度 $\\tau$ を使用していたので踏襲します。\n",
    "\n",
    "$$\n",
    "y_{i} \\sim N(\\mu_{s}, \\tau_{s}^2)\n",
    "$$\n",
    "\n",
    "正規分布のパラメータは花の種類ごとに次の確率分布に従うと仮定します。\n",
    "\n",
    "$$\n",
    "\\mu[s] \\sim N(0, 10^2)\\\\\n",
    "\\tau[s] \\sim HN(10^2)\n",
    "$$\n",
    "\n",
    "ここで花の種類の序数はベルヌーイ分布に従うと仮定します。\\\n",
    "このベルヌーイ分布の確率の事前分布は一様分布 $[0,1]$ と仮定します。\n",
    "\n",
    "$$\n",
    "\\begin{aligned}\n",
    "s \\sim& Bern(s∣p)\\\\\n",
    "p \\sim& Uniform(0,1)\n",
    "\\end{aligned}\n",
    "$$\n",
    "\n",
    "ここまで複雑だと数式がごちゃごちゃするので、一気にプログラミングを行います。\\\n",
    "ここまでの仮定を、後ろの方から記述します。"
   ]
  },
  {
   "cell_type": "code",
   "execution_count": null,
   "id": "580572e9",
   "metadata": {},
   "outputs": [],
   "source": [
    "def model_latent_variable_models(Y = None, N = None, n_groups = None):\n",
    "    '''\n",
    "        5.4節の2種類の花のがく片の幅の潜在変数モデル\n",
    "    '''\n",
    "    # 花の種類を決めるベルヌーイ分布の確率の事前分布は一様分布 $[0,1]$ と仮定します\n",
    "    p = numpyro.sample(\"p\", dist.Uniform(low = 0, high = 1))\n",
    "    # 花の種類の序数はベルヌーイ分布に従うと仮定します\n",
    "    with numpyro.plate(\"N\", N):\n",
    "        s = numpyro.sample(\"s\", dist.Bernoulli(probs = p))\n",
    "    # がく片の長さは花の種類ごとの正規分布に従うと仮定します\n",
    "    with numpyro.plate(\"group\", n_groups):\n",
    "        # 正規分布のパラメータは花の種類ごとに次の確率分布に従うと仮定します\n",
    "        μ_s = numpyro.sample(\"μ_s\", dist.Normal(loc = 0, scale = 10))\n",
    "        τ_s = numpyro.sample(\"τ_s\", dist.HalfNormal(scale = 10))\n",
    "        # NumPyroの確立分布では標準偏差が必要なので逆数を計算します。\n",
    "        σ_s = numpyro.deterministic(\"σ_s\", jnp.sqrt(1.0 / (τ_s + 0.001)))\n",
    "\n",
    "    # がく片の長さは花の種類ごとの正規分布に従うと仮定します。\n",
    "    # ベクトル化(学習用データを確率変数に割り当てるためのNumPyroのお作法)\n",
    "    with numpyro.plate(\"N\", N):\n",
    "        numpyro.sample(\"Y\", dist.Normal(loc = μ_s[s], scale = σ_s[s]), obs = Y)"
   ]
  },
  {
   "cell_type": "markdown",
   "id": "46acb10e",
   "metadata": {},
   "source": [
    "作成したモデルをプロットします。\\\n",
    "モデル化するとパラメータの関係性が分かります。"
   ]
  },
  {
   "cell_type": "code",
   "execution_count": null,
   "id": "6359a196",
   "metadata": {},
   "outputs": [],
   "source": [
    "model_args = {\n",
    "    \"Y\": Y,\n",
    "    \"N\": len(Y),\n",
    "    \"n_groups\": 2,\n",
    "}\n",
    "try_render_model(model_latent_variable_models, render_name = \"潜在変数モデル\", **model_args)"
   ]
  },
  {
   "cell_type": "markdown",
   "id": "c116b5a8",
   "metadata": {},
   "source": [
    "### 5.4.4 サンプリングと結果分析\n",
    "データを用意してモデルを作成したら後はユーティリティ関数に渡すだけです。"
   ]
  },
  {
   "cell_type": "code",
   "execution_count": null,
   "id": "433f3137",
   "metadata": {},
   "outputs": [],
   "source": [
    "model_args = {\n",
    "    \"Y\": Y,\n",
    "    \"N\": len(Y),\n",
    "    \"n_groups\": 2,\n",
    "}\n",
    "idata = run_mcmc(\n",
    "    model_latent_variable_models,\n",
    "    num_chains = 1,\n",
    "    num_warmup = 2000,\n",
    "    num_samples = 1000,\n",
    "    thinning = 1,\n",
    "    seed = 42,\n",
    "    target_accept_prob = 0.99,\n",
    "    log_likelihood = False,\n",
    "    **model_args\n",
    ")"
   ]
  },
  {
   "cell_type": "markdown",
   "id": "4286dad3",
   "metadata": {},
   "source": [
    "結果分析のコードは書籍とほぼ同じです。\n",
    "\n",
    "まずはサンプリングが上手くいったか確認します。"
   ]
  },
  {
   "cell_type": "code",
   "execution_count": null,
   "id": "45819906",
   "metadata": {},
   "outputs": [],
   "source": [
    "az.plot_trace(idata, compact = False, var_names = [\"p\", \"μ_s\", \"σ_s\"])\n",
    "plt.tight_layout()"
   ]
  },
  {
   "cell_type": "markdown",
   "id": "6e872242",
   "metadata": {},
   "source": [
    "知りたかったそれぞれの正規分布のパラメータをプロットします。"
   ]
  },
  {
   "cell_type": "code",
   "execution_count": null,
   "id": "b42f7eff",
   "metadata": {},
   "outputs": [],
   "source": [
    "plt.rcParams['figure.figsize']=(6,6)\n",
    "az.plot_posterior(idata, var_names = [\"μ_s\", \"σ_s\"])\n",
    "plt.tight_layout();"
   ]
  },
  {
   "cell_type": "code",
   "execution_count": null,
   "id": "9d2d133c",
   "metadata": {},
   "outputs": [],
   "source": [
    "summary = az.summary(idata, var_names = [\"μ_s\", \"σ_s\"])\n",
    "display(summary)"
   ]
  },
  {
   "cell_type": "markdown",
   "id": "56c0a395",
   "metadata": {},
   "source": [
    "### 5.4.5 ヒストグラムと正規分布関数の重ね描き\n",
    "ヒストグラムにベイズ推論で求めた正規分布を重ねてプロットします。\\\n",
    "がく片の幅のデータだけでうまくクラスタリングできたことがわかります。"
   ]
  },
  {
   "cell_type": "code",
   "execution_count": null,
   "id": "8bc5959d",
   "metadata": {},
   "outputs": [],
   "source": [
    "# 正規分布関数の定義\n",
    "def norm(x, mu, sigma):\n",
    "    return np.exp(-((x - mu)/sigma)**2/2) / (np.sqrt(2 * np.pi) * sigma)\n",
    "\n",
    "# 推論結果から各パラメータの平均値を取得\n",
    "mean = summary['mean']\n",
    "\n",
    "# muの平均値取得\n",
    "mean_mu0 = mean['μ_s[0]']\n",
    "mean_mu1 = mean['μ_s[1]']\n",
    "\n",
    "# sigmaの平均値取得\n",
    "mean_sigma0 = mean['σ_s[0]']\n",
    "mean_sigma1 = mean['σ_s[1]']\n",
    "\n",
    "# 正規分布関数値の計算\n",
    "x = np.arange(0.8, 3.0, 0.05)\n",
    "delta = 0.1\n",
    "y0 = norm(x, mean_mu0, mean_sigma0) * delta / 2\n",
    "y1 = norm(x, mean_mu1, mean_sigma1) * delta / 2\n",
    "\n",
    "# ラベルを追加します\n",
    "label_0 = 'Bayse versicolor' if mean_mu0 < mean_mu1 else 'Bayse virginica'\n",
    "label_1 = 'Bayse versicolor' if mean_mu0 >= mean_mu1 else 'Bayse virginica'\n",
    "\n",
    "# グラフ描画\n",
    "bins = np.arange(0.8, 3.0, delta)\n",
    "plt.rcParams['figure.figsize']=(6,6)\n",
    "fig, ax = plt.subplots()\n",
    "sns.histplot(data=df_exclude_setosa, bins=bins, x='petal_width',\n",
    "    hue='species', kde=True, ax=ax,  stat='probability')\n",
    "ax.get_lines()[1].set_label('KDE versicolor')\n",
    "ax.get_lines()[0].set_label('KDE virginica')\n",
    "ax.plot(x, y0, c='b', lw=3, label=label_0)\n",
    "ax.plot(x, y1, c='y', lw=3, label=label_1)\n",
    "ax.set_xticks(bins);\n",
    "ax.xaxis.set_tick_params(rotation=90)\n",
    "ax.set_title('ヒストグラムと正規分布関数の重ね描き')\n",
    "plt.legend();"
   ]
  },
  {
   "cell_type": "markdown",
   "id": "1338653f",
   "metadata": {},
   "source": [
    "### 5.4.6 潜在変数の確率分布\n",
    "省略"
   ]
  },
  {
   "cell_type": "markdown",
   "id": "59274547",
   "metadata": {},
   "source": [
    "## 終わりに\n",
    "潜在変数モデルのベイズ推論を行いました。\\\n",
    "数式で考えるのは難しそうですね。"
   ]
  }
 ],
 "metadata": {
  "kernelspec": {
   "display_name": "Python 3",
   "language": "python",
   "name": "python3"
  },
  "language_info": {
   "codemirror_mode": {
    "name": "ipython",
    "version": 3
   },
   "file_extension": ".py",
   "mimetype": "text/x-python",
   "name": "python",
   "nbconvert_exporter": "python",
   "pygments_lexer": "ipython3",
   "version": "3.13.9"
  }
 },
 "nbformat": 4,
 "nbformat_minor": 5
}
