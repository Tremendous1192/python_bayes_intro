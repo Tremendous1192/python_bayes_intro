{
 "cells": [
  {
   "cell_type": "markdown",
   "id": "c52679f6",
   "metadata": {},
   "source": [
    "# 6.1 ABテストの効果検証 - 第6章ベイズ推論の業務活用事例\n",
    "[Pythonでスラスラわかる ベイズ推論「超」入門(赤石 雅典 (著), 須山 敦志 (監修))](https://www.yodobashi.com/product/100000009003770765/)の6.1節のPyMCコードをNumPyroで書き直しました。\\\n",
    "業務で使用することが多いABテストをベイズ推論します。\\\n",
    "シンプルながら奥が深い分析です。"
   ]
  },
  {
   "cell_type": "markdown",
   "id": "dd9aef39",
   "metadata": {},
   "source": [
    "## フォルダ構造とユーティリティ関数、ライブラリimport\n",
    "リンク集の記事にフォルダ構造とユーティリティ関数、ライブラリimportを掲載しました。\\\n",
    "準備としてそちらのページをご覧ください。\n",
    "1. [フォルダ構造とユーティリティ関数]()\n",
    "1. [ライブラリimport]()"
   ]
  },
  {
   "cell_type": "markdown",
   "id": "65335d5b",
   "metadata": {},
   "source": [
    "## モジュールのimport"
   ]
  },
  {
   "cell_type": "code",
   "execution_count": null,
   "id": "381044b4",
   "metadata": {},
   "outputs": [],
   "source": [
    "# Module\n",
    "import sys\n",
    "sys.path.append(\"../\")\n",
    "from mod.numpyro_utility import *\n",
    "\n",
    "# DataFrame, Numerical computation\n",
    "import polars as pl\n",
    "pl.Config(fmt_str_lengths = 100, tbl_cols = 100, tbl_rows = 100)\n",
    "import pandas as pd\n",
    "import numpy as np\n",
    "import jax\n",
    "import jax.numpy as jnp\n",
    "\n",
    "# ベイズ推定\n",
    "import numpyro\n",
    "import numpyro.distributions as dist # 確率分布\n",
    "\n",
    "# plot\n",
    "import matplotlib.pyplot as plt\n",
    "%matplotlib inline\n",
    "import seaborn as sns\n",
    "import arviz as az\n",
    "\n",
    "# plotの設定\n",
    "import json\n",
    "def to_rc_dict(dict):\n",
    "    \"\"\"\n",
    "    jsonファイルのdictを読み込む\n",
    "    \"\"\"\n",
    "    return {f'{k1}.{k2}': v for k1,d in dict.items() for k2,v in d.items()}\n",
    "\n",
    "file_path = \"../mod/rcParams.json\"\n",
    "with open(file_path) as f: \n",
    "    plt.rcParams.update(to_rc_dict(json.load(f)))\n",
    "\n",
    "# 日本語 or 英語の2択\n",
    "import japanize_matplotlib\n",
    "#plt.rcParams['font.family'] = \"Times New Roman\""
   ]
  },
  {
   "cell_type": "markdown",
   "id": "4fe6ed09",
   "metadata": {},
   "source": [
    "## 6.1 ABテストの効果検証"
   ]
  },
  {
   "cell_type": "markdown",
   "id": "212b7b92",
   "metadata": {},
   "source": [
    "### 6.1.1 問題設定\n",
    "参考書籍の問題文を引用します。\n",
    "> 鈴木さんと山田さんは、それぞれ自分の担当のWebページを持っており、担当頁に改善を加えました。\\\n",
    "> そして、回前後のページBと従来のページAをランダムに提示するABテストを実施し、効果検証をしました。\\\n",
    "> その結果が表6.1.1のとおりであった場合、2人それぞれの改善に効果があったかどうかを判断したいということがビジネス上の課題と考えてください。\n",
    "\n",
    "_ | _ | 鈴木さん | 山田さん |\n",
    "---- | ---- | ---- | ---- |\n",
    "従来のページA | 表示数 | 40 | 1,200 |\n",
    "_ | クリック数 | 2 | 60 |\n",
    "_ | クリック率 | 5% | 5% |\n",
    "改善後のページB | 表示数 | 25 | 1,500 |\n",
    "_ | クリック数 | 2 | 110 |\n",
    "_ | クリック率 | 8% | 6.88% |"
   ]
  },
  {
   "cell_type": "markdown",
   "id": "2e0620d2",
   "metadata": {},
   "source": [
    "### 6.1.2 確率モデル定義(鈴木さんの場合)\n",
    "表示数とクリック数の結果を集計したデータで分析する場合を考えます。\\\n",
    "表示回数 $n$ 回のうちクリック数が $y$ 回の場合のモデルを作成します。\n",
    "\n",
    "まず、あるユーザーがクリックした/しないの結果が他のユーザーの行動に一切影響しない、かつクリック率は一定であると仮定します。\\\n",
    "クリック数 $y$ は二項分布に従うと仮定するのが自然です。\n",
    "\n",
    "$$\n",
    "y \\sim Bi(y|p, n)\n",
    "$$\n",
    "\n",
    "次に、クリック率の推論精度を高める情報はありません。\\\n",
    "そのため、確率 $p$ の事前分布は一様分布 $[0,1]$ と仮定するのが無難です。\n",
    "\n",
    "$$\n",
    "p \\sim Uniform(0, 1)\n",
    "$$\n",
    "\n",
    "ここまでの結果を条件付確率の比例式に当てはめます。\n",
    "\n",
    "$$\n",
    "\\begin{aligned}\n",
    "P(H = p|D = (y, n))\n",
    "    \\propto& P(D = (y, n),H = p)\\\\\n",
    "    =& P(y, (n, p))\\\\\n",
    "    =& P(y|(n, p)) \\times P(n, p)\\\\\n",
    "    =& P(y|(n, p)) \\times P(p) \\times P(n)\\\\\n",
    "    \\propto& P(y|(n, p)) \\times P(p)\\\\\n",
    "    =& Bi(y|p, n) \\times Uniform(0, 1)\n",
    "\\end{aligned}\n",
    "$$\n",
    "\n",
    "Webページの改善の効果を調べるので、改善前後のクリック率の差(ポイント)の事後分布で評価します。\n",
    "\n",
    "$$\n",
    "p_{B} - p_{A}\n",
    "$$\n",
    "\n",
    "ここまでの仮定を、後ろの方から記述します。"
   ]
  },
  {
   "cell_type": "code",
   "execution_count": null,
   "id": "685e868a",
   "metadata": {},
   "outputs": [],
   "source": [
    "def model_ab_test(n_a, y_a, n_b, y_b):\n",
    "    '''\n",
    "        6.1節のABテストのモデル\n",
    "    '''\n",
    "    # 確率 $p$ の事前分布は一様分布 $[0,1]$ と仮定するのが無難です。\n",
    "    p_a = numpyro.sample(\"p_a\", dist.Uniform(low = 0, high = 1))\n",
    "    p_b = numpyro.sample(\"p_b\", dist.Uniform(low = 0, high = 1))\n",
    "    # クリック数 $y$ は二項分布に従うと仮定するのが自然です\n",
    "    c_a = numpyro.sample(\"c_a\", dist.Binomial(total_count = n_a, probs = p_a), obs = y_a)\n",
    "    c_b = numpyro.sample(\"c_b\", dist.Binomial(total_count = n_b, probs = p_b), obs = y_b)\n",
    "    # 改善前後のクリック率の差(ポイント)の事後分布で評価します\n",
    "    Δp = numpyro.deterministic(\"Δp\", p_b - p_a)"
   ]
  },
  {
   "cell_type": "markdown",
   "id": "fe2c4334",
   "metadata": {},
   "source": [
    "作成したモデルをプロットします。\\\n",
    "モデル化するとパラメータの関係性が分かります。"
   ]
  },
  {
   "cell_type": "code",
   "execution_count": null,
   "id": "d5de0ccd",
   "metadata": {},
   "outputs": [],
   "source": [
    "model_args = {\n",
    "    \"n_a\": 40,\n",
    "    \"y_a\": 2,\n",
    "    \"n_b\": 25,\n",
    "    \"y_b\": 2,\n",
    "}\n",
    "try_render_model(model_ab_test, render_name = \"ABテストのモデル\", **model_args)"
   ]
  },
  {
   "cell_type": "markdown",
   "id": "22f519d2",
   "metadata": {},
   "source": [
    "### 6.1.3 サンプリングと結果分析\n",
    "データを用意してモデルを作成したら後はユーティリティ関数に渡すだけです。"
   ]
  },
  {
   "cell_type": "code",
   "execution_count": null,
   "id": "a0f88d27",
   "metadata": {},
   "outputs": [],
   "source": [
    "model_args = {\n",
    "    \"n_a\": 40,\n",
    "    \"y_a\": 2,\n",
    "    \"n_b\": 25,\n",
    "    \"y_b\": 2,\n",
    "}\n",
    "idata = run_mcmc(\n",
    "    model_ab_test,\n",
    "    num_chains = 4,\n",
    "    num_warmup = 1000,\n",
    "    num_samples = 1000,\n",
    "    thinning = 1,\n",
    "    seed = 42,\n",
    "    target_accept_prob = 0.99,\n",
    "    log_likelihood = False,\n",
    "    **model_args\n",
    ")"
   ]
  },
  {
   "cell_type": "markdown",
   "id": "54ce6822",
   "metadata": {},
   "source": [
    "まずはサンプリングが上手くいったか確認します。"
   ]
  },
  {
   "cell_type": "code",
   "execution_count": null,
   "id": "4ad6b2ac",
   "metadata": {},
   "outputs": [],
   "source": [
    "az.plot_trace(idata, compact = False, var_names = [\"p_a\", \"p_b\", \"Δp\"])\n",
    "plt.tight_layout()"
   ]
  },
  {
   "cell_type": "markdown",
   "id": "f309306e",
   "metadata": {},
   "source": [
    "知りたかったクリック率の差(ポイント)の事後分布をプロットします。"
   ]
  },
  {
   "cell_type": "code",
   "execution_count": null,
   "id": "048d66cc",
   "metadata": {},
   "outputs": [],
   "source": [
    "ax = az.plot_posterior(idata, var_names=[\"Δp\"])\n",
    "xx, yy = ax.get_lines()[0].get_data()\n",
    "ax.fill_between(xx[xx<0], yy[xx<0]);\n",
    "plt.suptitle(\"鈴木さんのWebページのクリック率改善度合い\")"
   ]
  },
  {
   "cell_type": "markdown",
   "id": "f31f47df",
   "metadata": {},
   "source": [
    "改善前のWebページの方がクリック率が高い確率を計算します。\\\n",
    "$28 \\%$ の確率で改善前の方がクリック率が高いという結果が出ました。\\\n",
    "改善効果がある確率が7割というのはやや信頼性が足りません。"
   ]
  },
  {
   "cell_type": "code",
   "execution_count": null,
   "id": "bfeaf886",
   "metadata": {},
   "outputs": [],
   "source": [
    "# サンプリング結果から　delta_probの値を抽出\n",
    "delta_prob_s = idata['posterior'].data_vars['Δp']\n",
    "delta_prob_s_values = delta_prob_s.values.reshape(-1)\n",
    "\n",
    "# delta_probの値がマイナスであった件数\n",
    "n1_s = (delta_prob_s_values < 0).sum()\n",
    "\n",
    "# 全体サンプル数\n",
    "n_s = len(delta_prob_s_values)\n",
    "\n",
    "# 比率計算\n",
    "n1_rate_s = n1_s/n_s\n",
    "print(f'鈴木さんケース　画面Aの方がクリック率が高い確率: {n1_rate_s*100:.02f}%')"
   ]
  },
  {
   "cell_type": "markdown",
   "id": "f405783c",
   "metadata": {},
   "source": [
    "### 6.1.4 山田さんの場合\n",
    "モデルに渡すデータを変えてもう一度サンプリングを行います。"
   ]
  },
  {
   "cell_type": "code",
   "execution_count": null,
   "id": "43d75290",
   "metadata": {},
   "outputs": [],
   "source": [
    "model_args = {\n",
    "    \"n_a\": 1200,\n",
    "    \"y_a\": 60,\n",
    "    \"n_b\": 1500,\n",
    "    \"y_b\": 110,\n",
    "}\n",
    "idata = run_mcmc(\n",
    "    model_ab_test,\n",
    "    num_chains = 4,\n",
    "    num_warmup = 1000,\n",
    "    num_samples = 1000,\n",
    "    thinning = 1,\n",
    "    seed = 42,\n",
    "    target_accept_prob = 0.99,\n",
    "    log_likelihood = False,\n",
    "    **model_args\n",
    ")"
   ]
  },
  {
   "cell_type": "markdown",
   "id": "5fb72612",
   "metadata": {},
   "source": [
    "まずはサンプリングが上手くいったか確認します。"
   ]
  },
  {
   "cell_type": "code",
   "execution_count": null,
   "id": "3f759a16",
   "metadata": {},
   "outputs": [],
   "source": [
    "az.plot_trace(idata, compact = False, var_names = [\"p_a\", \"p_b\", \"Δp\"])\n",
    "plt.tight_layout()"
   ]
  },
  {
   "cell_type": "markdown",
   "id": "0545936f",
   "metadata": {},
   "source": [
    "知りたかったクリック率の差(ポイント)の事後分布をプロットします。"
   ]
  },
  {
   "cell_type": "code",
   "execution_count": null,
   "id": "c928a6cb",
   "metadata": {},
   "outputs": [],
   "source": [
    "ax = az.plot_posterior(idata, var_names=[\"Δp\"])\n",
    "xx, yy = ax.get_lines()[0].get_data()\n",
    "ax.fill_between(xx[xx<0], yy[xx<0]);\n",
    "plt.suptitle(\"山田さんのWebページのクリック率改善度合い\")"
   ]
  },
  {
   "cell_type": "markdown",
   "id": "5ea24e77",
   "metadata": {},
   "source": [
    "改善前のWebページの方がクリック率が高い確率を計算します。\\\n",
    "$0.75 \\%$ の確率で改善前の方がクリック率が高いという結果が出ました。\\\n",
    "改善効果がある確率が99%というのはとても良いと考えられます。"
   ]
  },
  {
   "cell_type": "code",
   "execution_count": null,
   "id": "073c1afd",
   "metadata": {},
   "outputs": [],
   "source": [
    "# サンプリング結果から　delta_probの値を抽出\n",
    "delta_prob_s = idata['posterior'].data_vars['Δp']\n",
    "delta_prob_s_values = delta_prob_s.values.reshape(-1)\n",
    "\n",
    "# delta_probの値がマイナスであった件数\n",
    "n1_s = (delta_prob_s_values < 0).sum()\n",
    "\n",
    "# 全体サンプル数\n",
    "n_s = len(delta_prob_s_values)\n",
    "\n",
    "# 比率計算\n",
    "n1_rate_s = n1_s/n_s\n",
    "print(f'山田さんケース　画面Aの方がクリック率が高い確率: {n1_rate_s*100:.02f}%')"
   ]
  },
  {
   "cell_type": "markdown",
   "id": "60e2c587",
   "metadata": {},
   "source": [
    "### 6.1.5 確率モデルを直接使った別解\n",
    "省略"
   ]
  },
  {
   "cell_type": "markdown",
   "id": "517675ef",
   "metadata": {},
   "source": [
    "## 終わりに\n",
    "業務で使用することが多いABテストをベイズ推論しました。\\\n",
    "シンプルながら奥が深い分析です。\\\n",
    "書籍でも言及されていましたが、ベイズ推論は事後分布を直接扱えるので直感的な分析が行えます。"
   ]
  }
 ],
 "metadata": {
  "kernelspec": {
   "display_name": "Python 3",
   "language": "python",
   "name": "python3"
  },
  "language_info": {
   "codemirror_mode": {
    "name": "ipython",
    "version": 3
   },
   "file_extension": ".py",
   "mimetype": "text/x-python",
   "name": "python",
   "nbconvert_exporter": "python",
   "pygments_lexer": "ipython3",
   "version": "3.13.9"
  }
 },
 "nbformat": 4,
 "nbformat_minor": 5
}
