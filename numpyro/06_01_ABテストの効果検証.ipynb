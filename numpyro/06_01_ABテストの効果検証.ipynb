{
 "cells": [
  {
   "cell_type": "markdown",
   "id": "36f0c44a",
   "metadata": {},
   "source": [
    "## モジュールのimport"
   ]
  },
  {
   "cell_type": "code",
   "execution_count": null,
   "id": "381044b4",
   "metadata": {},
   "outputs": [],
   "source": [
    "# Module\n",
    "import sys\n",
    "sys.path.append(\"../\")\n",
    "from mod.numpyro_utility import *\n",
    "\n",
    "# DataFrame, Numerical computation\n",
    "import polars as pl\n",
    "pl.Config(fmt_str_lengths = 100, tbl_cols = 100, tbl_rows = 100)\n",
    "import pandas as pd\n",
    "import numpy as np\n",
    "import jax\n",
    "import jax.numpy as jnp\n",
    "#import jax.random as random\n",
    "\n",
    "# ベイズ推定\n",
    "import numpyro\n",
    "import numpyro.distributions as dist # 確率分布\n",
    "\n",
    "# plot\n",
    "import matplotlib.pyplot as plt\n",
    "%matplotlib inline\n",
    "import seaborn as sns\n",
    "import arviz as az\n",
    "\n",
    "# plotの設定\n",
    "import json\n",
    "def to_rc_dict(dict):\n",
    "    \"\"\"\n",
    "    jsonファイルのdictを読み込む\n",
    "    \"\"\"\n",
    "    return {f'{k1}.{k2}': v for k1,d in dict.items() for k2,v in d.items()}\n",
    "\n",
    "file_path = \"../mod/rcParams.json\"\n",
    "with open(file_path) as f: \n",
    "    plt.rcParams.update(to_rc_dict(json.load(f)))\n",
    "\n",
    "# 日本語 or 英語の2択\n",
    "import japanize_matplotlib\n",
    "#plt.rcParams['font.family'] = \"Times New Roman\""
   ]
  },
  {
   "cell_type": "markdown",
   "id": "4fe6ed09",
   "metadata": {},
   "source": [
    "## 6.1 ABテストの効果検証"
   ]
  },
  {
   "cell_type": "markdown",
   "id": "212b7b92",
   "metadata": {},
   "source": [
    "### 6.1.1 問題設定\n",
    "> 鈴木さんと山田さんは、それぞれ自分の担当のWebページを持っており、担当頁に改善を加えました。\\\n",
    "> そして、回前後のページBと従来のページAをランダムに提示するABテストを実施し、効果検証をしました。\\\n",
    "> その結果が表6.1.1のとおりであった場合、2人それぞれの改善に効果があったかどうかを判断したいということがビジネス上の課題と考えてください。\n",
    "\n",
    "_ | _ | 鈴木さん | 山田さん |\n",
    "---- | ---- | ---- | ---- |\n",
    "従来のページA | 表示数 | 40 | 1,200 |\n",
    "_ | クリック数 | 2 | 60 |\n",
    "_ | クリック率 | 5% | 5% |\n",
    "改善後のページB | 表示数 | 25 | 1,500 |\n",
    "_ | クリック数 | 2 | 110 |\n",
    "_ | クリック率 | 8% | 6.88% |"
   ]
  },
  {
   "cell_type": "markdown",
   "id": "2e0620d2",
   "metadata": {},
   "source": [
    "### 6.1.2 確率モデル定義(鈴木さんの場合)\n",
    "数式で整理してから、プログラミングで実装する。\n",
    "\n",
    "1. クリック数は二項分布に従うと仮定する\n",
    "    * $y_{a} \\sim Bi(y|p_{a}, n_{a})$\n",
    "    * $y_{b} \\sim Bi(y|p_{b}, n_{b})$\n",
    "1. クリック率 $p$ の事前分布は一様分布 $[0,1]$ に従うと仮定する。\n",
    "1. Webページの改善効果はクリック率の変化ポイントで評価する。\n",
    "    * $\\Delta p \\equiv p_{b} - p_{a}$"
   ]
  },
  {
   "cell_type": "code",
   "execution_count": null,
   "id": "685e868a",
   "metadata": {},
   "outputs": [],
   "source": [
    "def model_ab_test(n_a, y_a, n_b, y_b):\n",
    "    '''\n",
    "        6.1節のABテストのモデル\n",
    "    '''\n",
    "    # 2. クリック率 $p$ の事前分布は一様分布 $[0,1]$ に従うと仮定する。\n",
    "    p_a = numpyro.sample(\"p_a\", dist.Uniform(low = 0, high = 1))\n",
    "    p_b = numpyro.sample(\"p_b\", dist.Uniform(low = 0, high = 1))\n",
    "    # 1. クリック数は二項分布に従うと仮定する\n",
    "    c_a = numpyro.sample(\"c_a\", dist.Binomial(total_count = n_a, probs = p_a), obs = y_a)\n",
    "    c_b = numpyro.sample(\"c_b\", dist.Binomial(total_count = n_b, probs = p_b), obs = y_b)\n",
    "    # 3. Webページの改善効果はクリック率の変化ポイントで評価する。\n",
    "    Δp = numpyro.deterministic(\"Δp\", p_b - p_a)"
   ]
  },
  {
   "cell_type": "code",
   "execution_count": null,
   "id": "d5de0ccd",
   "metadata": {},
   "outputs": [],
   "source": [
    "model_args = {\n",
    "    \"n_a\": 40,\n",
    "    \"y_a\": 2,\n",
    "    \"n_b\": 25,\n",
    "    \"y_b\": 2,\n",
    "}\n",
    "try_render_model(model_ab_test, render_name = \"ABテストのモデル\", **model_args)"
   ]
  },
  {
   "cell_type": "markdown",
   "id": "22f519d2",
   "metadata": {},
   "source": [
    "### 6.1.3 サンプリングと結果分析"
   ]
  },
  {
   "cell_type": "code",
   "execution_count": null,
   "id": "a0f88d27",
   "metadata": {},
   "outputs": [],
   "source": [
    "model_args = {\n",
    "    \"n_a\": 40,\n",
    "    \"y_a\": 2,\n",
    "    \"n_b\": 25,\n",
    "    \"y_b\": 2,\n",
    "}\n",
    "idata = run_mcmc(model_ab_test, num_chains = 4, num_warmup = 1000, num_samples = 1000, thinning = 1, seed = 42, target_accept_prob = 0.99, log_likelihood = False, **model_args)"
   ]
  },
  {
   "cell_type": "code",
   "execution_count": null,
   "id": "4ad6b2ac",
   "metadata": {},
   "outputs": [],
   "source": [
    "az.plot_trace(idata, compact = False, var_names = [\"p_a\", \"p_b\", \"Δp\"])\n",
    "plt.tight_layout()"
   ]
  },
  {
   "cell_type": "code",
   "execution_count": null,
   "id": "048d66cc",
   "metadata": {},
   "outputs": [],
   "source": [
    "ax = az.plot_posterior(idata, var_names=[\"Δp\"])\n",
    "xx, yy = ax.get_lines()[0].get_data()\n",
    "ax.fill_between(xx[xx<0], yy[xx<0]);\n",
    "plt.suptitle(\"鈴木さんのWebページのクリック率改善度合い\")"
   ]
  },
  {
   "cell_type": "code",
   "execution_count": null,
   "id": "bfeaf886",
   "metadata": {},
   "outputs": [],
   "source": [
    "# サンプリング結果から　delta_probの値を抽出\n",
    "delta_prob_s = idata['posterior'].data_vars['Δp']\n",
    "delta_prob_s_values = delta_prob_s.values.reshape(-1)\n",
    "\n",
    "# delta_probの値がマイナスであった件数\n",
    "n1_s = (delta_prob_s_values < 0).sum()\n",
    "\n",
    "# 全体サンプル数\n",
    "n_s = len(delta_prob_s_values)\n",
    "\n",
    "# 比率計算\n",
    "n1_rate_s = n1_s/n_s\n",
    "print(f'鈴木さんケース　画面Aの方がクリック率が高い確率: {n1_rate_s*100:.02f}%')"
   ]
  },
  {
   "cell_type": "markdown",
   "id": "f405783c",
   "metadata": {},
   "source": [
    "### 6.1.4 山田さんの場合"
   ]
  },
  {
   "cell_type": "code",
   "execution_count": null,
   "id": "43d75290",
   "metadata": {},
   "outputs": [],
   "source": [
    "model_args = {\n",
    "    \"n_a\": 1200,\n",
    "    \"y_a\": 60,\n",
    "    \"n_b\": 1500,\n",
    "    \"y_b\": 110,\n",
    "}\n",
    "idata = run_mcmc(model_ab_test, num_chains = 4, num_warmup = 1000, num_samples = 1000, thinning = 1, seed = 42, target_accept_prob = 0.99, log_likelihood = False, **model_args)"
   ]
  },
  {
   "cell_type": "code",
   "execution_count": null,
   "id": "3f759a16",
   "metadata": {},
   "outputs": [],
   "source": [
    "az.plot_trace(idata, compact = False, var_names = [\"p_a\", \"p_b\", \"Δp\"])\n",
    "plt.tight_layout()"
   ]
  },
  {
   "cell_type": "code",
   "execution_count": null,
   "id": "c928a6cb",
   "metadata": {},
   "outputs": [],
   "source": [
    "ax = az.plot_posterior(idata, var_names=[\"Δp\"])\n",
    "xx, yy = ax.get_lines()[0].get_data()\n",
    "ax.fill_between(xx[xx<0], yy[xx<0]);\n",
    "plt.suptitle(\"山田さんのWebページのクリック率改善度合い\")"
   ]
  },
  {
   "cell_type": "code",
   "execution_count": null,
   "id": "073c1afd",
   "metadata": {},
   "outputs": [],
   "source": [
    "# サンプリング結果から　delta_probの値を抽出\n",
    "delta_prob_s = idata['posterior'].data_vars['Δp']\n",
    "delta_prob_s_values = delta_prob_s.values.reshape(-1)\n",
    "\n",
    "# delta_probの値がマイナスであった件数\n",
    "n1_s = (delta_prob_s_values < 0).sum()\n",
    "\n",
    "# 全体サンプル数\n",
    "n_s = len(delta_prob_s_values)\n",
    "\n",
    "# 比率計算\n",
    "n1_rate_s = n1_s/n_s\n",
    "print(f'山田さんケース　画面Aの方がクリック率が高い確率: {n1_rate_s*100:.02f}%')"
   ]
  },
  {
   "cell_type": "markdown",
   "id": "60e2c587",
   "metadata": {},
   "source": [
    "### 6.1.5 確率モデルを直接使った別解\n",
    "省略"
   ]
  }
 ],
 "metadata": {
  "kernelspec": {
   "display_name": "Python 3",
   "language": "python",
   "name": "python3"
  },
  "language_info": {
   "codemirror_mode": {
    "name": "ipython",
    "version": 3
   },
   "file_extension": ".py",
   "mimetype": "text/x-python",
   "name": "python",
   "nbconvert_exporter": "python",
   "pygments_lexer": "ipython3",
   "version": "3.12.12"
  }
 },
 "nbformat": 4,
 "nbformat_minor": 5
}
