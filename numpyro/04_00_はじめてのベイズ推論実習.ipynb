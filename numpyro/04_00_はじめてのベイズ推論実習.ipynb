{
 "cells": [
  {
   "cell_type": "markdown",
   "id": "19b42da0",
   "metadata": {},
   "source": [
    "# 第4章 はじめてのベイズ推論実習"
   ]
  },
  {
   "cell_type": "markdown",
   "id": "5e80b6ad",
   "metadata": {},
   "source": [
    "## モジュールのimport"
   ]
  },
  {
   "cell_type": "code",
   "execution_count": null,
   "id": "464d63fe",
   "metadata": {},
   "outputs": [],
   "source": [
    "# Module\n",
    "import sys\n",
    "sys.path.append(\"../\")\n",
    "from mod.numpyro_utility import *\n",
    "\n",
    "# DataFrame, Numerical computation\n",
    "import polars as pl\n",
    "pl.Config(fmt_str_lengths = 100, tbl_cols = 100, tbl_rows = 100)\n",
    "import pandas as pd\n",
    "import numpy as np\n",
    "import jax\n",
    "import jax.numpy as jnp\n",
    "#import jax.random as random\n",
    "\n",
    "# ベイズ推定\n",
    "import numpyro\n",
    "import numpyro.distributions as dist # 確率分布\n",
    "\n",
    "# plot\n",
    "import matplotlib.pyplot as plt\n",
    "import json\n",
    "def to_rc_dict(dict):\n",
    "    \"\"\"\n",
    "    jsonファイルのdictを読み込む\n",
    "    \"\"\"\n",
    "    return {f'{k1}.{k2}': v for k1,d in dict.items() for k2,v in d.items()}\n",
    "with open(\"rcParams.json\") as f: \n",
    "    plt.rcParams.update(to_rc_dict(json.load(f)))\n",
    "import seaborn as sns\n",
    "import arviz as az\n",
    "%matplotlib inline\n",
    "\n",
    "# 日本語 or 英語の2択\n",
    "import japanize_matplotlib\n",
    "#plt.rcParams['font.family'] = \"Times New Roman\""
   ]
  },
  {
   "cell_type": "markdown",
   "id": "a37e5fd6",
   "metadata": {},
   "source": [
    "## 4.1 問題設定\n",
    "> 常に確率が一定で、前回の結果が次回に一切影響しないくじ引きがあります。\\\n",
    "> ある人がこのくじ引きを5回引いたところ、結果は「当たり、はずれ、はずれ、当たり、はずれ」でした。\\\n",
    "> 1回のくじ引きに当たる確率を $p$ とするとき、この $p$ の値を求めなさい。"
   ]
  },
  {
   "cell_type": "markdown",
   "id": "6f4a1e7d",
   "metadata": {},
   "source": [
    "## 4.2 最尤推定\n",
    "ベイズ推論ではないので省略する。"
   ]
  },
  {
   "cell_type": "markdown",
   "id": "ca0a8f8a",
   "metadata": {},
   "source": [
    "## 4.3 ベイズ推論(確率モデル定義)\n",
    "ベイズ推論の大きな流れは下記の通り。\n",
    "\n",
    "序数 | 項目 | 説明 |\n",
    "---- | ---- | ---- |\n",
    "1 | データ準備 | 通常の機械学習と同じ。 ```pandas```/```NumPy```などで実施する。 |\n",
    "2 | 確率モデル定義 | 確率変数の関係を確率モデル化し、```PyMC```によりう記述する。 |\n",
    "3 | サンプリング | サンプリングデータの生成。```PyMV```の```sample```関数により実施する。 |\n",
    "4 | 結果分析 | 主に```ArviZ```ライブラリを用いて、サンプリング結果を統計的に分析する。 |"
   ]
  },
  {
   "cell_type": "markdown",
   "id": "de2daaf5",
   "metadata": {},
   "source": [
    "**Step 1. データ準備**\\\n",
    "くじ引きの結果は「試行の結果」であるため、書籍の $X$ ではなく目的変数の $Y$ を使う。\\\n",
    "複数回の試行結果を1次元の配列 $Y \\equiv (y_{0}, \\cdots, y_{4})^{T}$ にデータをまとめる。"
   ]
  },
  {
   "cell_type": "code",
   "execution_count": null,
   "id": "4ffea73b",
   "metadata": {},
   "outputs": [],
   "source": [
    "Y = jnp.array([1, 0, 0, 1, 0], dtype = int)"
   ]
  },
  {
   "cell_type": "markdown",
   "id": "9ba3f21a",
   "metadata": {},
   "source": [
    "**Step 2. 確率モデル定義**\\\n",
    "確率モデルをプログラミングするために、数式を使って整理する。\n",
    "\n",
    "1. 前回の結果が次回に一切影響しないくじ引きである。\n",
    "    * DataFrameの順番を入れ替えても分析結果は変わらない、という意味である。\n",
    "    * 独立同分布, be independent and identically distributed, i.i.d という。\n",
    "1. 確率が一定のくじ引きである。\n",
    "    * 各試行の結果 $y_{i} \\ (i = 0, \\cdots, 4)$ が確率 $p$ のベルヌーイ分布に従うと仮定する。\n",
    "    * $y_{i} \\sim Bern(y∣p)$\n",
    "1. くじ引きの確率 $p$ に関する情報は無い\n",
    "    * 確率 $p$ の事前分布は一様分布 $[0,1]$ と仮定する。\n",
    "\n",
    "PyMCやNumPyroのプログラミングは、上記のまとめを後ろから記述する。"
   ]
  },
  {
   "cell_type": "code",
   "execution_count": null,
   "id": "6ed4e608",
   "metadata": {},
   "outputs": [],
   "source": [
    "def model_Bernoulli(N, Y = None):\n",
    "    '''\n",
    "        第4章のくじ引きの確率モデル\n",
    "    '''\n",
    "    # 3. 確率 $p$ の事前分布は一様分布 $[0,1]$ と仮定する。\n",
    "    p = numpyro.sample(\"p\", dist.Uniform(low = 0, high = 1))\n",
    "    # 2. $y_{i} \\sim Bern(y∣p)$\n",
    "    # ベクトル化\n",
    "    with numpyro.plate(\"N\", N):\n",
    "        numpyro.sample(\"Y\", dist.Bernoulli(probs = p), obs = Y)"
   ]
  },
  {
   "cell_type": "code",
   "execution_count": null,
   "id": "2abc6172",
   "metadata": {},
   "outputs": [],
   "source": [
    "model_args = {\n",
    "    \"N\": len(Y),\n",
    "    \"Y\": Y\n",
    "}\n",
    "try_render_model(model_Bernoulli, render_name = \"Lottery (Bernoulli distribution)\", **model_args)"
   ]
  },
  {
   "cell_type": "markdown",
   "id": "c9a416bb",
   "metadata": {},
   "source": [
    "## 4,4 ベイズ推論(サンプリング)\n",
    "**Step 3. サンプリング**"
   ]
  },
  {
   "cell_type": "code",
   "execution_count": null,
   "id": "90010607",
   "metadata": {},
   "outputs": [],
   "source": [
    "model_args = {\n",
    "    \"N\": len(Y),\n",
    "    \"Y\": Y\n",
    "}\n",
    "mcmc = run_mcmc(model_Bernoulli, num_chains = 4, num_warmup = 1000, num_samples = 1000, thinning = 1, seed = 42, **model_args)"
   ]
  },
  {
   "cell_type": "markdown",
   "id": "c2d23e11",
   "metadata": {},
   "source": [
    "## 4.5 ベイズ推論(結果分析)\n",
    "**Step 4. 結果分析**\n",
    "### 4.5.1 plot_trace関数"
   ]
  },
  {
   "cell_type": "code",
   "execution_count": null,
   "id": "664adaa7",
   "metadata": {},
   "outputs": [],
   "source": [
    "az.plot_trace(mcmc, compact = False)\n",
    "plt.tight_layout()"
   ]
  },
  {
   "cell_type": "markdown",
   "id": "8a1babbb",
   "metadata": {},
   "source": [
    "### 4.5.2 plot_posterior 関数"
   ]
  },
  {
   "cell_type": "code",
   "execution_count": null,
   "id": "5ab2c28f",
   "metadata": {},
   "outputs": [],
   "source": [
    "ax = az.plot_posterior(mcmc)\n",
    "ax.set_xlim(0, 1)\n",
    "plt.suptitle(\"ベイズ推論結果 初期版\")\n",
    "plt.tight_layout()\n",
    "plt.show()"
   ]
  },
  {
   "cell_type": "markdown",
   "id": "7f1a7e1e",
   "metadata": {},
   "source": [
    "### 4.5.3 summary関数"
   ]
  },
  {
   "cell_type": "code",
   "execution_count": null,
   "id": "fa6d4aa7",
   "metadata": {},
   "outputs": [],
   "source": [
    "summary = az.summary(mcmc)\n",
    "display(summary)"
   ]
  },
  {
   "cell_type": "markdown",
   "id": "6cecf778",
   "metadata": {},
   "source": [
    "## 4.6 ベイズ推論(二項分布バージョン)\n",
    "4.5節のくじ引きの例はデータを集計した取り扱いのほうが多い(5回中2回当たりだった)。\\\n",
    "前節と同様に数式、プログラミングの順番でデータを分析する。\n",
    "\n",
    "1. 前回の結果が次回に一切影響しないくじ引きを複数回試行した結果を集約した。\n",
    "    * 当たりを引いた回数は二項分布 $y \\sim Bi(y|p, n)$ に従うと仮定する。\n",
    "1. くじ引きの確率 $p$ に関する情報は無い\n",
    "    * 確率 $p$ の事前分布は一様分布 $[0,1]$ と仮定する。"
   ]
  },
  {
   "cell_type": "code",
   "execution_count": null,
   "id": "6f5acebe",
   "metadata": {},
   "outputs": [],
   "source": [
    "def model_Binomial(N, y = None):\n",
    "    '''\n",
    "        第4章のくじ引きの二項分布モデル\n",
    "    '''\n",
    "    # 2. 確率 $p$ の事前分布は一様分布 $[0,1]$ と仮定する。\n",
    "    p = numpyro.sample(\"p\", dist.Uniform(low = 0, high = 1))\n",
    "    # 1. 当たりを引いた回数は二項分布 $y \\sim Bi(y|p, n)$ に従うと仮定する。\n",
    "    numpyro.sample(\"y\", dist.Binomial(total_count = N, probs = p), obs = y)"
   ]
  },
  {
   "cell_type": "code",
   "execution_count": null,
   "id": "28261770",
   "metadata": {},
   "outputs": [],
   "source": [
    "y = len(Y[Y > 0])\n",
    "model_args = {\n",
    "    \"N\": len(Y),\n",
    "    \"y\": y\n",
    "}\n",
    "try_render_model(model_Binomial, render_name = \"Lottery (Binomial distribution)\", **model_args)"
   ]
  },
  {
   "cell_type": "code",
   "execution_count": null,
   "id": "86d7f655",
   "metadata": {},
   "outputs": [],
   "source": [
    "y = len(Y[Y > 0])\n",
    "model_args = {\n",
    "    \"N\": len(Y),\n",
    "    \"y\": y\n",
    "}\n",
    "mcmc = run_mcmc(model_Binomial, num_chains = 4, num_warmup = 1000, num_samples = 1000, thinning = 1, seed = 42, **model_args)"
   ]
  },
  {
   "cell_type": "code",
   "execution_count": null,
   "id": "2277507f",
   "metadata": {},
   "outputs": [],
   "source": [
    "ax = az.plot_posterior(mcmc)\n",
    "ax.set_xlim(0, 1)\n",
    "plt.suptitle(\"ベイズ推論結果 二項分布版\")\n",
    "plt.tight_layout()\n",
    "plt.show()"
   ]
  },
  {
   "cell_type": "code",
   "execution_count": null,
   "id": "abbd7ef5",
   "metadata": {},
   "outputs": [],
   "source": [
    "summary = az.summary(mcmc)\n",
    "display(summary)"
   ]
  },
  {
   "cell_type": "markdown",
   "id": "0bfcba5b",
   "metadata": {},
   "source": [
    "## 4.7 ベイズ推論(試行回数を増やす)"
   ]
  },
  {
   "cell_type": "code",
   "execution_count": null,
   "id": "b9806f5e",
   "metadata": {},
   "outputs": [],
   "source": [
    "model_args = {\n",
    "    \"N\": 50,\n",
    "    \"y\": 20\n",
    "}\n",
    "mcmc = run_mcmc(model_Binomial, num_chains = 4, num_warmup = 1000, num_samples = 1000, thinning = 1, seed = 42, **model_args)"
   ]
  },
  {
   "cell_type": "code",
   "execution_count": null,
   "id": "6d90b5db",
   "metadata": {},
   "outputs": [],
   "source": [
    "ax = az.plot_posterior(mcmc)\n",
    "ax.set_xlim(0, 1)\n",
    "plt.suptitle(\"試行回数を増やす (n=50)\")\n",
    "plt.tight_layout()\n",
    "plt.show()"
   ]
  },
  {
   "cell_type": "code",
   "execution_count": null,
   "id": "f04d5446",
   "metadata": {},
   "outputs": [],
   "source": [
    "summary = az.summary(mcmc)\n",
    "display(summary)"
   ]
  },
  {
   "cell_type": "markdown",
   "id": "645e684a",
   "metadata": {},
   "source": [
    "## 4.8 ベイズ推論(事前分布の変更)"
   ]
  },
  {
   "cell_type": "code",
   "execution_count": null,
   "id": "838e2c24",
   "metadata": {},
   "outputs": [],
   "source": [
    "def model_Binomial_modified(N, y = None):\n",
    "    '''\n",
    "        前節の二項分布モデルに関して、当たりの確率の事前知識があった場合のモデル\n",
    "    '''\n",
    "    # 2. 確率 $p$ の事前分布である一様分布の値域を事前知識に基づいて修正する。\n",
    "    p = numpyro.sample(\"p\", dist.Uniform(low = 0.1, high = 0.9))\n",
    "    # 1. 当たりを引いた回数は二項分布 $y \\sim Bi(y|p, n)$ に従うと仮定する。\n",
    "    numpyro.sample(\"y\", dist.Binomial(total_count = N, probs = p), obs = y)"
   ]
  },
  {
   "cell_type": "code",
   "execution_count": null,
   "id": "a2a45e27",
   "metadata": {},
   "outputs": [],
   "source": [
    "# 4.6節と同じ試行回数で検証する。\n",
    "y = len(Y[Y > 0])\n",
    "model_args = {\n",
    "    \"N\": len(Y),\n",
    "    \"y\": y\n",
    "}\n",
    "mcmc = run_mcmc(model_Binomial_modified, num_chains = 4, num_warmup = 1000, num_samples = 1000, thinning = 1, seed = 42, **model_args)"
   ]
  },
  {
   "cell_type": "code",
   "execution_count": null,
   "id": "f9d9c25f",
   "metadata": {},
   "outputs": [],
   "source": [
    "ax = az.plot_posterior(mcmc)\n",
    "ax.set_xlim(0, 1)\n",
    "plt.suptitle(\"事前分布変更版 [0.1, 0.9], (n=5)\")\n",
    "plt.tight_layout()\n",
    "plt.show()"
   ]
  },
  {
   "cell_type": "code",
   "execution_count": null,
   "id": "5600fa38",
   "metadata": {},
   "outputs": [],
   "source": [
    "summary = az.summary(mcmc)\n",
    "display(summary)"
   ]
  },
  {
   "cell_type": "markdown",
   "id": "21f0aeaa",
   "metadata": {},
   "source": [
    "## 4.9 ベータ分布で直接確率分布を求める\n",
    "ベイズ推論ではないので省略する。"
   ]
  }
 ],
 "metadata": {
  "kernelspec": {
   "display_name": "Python 3",
   "language": "python",
   "name": "python3"
  },
  "language_info": {
   "codemirror_mode": {
    "name": "ipython",
    "version": 3
   },
   "file_extension": ".py",
   "mimetype": "text/x-python",
   "name": "python",
   "nbconvert_exporter": "python",
   "pygments_lexer": "ipython3",
   "version": "3.12.12"
  }
 },
 "nbformat": 4,
 "nbformat_minor": 5
}
