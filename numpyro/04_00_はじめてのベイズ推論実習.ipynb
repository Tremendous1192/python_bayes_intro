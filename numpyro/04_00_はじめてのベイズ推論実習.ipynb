{
 "cells": [
  {
   "cell_type": "markdown",
   "id": "19b42da0",
   "metadata": {},
   "source": [
    "# 第4章 はじめてのベイズ推論実習"
   ]
  },
  {
   "cell_type": "markdown",
   "id": "b85db153",
   "metadata": {},
   "source": [
    "## はじめに\n",
    "[Pythonでスラスラわかる ベイズ推論「超」入門(赤石 雅典 (著), 須山 敦志 (監修))](https://www.yodobashi.com/product/100000009003770765/)の第4章のPyMCコードをNumPyroで書き直しました。\\\n",
    "くじ引きを例にベルヌーイ分布と二項分布のベイズ推論を行います。\\\n",
    "この例で数式から書き始めるのは冗長ですが、後の例の練習と信じてお付き合いください。"
   ]
  },
  {
   "cell_type": "markdown",
   "id": "fa5a7256",
   "metadata": {},
   "source": [
    "## フォルダ構造とユーティリティ関数、ライブラリimport\n",
    "リンク集の記事にフォルダ構造とユーティリティ関数、ライブラリimportを掲載しました。\\\n",
    "準備としてそちらのページをご覧ください。\n",
    "1. [フォルダ構造とユーティリティ関数]()\n",
    "1. [ライブラリimport]()"
   ]
  },
  {
   "cell_type": "markdown",
   "id": "5e80b6ad",
   "metadata": {},
   "source": [
    "## モジュールのimport"
   ]
  },
  {
   "cell_type": "code",
   "execution_count": null,
   "id": "464d63fe",
   "metadata": {},
   "outputs": [],
   "source": [
    "# Module\n",
    "import sys\n",
    "sys.path.append(\"../\")\n",
    "from mod.numpyro_utility import *\n",
    "\n",
    "# DataFrame, Numerical computation\n",
    "import polars as pl\n",
    "pl.Config(fmt_str_lengths = 100, tbl_cols = 100, tbl_rows = 100)\n",
    "import pandas as pd\n",
    "import numpy as np\n",
    "import jax\n",
    "import jax.numpy as jnp\n",
    "\n",
    "# ベイズ推定\n",
    "import numpyro\n",
    "import numpyro.distributions as dist # 確率分布\n",
    "\n",
    "# plot\n",
    "import matplotlib.pyplot as plt\n",
    "%matplotlib inline\n",
    "import seaborn as sns\n",
    "import arviz as az\n",
    "\n",
    "# plotの設定\n",
    "#import json\n",
    "#def to_rc_dict(dict):\n",
    "#    \"\"\"\n",
    "#    jsonファイルのdictを読み込む\n",
    "#    \"\"\"\n",
    "#    return {f'{k1}.{k2}': v for k1,d in dict.items() for k2,v in d.items()}\n",
    "\n",
    "#file_path = \"../mod/rcParams.json\"\n",
    "#with open(file_path) as f: \n",
    "#    plt.rcParams.update(to_rc_dict(json.load(f)))\n",
    "\n",
    "# 日本語 or 英語の2択\n",
    "import japanize_matplotlib\n",
    "#plt.rcParams['font.family'] = \"Times New Roman\""
   ]
  },
  {
   "cell_type": "markdown",
   "id": "a37e5fd6",
   "metadata": {},
   "source": [
    "## 4.1 問題設定\n",
    "参考書籍の問題文を引用します。\n",
    "> 常に確率が一定で、前回の結果が次回に一切影響しないくじ引きがあります。\\\n",
    "> ある人がこのくじ引きを5回引いたところ、結果は「当たり、はずれ、はずれ、当たり、はずれ」でした。\\\n",
    "> 1回のくじ引きに当たる確率を $p$ とするとき、この $p$ の値を求めなさい。"
   ]
  },
  {
   "cell_type": "markdown",
   "id": "6f4a1e7d",
   "metadata": {},
   "source": [
    "## 4.2 最尤推定\n",
    "ベイズ推論ではないので省略します。"
   ]
  },
  {
   "cell_type": "markdown",
   "id": "ca0a8f8a",
   "metadata": {},
   "source": [
    "## 4.3 ベイズ推論(確率モデル定義)\n",
    "ベイズ推論の大きな流れは下記の通りです。\\\n",
    "参考書籍のPyMCの部分をNumPyroで書き直します。\n",
    "\n",
    "序数 | 項目 | 説明 |\n",
    "---- | ---- | ---- |\n",
    "1 | データ準備 | 通常の機械学習と同じ。 ```pandas```/```NumPy```などで実施する。 |\n",
    "2 | 確率モデル定義 | 確率変数の関係を確率モデル化し、```PyMC```などで記述する。 |\n",
    "3 | サンプリング | サンプリングデータの生成。```PyMC```の```sample```関数により実施する。 |\n",
    "4 | 結果分析 | 主に```ArviZ```ライブラリを用いて、サンプリング結果を統計的に分析する。 |"
   ]
  },
  {
   "cell_type": "markdown",
   "id": "de2daaf5",
   "metadata": {},
   "source": [
    "**Step 1. データ準備**\\\n",
    "くじ引きの結果は「試行の結果」であるため、書籍の $X$ ではなく目的変数の $Y$ を使います。\\\n",
    "複数回の試行結果を1次元の配列 $Y \\equiv (y_{0}, \\cdots, y_{4})^{T}$ にデータをまとめる。"
   ]
  },
  {
   "cell_type": "code",
   "execution_count": null,
   "id": "4ffea73b",
   "metadata": {},
   "outputs": [],
   "source": [
    "Y = jnp.array([1, 0, 0, 1, 0], dtype = int)"
   ]
  },
  {
   "cell_type": "markdown",
   "id": "9ba3f21a",
   "metadata": {},
   "source": [
    "**Step 2. 確率モデル定義**\\\n",
    "確率モデルをプログラミングするために、数式を使って状況を整理します。\n",
    "\n",
    "まず、前回の結果が次回に一切影響しない、かつ確率が一定のくじ引きであると仮定しました。\\\n",
    "くじ引きの結果 $y_{i} \\ (i = 0, \\cdots, 4)$ がベルヌーイ分布に従うと仮定するのが自然です。\n",
    "\n",
    "$$\n",
    "y \\sim Bern(y∣p)\n",
    "$$\n",
    "\n",
    "次に、くじ引きの確率の推論精度を高める情報はありません。\\\n",
    "そのため、確率 $p$ の事前分布は一様分布 $[0,1]$ と仮定するのが無難です。\n",
    "\n",
    "$$\n",
    "p \\sim Uniform(0, 1)\n",
    "$$\n",
    "\n",
    "ここまでの結果を条件付確率 $P(H|D)=P(D,H)/P(D)$ の比例式 $P(H|D) \\propto P(D,H)$ に当てはめます。\n",
    "\n",
    "$$\n",
    "\\begin{aligned}\n",
    "P(H = p|D = y)\n",
    "    \\propto& P(D = y,H = p)\\\\\n",
    "    =& P(D = y|H = p) \\times P(p)\\\\\n",
    "    =& Bern(y∣p) \\times Uniform(0, 1)\n",
    "\\end{aligned}\n",
    "$$\n",
    "\n",
    "PyMCやNumPyroのプログラミングは、右辺の最後の式を後ろから記述します。"
   ]
  },
  {
   "cell_type": "code",
   "execution_count": null,
   "id": "6ed4e608",
   "metadata": {},
   "outputs": [],
   "source": [
    "def model_Bernoulli(N, Y = None):\n",
    "    '''\n",
    "        第4章のくじ引きの確率モデル(ベルヌーイ分布)\n",
    "    '''\n",
    "    # 確率 $p$ の事前分布は一様分布 $[0,1]$ と仮定する\n",
    "    p = numpyro.sample(\"p\", dist.Uniform(low = 0, high = 1))\n",
    "    # くじ引きの結果 $y_{i} \\ (i = 0, \\cdots, 4)$ がベルヌーイ分布に従うと仮定する\n",
    "    # ベクトル化(学習用データを確率変数に割り当てるためのNumPyroのお作法)\n",
    "    with numpyro.plate(\"N\", N):\n",
    "        numpyro.sample(\"y\", dist.Bernoulli(probs = p), obs = Y)"
   ]
  },
  {
   "cell_type": "markdown",
   "id": "81c04cd2",
   "metadata": {},
   "source": [
    "作成したモデルをプロットします。"
   ]
  },
  {
   "cell_type": "code",
   "execution_count": null,
   "id": "2abc6172",
   "metadata": {},
   "outputs": [],
   "source": [
    "model_args = {\n",
    "    \"N\": len(Y),\n",
    "    \"Y\": Y\n",
    "}\n",
    "try_render_model(model_Bernoulli, render_name = \"くじ引き(ベルヌーイ分布)\", **model_args)"
   ]
  },
  {
   "cell_type": "markdown",
   "id": "c9a416bb",
   "metadata": {},
   "source": [
    "## 4.4 ベイズ推論(サンプリング)\n",
    "**Step 3. サンプリング**\\\n",
    "ユーティリティ関数を使ってサンプリングを行います。"
   ]
  },
  {
   "cell_type": "code",
   "execution_count": null,
   "id": "90010607",
   "metadata": {},
   "outputs": [],
   "source": [
    "model_args = {\n",
    "    \"N\": len(Y),\n",
    "    \"Y\": Y\n",
    "}\n",
    "idata = run_mcmc(\n",
    "    model_Bernoulli,\n",
    "    num_chains = 4,\n",
    "    num_warmup = 1000,\n",
    "    num_samples = 1000,\n",
    "    thinning = 1,\n",
    "    seed = 42,\n",
    "    target_accept_prob = 0.8,\n",
    "    log_likelihood = False,\n",
    "    **model_args\n",
    ")"
   ]
  },
  {
   "cell_type": "markdown",
   "id": "c2d23e11",
   "metadata": {},
   "source": [
    "## 4.5 ベイズ推論(結果分析)\n",
    "結果分析からは書籍とほぼ同じコードです。\\\n",
    "PyMCのサンプリング部分をNumPyroに書き換えても同じようにコードを実行できるのがオブジェクト指向プログラミングの強みです。\n",
    "\n",
    "**Step 4. 結果分析**\n",
    "### 4.5.1 plot_trace関数\n",
    "サンプリングが上手いったのかを確認します。\\\n",
    "右側のプロットに傾向が見られない場合良いサンプリングができています。"
   ]
  },
  {
   "cell_type": "code",
   "execution_count": null,
   "id": "664adaa7",
   "metadata": {},
   "outputs": [],
   "source": [
    "az.plot_trace(idata, compact = False)\n",
    "plt.tight_layout()"
   ]
  },
  {
   "cell_type": "markdown",
   "id": "8a1babbb",
   "metadata": {},
   "source": [
    "### 4.5.2 plot_posterior 関数\n",
    "くじ引きの確率 $p$ の事後分布をプロットします。\\\n",
    "5回中2回すなわち40%の割合で当たりがでた結果を反映して、くじ引きの確率は40%付近であると推定されました。"
   ]
  },
  {
   "cell_type": "code",
   "execution_count": null,
   "id": "5ab2c28f",
   "metadata": {},
   "outputs": [],
   "source": [
    "ax = az.plot_posterior(idata)\n",
    "ax.set_xlim(0, 1)\n",
    "plt.suptitle(\"ベイズ推論結果 初期版\")\n",
    "plt.tight_layout()\n",
    "plt.show()"
   ]
  },
  {
   "cell_type": "markdown",
   "id": "7f1a7e1e",
   "metadata": {},
   "source": [
    "### 4.5.3 summary関数\n",
    "テーブルデータで事後分布の概要を知りたい場合があります。\\\n",
    "そのときに活躍するのがsummary関数です。"
   ]
  },
  {
   "cell_type": "code",
   "execution_count": null,
   "id": "fa6d4aa7",
   "metadata": {},
   "outputs": [],
   "source": [
    "summary = az.summary(idata)\n",
    "display(summary)"
   ]
  },
  {
   "cell_type": "markdown",
   "id": "6cecf778",
   "metadata": {},
   "source": [
    "## 4.6 ベイズ推論(二項分布バージョン)\n",
    "くじ引きの結果を集計したデータで分析する場合を考えます。\\\n",
    "$n$ 回中 $y$ 回当たりを引いた場合を考えるということになります。\n",
    "\n",
    "まず、前回の結果が次回に一切影響しない、かつ確率が一定のくじ引きであると仮定しました。\\\n",
    "当たりを引いた回数 $y$ は二項分布に従うと仮定するのが自然です。\n",
    "\n",
    "$$\n",
    "y \\sim Bi(y|p, n)\n",
    "$$\n",
    "\n",
    "次に、くじ引きの確率の推論精度を高める情報はありません。\\\n",
    "そのため、確率 $p$ の事前分布は一様分布 $[0,1]$ と仮定するのが無難です。\n",
    "\n",
    "$$\n",
    "p \\sim Uniform(0, 1)\n",
    "$$\n",
    "\n",
    "ここまでの結果を条件付確率の比例式に当てはめます。\n",
    "\n",
    "$$\n",
    "\\begin{aligned}\n",
    "P(H = p|D = y)\n",
    "    \\propto& P(D = y,H = p)\\\\\n",
    "    =& P(D = y|H = p) \\times P(p)\\\\\n",
    "    =& Bi(y|p, n) \\times Uniform(0, 1)\n",
    "\\end{aligned}\n",
    "$$\n",
    "\n",
    "ベルヌーイ分布のときと同様にNumPyroのモデルを作成します。"
   ]
  },
  {
   "cell_type": "code",
   "execution_count": null,
   "id": "6f5acebe",
   "metadata": {},
   "outputs": [],
   "source": [
    "def model_Binomial(n, y = None):\n",
    "    '''\n",
    "        第4章のくじ引きの二項分布モデル\n",
    "    '''\n",
    "    # 確率 $p$ の事前分布は一様分布 $[0,1]$ と仮定する\n",
    "    p = numpyro.sample(\"p\", dist.Uniform(low = 0, high = 1))\n",
    "    # 二項分布のパラメータを明示的にプロットするための処理\n",
    "    n = numpyro.deterministic(\"n\", n)\n",
    "    # 当たりを引いた回数 $y$ は二項分布に従うと仮定する\n",
    "    numpyro.sample(\"y\", dist.Binomial(total_count = n, probs = p), obs = y)"
   ]
  },
  {
   "cell_type": "markdown",
   "id": "ec95e597",
   "metadata": {},
   "source": [
    "ベルヌーイ分布のときと同様にユーティリティ関数を使ってサンプリングを行います。"
   ]
  },
  {
   "cell_type": "code",
   "execution_count": null,
   "id": "28261770",
   "metadata": {},
   "outputs": [],
   "source": [
    "y = len(Y[Y > 0])\n",
    "model_args = {\n",
    "    \"n\": len(Y),\n",
    "    \"y\": y\n",
    "}\n",
    "try_render_model(model_Binomial, render_name = \"くじ引き(二項分布)\", **model_args)"
   ]
  },
  {
   "cell_type": "markdown",
   "id": "0c6ddb43",
   "metadata": {},
   "source": [
    "サンプリングと結果分析も同様に行います。"
   ]
  },
  {
   "cell_type": "code",
   "execution_count": null,
   "id": "86d7f655",
   "metadata": {},
   "outputs": [],
   "source": [
    "y = len(Y[Y > 0])\n",
    "model_args = {\n",
    "    \"n\": len(Y),\n",
    "    \"y\": y\n",
    "}\n",
    "idata = run_mcmc(\n",
    "    model_Binomial,\n",
    "    num_chains = 4,\n",
    "    num_warmup = 1000,\n",
    "    num_samples = 1000,\n",
    "    thinning = 1,\n",
    "    seed = 42,\n",
    "    target_accept_prob = 0.8,\n",
    "    log_likelihood = False,\n",
    "    **model_args\n",
    ")"
   ]
  },
  {
   "cell_type": "markdown",
   "id": "737680fd",
   "metadata": {},
   "source": [
    "事後分布をプロットします。\\\n",
    "くじ引きの確率 $p$ を知りたいので $p$ を選択してプロットします。"
   ]
  },
  {
   "cell_type": "code",
   "execution_count": null,
   "id": "2277507f",
   "metadata": {},
   "outputs": [],
   "source": [
    "ax = az.plot_posterior(idata, var_names = [\"p\"])\n",
    "ax.set_xlim(0, 1)\n",
    "plt.suptitle(\"ベイズ推論結果 二項分布版\")\n",
    "plt.tight_layout()\n",
    "plt.show()"
   ]
  },
  {
   "cell_type": "code",
   "execution_count": null,
   "id": "abbd7ef5",
   "metadata": {},
   "outputs": [],
   "source": [
    "summary = az.summary(idata, var_names = [\"p\"])\n",
    "display(summary)"
   ]
  },
  {
   "cell_type": "markdown",
   "id": "0bfcba5b",
   "metadata": {},
   "source": [
    "## 4.7 ベイズ推論(試行回数を増やす)\n",
    "さらにくじを引いて50回中20回あたりがでた場合を試してみます。\\\n",
    "事後分布がさらに狭くなって「確信が高まった」ことがわかります。"
   ]
  },
  {
   "cell_type": "code",
   "execution_count": null,
   "id": "b9806f5e",
   "metadata": {},
   "outputs": [],
   "source": [
    "model_args = {\n",
    "    \"n\": 50,\n",
    "    \"y\": 20\n",
    "}\n",
    "idata = run_mcmc(\n",
    "    model_Binomial,\n",
    "    num_chains = 4,\n",
    "    num_warmup = 1000,\n",
    "    num_samples = 1000,\n",
    "    thinning = 1,\n",
    "    seed = 42,\n",
    "    target_accept_prob = 0.8,\n",
    "    log_likelihood = False,\n",
    "    **model_args\n",
    ")"
   ]
  },
  {
   "cell_type": "code",
   "execution_count": null,
   "id": "6d90b5db",
   "metadata": {},
   "outputs": [],
   "source": [
    "ax = az.plot_posterior(idata, var_names = [\"p\"])\n",
    "ax.set_xlim(0, 1)\n",
    "plt.suptitle(\"試行回数を増やす (n=50)\")\n",
    "plt.tight_layout()\n",
    "plt.show()"
   ]
  },
  {
   "cell_type": "code",
   "execution_count": null,
   "id": "f04d5446",
   "metadata": {},
   "outputs": [],
   "source": [
    "summary = az.summary(idata, var_names = [\"p\"])\n",
    "display(summary)"
   ]
  },
  {
   "cell_type": "markdown",
   "id": "645e684a",
   "metadata": {},
   "source": [
    "## 4.8 ベイズ推論(事前分布の変更)\n",
    "書籍のままだと変化が小さいので、数値を変えます。\\\n",
    "あなたがくじを引く前に友人がくじ引きを行って10回中2回当たりを引いたと聞いていたとします。\\\n",
    "友人の後に最初の例と同様にあなたは5回中2回あたりを引きました。\\\n",
    "この場合のくじの確率 $p$ を推論してみます。\n",
    "\n",
    "友人の試行によって確率の範囲を絞ることができそうです。\\\n",
    "くじの確率 $p$ の事前分布は 一様分布 $[0,1]$ から $[0,0.4]$ くらいにせばめてもよさそうです。\n",
    "\n",
    "事前分布の範囲を修正した確率モデルを作成します。"
   ]
  },
  {
   "cell_type": "code",
   "execution_count": null,
   "id": "838e2c24",
   "metadata": {},
   "outputs": [],
   "source": [
    "def model_Binomial_modified(n, y = None):\n",
    "    '''\n",
    "        前節の二項分布モデルに関して、当たりの確率の事前知識があった場合のモデル\n",
    "    '''\n",
    "    # 確率 $p$ の事前分布である一様分布の値域を事前知識に基づいて修正する。\n",
    "    p = numpyro.sample(\"p\", dist.Uniform(low = 0, high = 0.4))\n",
    "    # 二項分布のパラメータを明示的にプロットするための処理\n",
    "    n = numpyro.deterministic(\"n\", n)\n",
    "    # 当たりを引いた回数 $y$ は二項分布に従うと仮定する\n",
    "    numpyro.sample(\"y\", dist.Binomial(total_count = n, probs = p), obs = y)"
   ]
  },
  {
   "cell_type": "code",
   "execution_count": null,
   "id": "a2a45e27",
   "metadata": {},
   "outputs": [],
   "source": [
    "# 4.6節と同じ試行回数で検証する。\n",
    "y = len(Y[Y > 0])\n",
    "model_args = {\n",
    "    \"n\": len(Y),\n",
    "    \"y\": y\n",
    "}\n",
    "idata = run_mcmc(\n",
    "    model_Binomial_modified,\n",
    "    num_chains = 4,\n",
    "    num_warmup = 1000,\n",
    "    num_samples = 1000,\n",
    "    thinning = 1,\n",
    "    seed = 42,\n",
    "    target_accept_prob = 0.8,\n",
    "    log_likelihood = False,\n",
    "    **model_args\n",
    ")"
   ]
  },
  {
   "cell_type": "markdown",
   "id": "bdece195",
   "metadata": {},
   "source": [
    "事後分布をプロットすると友人が当たりを引いた割合(20%)と高くあなたが当たりを引いた割合(40%)の間の値の可能性が高そうです。\\\n",
    "互いに試行回数が少ないので中間の結論になったのだと考えられます。\\\n",
    "ベイズ推論はこのように事前の情報とデータを組み合わせた推論を行うことができます。"
   ]
  },
  {
   "cell_type": "code",
   "execution_count": null,
   "id": "f9d9c25f",
   "metadata": {},
   "outputs": [],
   "source": [
    "ax = az.plot_posterior(idata, var_names = [\"p\"])\n",
    "ax.set_xlim(0, 1)\n",
    "plt.suptitle(\"事前分布変更版 [0.1, 0.9], (n=5)\")\n",
    "plt.tight_layout()\n",
    "plt.show()"
   ]
  },
  {
   "cell_type": "code",
   "execution_count": null,
   "id": "5600fa38",
   "metadata": {},
   "outputs": [],
   "source": [
    "summary = az.summary(idata, var_names = [\"p\"])\n",
    "display(summary)"
   ]
  },
  {
   "cell_type": "markdown",
   "id": "21f0aeaa",
   "metadata": {},
   "source": [
    "## 4.9 ベータ分布で直接確率分布を求める\n",
    "PyMCのコードではないので省略します。"
   ]
  },
  {
   "cell_type": "markdown",
   "id": "e7200079",
   "metadata": {},
   "source": [
    "## 終わりに\n",
    "シンプルな例を使ってベイズ推論を行うことができました。\\\n",
    "複雑な事象であってもこの例と同じ流れで問題に挑むことができる一貫性がベイズ推論の人気の理由の一つです。\\\n",
    "奥深い世界を味わう助けになれば幸いです。"
   ]
  }
 ],
 "metadata": {
  "kernelspec": {
   "display_name": "Python 3",
   "language": "python",
   "name": "python3"
  },
  "language_info": {
   "codemirror_mode": {
    "name": "ipython",
    "version": 3
   },
   "file_extension": ".py",
   "mimetype": "text/x-python",
   "name": "python",
   "nbconvert_exporter": "python",
   "pygments_lexer": "ipython3",
   "version": "3.13.9"
  }
 },
 "nbformat": 4,
 "nbformat_minor": 5
}
