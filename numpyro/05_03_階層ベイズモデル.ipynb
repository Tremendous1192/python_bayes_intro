{
 "cells": [
  {
   "cell_type": "markdown",
   "id": "3e9f29d3",
   "metadata": {},
   "source": [
    "## モジュールのimport"
   ]
  },
  {
   "cell_type": "code",
   "execution_count": null,
   "id": "b9ddd856",
   "metadata": {},
   "outputs": [],
   "source": [
    "# Module\n",
    "import sys\n",
    "sys.path.append(\"../\")\n",
    "from mod.numpyro_utility import *\n",
    "\n",
    "# DataFrame, Numerical computation\n",
    "import polars as pl\n",
    "pl.Config(fmt_str_lengths = 100, tbl_cols = 100, tbl_rows = 100)\n",
    "import pandas as pd\n",
    "import numpy as np\n",
    "import jax\n",
    "import jax.numpy as jnp\n",
    "\n",
    "# ベイズ推定\n",
    "import numpyro\n",
    "import numpyro.distributions as dist # 確率分布\n",
    "\n",
    "# plot\n",
    "import matplotlib.pyplot as plt\n",
    "%matplotlib inline\n",
    "import seaborn as sns\n",
    "import arviz as az\n",
    "\n",
    "# plotの設定\n",
    "import json\n",
    "def to_rc_dict(dict):\n",
    "    \"\"\"\n",
    "    jsonファイルのdictを読み込む\n",
    "    \"\"\"\n",
    "    return {f'{k1}.{k2}': v for k1,d in dict.items() for k2,v in d.items()}\n",
    "\n",
    "file_path = \"../mod/rcParams.json\"\n",
    "with open(file_path) as f: \n",
    "    plt.rcParams.update(to_rc_dict(json.load(f)))\n",
    "\n",
    "# 日本語 or 英語の2択\n",
    "import japanize_matplotlib\n",
    "#plt.rcParams['font.family'] = \"Times New Roman\""
   ]
  },
  {
   "cell_type": "markdown",
   "id": "3cf65a38",
   "metadata": {},
   "source": [
    "## 5.3 階層ベイズモデル"
   ]
  },
  {
   "cell_type": "markdown",
   "id": "41e4c00c",
   "metadata": {},
   "source": [
    "### 5.3.1 問題設定\n",
    "3種類の花から3つずつデータを抽出して、がく片の長さと幅の1次関数近似を行う。"
   ]
  },
  {
   "cell_type": "markdown",
   "id": "c91d909c",
   "metadata": {},
   "source": [
    "### 5.3.2 データ準備"
   ]
  },
  {
   "cell_type": "code",
   "execution_count": null,
   "id": "622faf85",
   "metadata": {},
   "outputs": [],
   "source": [
    "# データセットを読み込む\n",
    "df = sns.load_dataset(\"iris\")\n",
    "\n",
    "# setosa を抽出する\n",
    "df_setosa = df.query('species == \"setosa\"')\n",
    "df_versicolor = df.query('species == \"versicolor\"')\n",
    "df_virginica = df.query('species == \"virginica\"')\n",
    "\n",
    "# 乱数により3個のインデックスを生成\n",
    "import random\n",
    "random.seed(42)\n",
    "indexes =range(len(df_setosa))\n",
    "sample_indexes=random.sample(indexes, 3)\n",
    "\n",
    "# df0, df1, df2のデータ数をそれぞれ3行にする\n",
    "df_setosa_sel = df_setosa.iloc[sample_indexes]\n",
    "df_versicolor_sel = df_versicolor.iloc[sample_indexes]\n",
    "df_virginica_sel = df_virginica.iloc[sample_indexes]\n",
    "\n",
    "#　全部連結して一つにする\n",
    "df_sel = pd.concat([df_setosa_sel, df_versicolor_sel, df_virginica_sel]).reset_index(drop=True)\n",
    "\n",
    "# 加工結果の確認\n",
    "display(df_sel)"
   ]
  },
  {
   "cell_type": "code",
   "execution_count": null,
   "id": "3408d561",
   "metadata": {},
   "outputs": [],
   "source": [
    "sns.scatterplot(\n",
    "    x='sepal_length', y='sepal_width', hue='species', style='species',\n",
    "    data=df_sel, s=100)\n",
    "plt.title('抽出した計9個の観測値の散布図');"
   ]
  },
  {
   "cell_type": "code",
   "execution_count": null,
   "id": "a29e5ad8",
   "metadata": {},
   "outputs": [],
   "source": [
    "X = jnp.array(df_sel['sepal_length'].values, dtype = float)\n",
    "Y = jnp.array(df_sel['sepal_width'].values, dtype = float)\n",
    "species = df_sel['species']\n",
    "cl = jnp.array(pd.Categorical(species).codes, dtype = int)\n",
    "\n",
    "# 結果確認\n",
    "print(X)\n",
    "print(Y)\n",
    "print(species.values)\n",
    "print(cl)"
   ]
  },
  {
   "cell_type": "markdown",
   "id": "15e2c681",
   "metadata": {},
   "source": [
    "### 5.3.3 確率モデル定義\n",
    "数式で整理して、プログラミングで実装する。\\\n",
    "前節よりもさらに複雑である。\n",
    "\n",
    "1. がく片の長さ sepal_length $x$ とがく片の幅 sepal_width $y$ とを1次関数で近似できる。\n",
    "    * $y_{i} \\approx \\omega_{0}[cl] + \\omega_{1}[cl] x_{i}$\n",
    "    * $cl$ は花の種類の通し番号\n",
    "1. 1次関数の右辺を $\\mu_{i}$ とおく。\n",
    "    * $\\mu_{i} \\equiv \\omega_{0}[cl] + \\omega_{1}[cl] x_{i}$\n",
    "1. がく片の幅 sepal_width $y$ が正規分布に従うと仮定する。\n",
    "    * 形状パラメータの $\\mu_{i}$ が説明変数によって変化すると仮定する。\n",
    "    * $y_{i} \\sim N(\\mu_{i}, \\epsilon^2)$\n",
    "    * 正規分布の標準偏差 $\\epsilon$ の情報はないので広めの値を取る\n",
    "        * $\\epsilon \\sim HN(10^2)$\n",
    "1. 切片や係数の値は花の種類ごとに異なる\n",
    "    * $\\omega_{0}[cl] \\sim N(\\mu_{0}[cl], \\sigma_{0}[cl]^2)$\n",
    "        * $\\mu_{0}[cl] \\sim N(0, 10^2)$\n",
    "        * $\\sigma_{0}[cl] \\sim HN(10^2)$\n",
    "    * $\\omega_{1}[cl] \\sim N(\\mu[cl], \\sigma[cl]^2)$\n",
    "        * $\\mu_{1}[cl] \\sim N(0, 10^2)$\n",
    "        * $\\sigma_{1}[cl] \\sim HN(10^2)$"
   ]
  },
  {
   "cell_type": "code",
   "execution_count": null,
   "id": "945c1ec5",
   "metadata": {},
   "outputs": [],
   "source": [
    "def model_hierarchical_bayes(X, Y = None, cl = None, n_groups = None):\n",
    "    '''\n",
    "        5.3節の3種類の花の1次関数近似の階層ベイズモデル\n",
    "    '''\n",
    "    # 4.1 $\\omega_{0}[cl] \\sim N(\\mu_{0}[cl], \\sigma_{0}[cl]^2)$\n",
    "    μ_ω0 = numpyro.sample(\"μ_ω0\", dist.Normal(loc = 0, scale = 10))\n",
    "    σ_ω0 = numpyro.sample(\"σ_ω0\", dist.HalfNormal(scale = 10))\n",
    "    with numpyro.plate(\"group\", n_groups):\n",
    "        ω0 = numpyro.sample(\"ω0\", dist.Normal(loc = μ_ω0, scale = σ_ω0))\n",
    "    # $\\omega_{1}[cl] \\sim N(\\mu[cl], \\sigma[cl]^2)$\n",
    "    μ_ω1 = numpyro.sample(\"μ_ω1\", dist.Normal(loc = 0, scale = 10))\n",
    "    σ_ω1 = numpyro.sample(\"σ_ω1\", dist.HalfNormal(scale = 10))\n",
    "    with numpyro.plate(\"group\", n_groups):\n",
    "        ω1 = numpyro.sample(\"ω1\", dist.Normal(loc = μ_ω1, scale = σ_ω1))\n",
    "    # 2. 1次関数の右辺を $\\mu_{i}$ とおく。\n",
    "    μ = numpyro.deterministic(\"μ\", ω0[cl] + ω1[cl] * X)\n",
    "    # 3. 正規分布の標準偏差は $\\epsilon \\sim HN(10^2)$ と仮定する。\n",
    "    ε = numpyro.sample(\"ε\", dist.HalfNormal(scale = 10))\n",
    "    # ベクトル化\n",
    "    N = len(X)\n",
    "    with numpyro.plate(\"N\", N):\n",
    "        # 1. $y_{i} \\sim N(\\mu, \\sigma^2)$\n",
    "        numpyro.sample(\"Y\", dist.Normal(loc = μ, scale = ε), obs = Y)"
   ]
  },
  {
   "cell_type": "code",
   "execution_count": null,
   "id": "06a8c625",
   "metadata": {},
   "outputs": [],
   "source": [
    "model_args = {\n",
    "    \"X\": X,\n",
    "    \"Y\": Y,\n",
    "    \"cl\": cl,\n",
    "    \"n_groups\": len(species.unique())\n",
    "}\n",
    "try_render_model(model_hierarchical_bayes, render_name = \"階層ベイズ\", **model_args)"
   ]
  },
  {
   "cell_type": "markdown",
   "id": "ae2e2a88",
   "metadata": {},
   "source": [
    "### 5.3.4 サンプリングと結果分析"
   ]
  },
  {
   "cell_type": "code",
   "execution_count": null,
   "id": "47104232",
   "metadata": {},
   "outputs": [],
   "source": [
    "model_args = {\n",
    "    \"X\": X,\n",
    "    \"Y\": Y,\n",
    "    \"cl\": cl,\n",
    "    \"n_groups\": len(species.unique())\n",
    "}\n",
    "idata = run_mcmc(\n",
    "    model_hierarchical_bayes,\n",
    "    num_chains = 4,\n",
    "    num_warmup = 1000,\n",
    "    num_samples = 1000,\n",
    "    thinning = 1,\n",
    "    seed = 42,\n",
    "    target_accept_prob = 0.8,\n",
    "    log_likelihood = False,\n",
    "    **model_args\n",
    ")"
   ]
  },
  {
   "cell_type": "code",
   "execution_count": null,
   "id": "ee5e6d46",
   "metadata": {},
   "outputs": [],
   "source": [
    "az.plot_trace(idata, compact = False, var_names = [\"ω0\", \"ω1\", \"ε\"])\n",
    "plt.tight_layout()"
   ]
  },
  {
   "cell_type": "code",
   "execution_count": null,
   "id": "3b696f43",
   "metadata": {},
   "outputs": [],
   "source": [
    "summary = az.summary(idata, var_names = [\"ω0\", \"ω1\", \"ε\"])\n",
    "display(summary)"
   ]
  },
  {
   "cell_type": "markdown",
   "id": "7512c25c",
   "metadata": {},
   "source": [
    "### 5.3.5 散布図と回帰直線の重ね描き"
   ]
  },
  {
   "cell_type": "code",
   "execution_count": null,
   "id": "071eda36",
   "metadata": {},
   "outputs": [],
   "source": [
    "# 元書籍とほぼ同じ\n",
    "# alphaとbetaの平均値の導出\n",
    "means = summary['mean']\n",
    "ω0_0 = means['ω0[0]']\n",
    "ω0_1 = means['ω0[1]']\n",
    "ω0_2 = means['ω0[2]']\n",
    "ω1_0 = means['ω1[0]']\n",
    "ω1_1 = means['ω1[1]']\n",
    "ω1_2 = means['ω1[2]']\n",
    "\n",
    "# 回帰直線用座標値の計算\n",
    "x_range = np.array([X.min()-0.1,X.max()+0.1])\n",
    "y0_range = ω1_0 * x_range + ω0_0\n",
    "y1_range = ω1_1 * x_range + ω0_1\n",
    "y2_range = ω1_2 * x_range + ω0_2\n",
    "\n",
    "# 散布図表示\n",
    "sns.scatterplot(\n",
    "    x='sepal_length', y='sepal_width', hue='species', style='species',\n",
    "    data=df_sel, s=100)\n",
    "plt.plot(x_range, y0_range, label='setosa')\n",
    "plt.plot(x_range, y1_range, label='versicolor')\n",
    "plt.plot(x_range, y2_range, label='virginica')\n",
    "plt.legend();"
   ]
  },
  {
   "cell_type": "code",
   "execution_count": null,
   "id": "60c6c15e",
   "metadata": {},
   "outputs": [],
   "source": [
    "# 回帰直線の座標値計算\n",
    "x_range = np.array([\n",
    "    df['sepal_length'].min()-0.1,\n",
    "    df['sepal_length'].max()+0.1])\n",
    "y0_range = ω1_0 * x_range + ω0_0\n",
    "y1_range = ω1_1 * x_range + ω0_1\n",
    "y2_range = ω1_2 * x_range + ω0_2\n",
    "\n",
    "# 散布図表示\n",
    "sns.scatterplot(\n",
    "    x='sepal_length', y='sepal_width', hue='species', style='species',\n",
    "    s=50, data=df)\n",
    "plt.plot(x_range, y0_range, label='setosa')\n",
    "plt.plot(x_range, y1_range, label='versicolor')\n",
    "plt.plot(x_range, y2_range, label='virginica')\n",
    "plt.legend();"
   ]
  }
 ],
 "metadata": {
  "kernelspec": {
   "display_name": "Python 3",
   "language": "python",
   "name": "python3"
  },
  "language_info": {
   "codemirror_mode": {
    "name": "ipython",
    "version": 3
   },
   "file_extension": ".py",
   "mimetype": "text/x-python",
   "name": "python",
   "nbconvert_exporter": "python",
   "pygments_lexer": "ipython3",
   "version": "3.13.9"
  }
 },
 "nbformat": 4,
 "nbformat_minor": 5
}
