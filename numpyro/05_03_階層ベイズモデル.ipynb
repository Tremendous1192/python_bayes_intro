{
 "cells": [
  {
   "cell_type": "markdown",
   "id": "3e9f29d3",
   "metadata": {},
   "source": [
    "# 5.3 階層ベイズモデル - 第5章ベイズ推論プログラミング\n",
    "[Pythonでスラスラわかる ベイズ推論「超」入門(赤石 雅典 (著), 須山 敦志 (監修))](https://www.yodobashi.com/product/100000009003770765/)の5.3節のPyMCコードをNumPyroで書き直しました。\\\n",
    "アイリス・データセットの3種類の花のデータを3個ずつ抽出しました。\\\n",
    "合計9個のデータで3種類の花のがく片の長さ```sepal_length```とがく片の幅```sepal_width```の1次関数近似のベイズ推論を行います。\\\n",
    "関連するデータが少しずつあるという業務でありがちな状況でベイズ推論が輝きます。"
   ]
  },
  {
   "cell_type": "markdown",
   "id": "ead73bd6",
   "metadata": {},
   "source": [
    "## フォルダ構造とユーティリティ関数、ライブラリimport\n",
    "リンク集の記事にフォルダ構造とユーティリティ関数、ライブラリimportを掲載しました。\\\n",
    "準備としてそちらのページをご覧ください。\n",
    "1. [フォルダ構造とユーティリティ関数]()\n",
    "1. [ライブラリimport]()"
   ]
  },
  {
   "cell_type": "markdown",
   "id": "5b84c611",
   "metadata": {},
   "source": [
    "## モジュールのimport"
   ]
  },
  {
   "cell_type": "code",
   "execution_count": null,
   "id": "b9ddd856",
   "metadata": {},
   "outputs": [],
   "source": [
    "# Module\n",
    "import sys\n",
    "sys.path.append(\"../\")\n",
    "from mod.numpyro_utility import *\n",
    "\n",
    "# DataFrame, Numerical computation\n",
    "import polars as pl\n",
    "pl.Config(fmt_str_lengths = 100, tbl_cols = 100, tbl_rows = 100)\n",
    "import pandas as pd\n",
    "import numpy as np\n",
    "import jax\n",
    "import jax.numpy as jnp\n",
    "\n",
    "# ベイズ推定\n",
    "import numpyro\n",
    "import numpyro.distributions as dist # 確率分布\n",
    "\n",
    "# plot\n",
    "import matplotlib.pyplot as plt\n",
    "%matplotlib inline\n",
    "import seaborn as sns\n",
    "import arviz as az\n",
    "\n",
    "# plotの設定\n",
    "import json\n",
    "def to_rc_dict(dict):\n",
    "    \"\"\"\n",
    "    jsonファイルのdictを読み込む\n",
    "    \"\"\"\n",
    "    return {f'{k1}.{k2}': v for k1,d in dict.items() for k2,v in d.items()}\n",
    "\n",
    "file_path = \"../mod/rcParams.json\"\n",
    "with open(file_path) as f: \n",
    "    plt.rcParams.update(to_rc_dict(json.load(f)))\n",
    "\n",
    "# 日本語 or 英語の2択\n",
    "import japanize_matplotlib\n",
    "#plt.rcParams['font.family'] = \"Times New Roman\""
   ]
  },
  {
   "cell_type": "markdown",
   "id": "3cf65a38",
   "metadata": {},
   "source": [
    "## 5.3 階層ベイズモデル"
   ]
  },
  {
   "cell_type": "markdown",
   "id": "41e4c00c",
   "metadata": {},
   "source": [
    "### 5.3.1 問題設定\n",
    "3種類の花から3つずつデータを抽出して、がく片の長さと幅の1次関数近似を行います。"
   ]
  },
  {
   "cell_type": "markdown",
   "id": "c91d909c",
   "metadata": {},
   "source": [
    "### 5.3.2 データ準備\n",
    "問題設定の通りにデータを抽出します。"
   ]
  },
  {
   "cell_type": "code",
   "execution_count": null,
   "id": "622faf85",
   "metadata": {},
   "outputs": [],
   "source": [
    "# データセットを読み込む\n",
    "df = sns.load_dataset(\"iris\")\n",
    "\n",
    "# setosa を抽出する\n",
    "df_setosa = df.query('species == \"setosa\"')\n",
    "df_versicolor = df.query('species == \"versicolor\"')\n",
    "df_virginica = df.query('species == \"virginica\"')\n",
    "\n",
    "# 乱数により3個のインデックスを生成\n",
    "import random\n",
    "random.seed(42)\n",
    "indexes =range(len(df_setosa))\n",
    "sample_indexes=random.sample(indexes, 3)\n",
    "\n",
    "# df0, df1, df2のデータ数をそれぞれ3行にする\n",
    "df_setosa_sel = df_setosa.iloc[sample_indexes]\n",
    "df_versicolor_sel = df_versicolor.iloc[sample_indexes]\n",
    "df_virginica_sel = df_virginica.iloc[sample_indexes]\n",
    "\n",
    "#　全部連結して一つにする\n",
    "df_sel = pd.concat([df_setosa_sel, df_versicolor_sel, df_virginica_sel]).reset_index(drop=True)\n",
    "\n",
    "# 加工結果の確認\n",
    "display(df_sel)"
   ]
  },
  {
   "cell_type": "markdown",
   "id": "f51a1e9d",
   "metadata": {},
   "source": [
    "抽出したデータの散布図をプロットします。\\\n",
    "versicolorとvirginicaは1次関数近似できそうですが、setosaはデータが集中しすぎて1次関数近似が難しそうです。"
   ]
  },
  {
   "cell_type": "code",
   "execution_count": null,
   "id": "3408d561",
   "metadata": {},
   "outputs": [],
   "source": [
    "sns.scatterplot(\n",
    "    x='sepal_length', y='sepal_width', hue='species', style='species',\n",
    "    data=df_sel, s=100)\n",
    "plt.xticks([4, 5, 6, 7, 8])\n",
    "plt.yticks([1, 2, 3, 4, 5])\n",
    "plt.title('抽出した計9個の観測値の散布図');"
   ]
  },
  {
   "cell_type": "code",
   "execution_count": null,
   "id": "a29e5ad8",
   "metadata": {},
   "outputs": [],
   "source": [
    "X = jnp.array(df_sel['sepal_length'].values, dtype = float)\n",
    "Y = jnp.array(df_sel['sepal_width'].values, dtype = float)\n",
    "species = df_sel['species']\n",
    "cl = jnp.array(pd.Categorical(species).codes, dtype = int)\n",
    "\n",
    "# 結果確認\n",
    "print(X)\n",
    "print(Y)\n",
    "print(species.values)\n",
    "print(cl)"
   ]
  },
  {
   "cell_type": "markdown",
   "id": "15e2c681",
   "metadata": {},
   "source": [
    "### 5.3.3 確率モデル定義\n",
    "確率モデルをプログラミングするために、前章と同様に数式を使って状況を整理します。\n",
    "\n",
    "まず、散布図より $N$ 組の ```sepal_length``` $x_{i}$ とがく片の幅 ```sepal_width``` $y_{i}$ は1次関数で近似できると仮定します。\\\n",
    "このとき1次関数の切片と傾きは花の種類の序数 $s$ 毎に異なる値を取ると仮定します。\n",
    "\n",
    "$$\n",
    "y_{i} \\approx \\omega_{0, s} + \\omega_{1, s} x_{i}\n",
    "$$\n",
    "\n",
    "ただでさえデータが少ないのにさらに分割するのは不安ですが先に進めます。\\\n",
    "確率モデルを作成するためのテクニックとして、右辺を $\\mu_{i}$ とおくことにします。\n",
    "\n",
    "$$\n",
    "\\mu_{i} \\equiv \\omega_{0, s} + \\omega_{1, s} x_{i}\\\\\n",
    "\\Rightarrow y_{i} \\approx \\mu_{i}\n",
    "$$\n",
    "\n",
    "$y_{i}$ は $x_{i}$ の値に応じた定数 $\\mu_{i}$ に近い値を取ると読むことができます。\\\n",
    "5.1節の正規分布の仮定とほぼ同じですね。\\\n",
    "$y_{i}$ が $x_{i}$ の値に応じた平均値 $\\mu_{i}$ をパラメータに持つ正規分布に従うと仮定します。\n",
    "\n",
    "$$\n",
    "y_{i} \\sim N(\\mu_{i}, \\sigma^2)\n",
    "$$\n",
    "\n",
    "1次関数近似のベイズ推論は、1次関数のパラメータ $\\{ \\omega_{0, s}, \\omega_{1, s} \\}$ と正規分布の標準偏差 $\\sigma$ を求める問題になりました。\\\n",
    "階層ベイズはさらにもう一段階の確率分布の仮定をおきます。\\\n",
    "1次関数のパラメータ $\\{ \\omega_{0, s}, \\omega_{1, s} \\}$ はそれぞれが花の種類ごとの平均と標準偏差を持つ正規分布に従うと仮定します。\n",
    "\n",
    "$$\n",
    "\\begin{aligned}\n",
    "\\omega_{0, s} \\sim& N(\\mu_{\\omega_{0}, s}, \\sigma_{\\omega_{0}, s}^2)\\\\\n",
    "\\mu_{\\omega_{0}, s} \\sim& N(0,10^2)\\\\\n",
    "\\sigma_{\\omega_{0}, s} \\sim& HN(10^2)\\\\\n",
    "\n",
    "\\omega_{1, s} \\sim& N(\\mu_{\\omega_{1}, s}, \\sigma_{\\omega_{1}, s}^2)\\\\\n",
    "\\mu_{\\omega_{1}, s} \\sim& N(0,10^2)\\\\\n",
    "\\sigma_{\\omega_{1}, s} \\sim& HN(10^2)\n",
    "\\end{aligned}\n",
    "$$\n",
    "\n",
    "\n",
    "標準偏差 $\\sigma$ は標準偏差10の半正規分布に従うと仮定します。\\\n",
    "さらに、これらのパラメータは互いに独立であると仮定します。\n",
    "\n",
    "$$\n",
    "\\begin{aligned}\n",
    "\\sigma \\sim& HN(0,10^2)\n",
    "\\end{aligned}\n",
    "$$\n",
    "\n",
    "ここまでの結果を条件付確率 $P(H|D)=P(D,H)/P(D)$ の比例式 $P(H|D) \\propto P(D,H)$ に当てはめます。\\\n",
    "説明変数とパラメータは互いに独立であると仮定します。\n",
    "\n",
    "$$\n",
    "\\begin{aligned}\n",
    "P(H = (\\omega_{0, s}, \\omega_{1, s}, \\sigma)|D = (x, y))\n",
    "    \\propto& P(D = (x, y),H = (\\omega_{0, s}, \\omega_{1, s}, \\sigma))\\\\\n",
    "    =& P(y, (x, \\omega_{0, s}, \\omega_{1, s}, \\sigma))\\\\\n",
    "    =& P(y| (x, \\omega_{0, s}, \\omega_{1, s}, \\sigma)) \\times P(x, \\omega_{0, s}, \\omega_{1, s}, \\sigma)\\\\\n",
    "    =& P(y| (x, \\omega_{0, s}, \\omega_{1, s}, \\sigma)) \\times P(x) \\times P(\\omega_{0, s}) \\times P(\\omega_{1, s}) \\times P(\\sigma)\n",
    "    =& N(\\mu_{i}, \\sigma^2) \\times P(x)\n",
    "    \\times N(\\mu_{\\omega_{0}, s}, \\sigma_{\\omega_{0}, s}^2) \\ N(0,10^2) \\ HN(10^2)\n",
    "    \\times N(\\mu_{\\omega_{1}, s}, \\sigma_{\\omega_{1}, s}^2) \\ N(1,10^2) \\ HN(10^2)\n",
    "    \\times HN(0,10^2)\\\\\n",
    "    \\propto& N(\\mu_{i}, \\sigma^2)\n",
    "    \\times N(\\mu_{\\omega_{0}, s}, \\sigma_{\\omega_{0}, s}^2) \\ N(0,10^2) \\ HN(10^2)\n",
    "    \\times N(\\mu_{\\omega_{1}, s}, \\sigma_{\\omega_{1}, s}^2) \\ N(1,10^2) \\ HN(10^2)\n",
    "    \\times HN(0,10^2)\n",
    "\\end{aligned}\n",
    "$$\n",
    "\n",
    "PyMCやNumPyroのプログラミングは、右辺の最後の式を後ろから記述します。"
   ]
  },
  {
   "cell_type": "code",
   "execution_count": null,
   "id": "945c1ec5",
   "metadata": {},
   "outputs": [],
   "source": [
    "def model_hierarchical_bayes(X, Y = None, cl = None, n_groups = None):\n",
    "    '''\n",
    "        5.3節の3種類の花の1次関数近似の階層ベイズモデル\n",
    "    '''\n",
    "    # 1次関数のパラメータ $\\{ \\omega_{0, s}, \\omega_{1, s} \\}$ はそれぞれが花の種類ごとの平均と標準偏差を持つ正規分布に従うと仮定します\n",
    "    μ_ω0 = numpyro.sample(\"μ_ω0\", dist.Normal(loc = 0, scale = 10))\n",
    "    σ_ω0 = numpyro.sample(\"σ_ω0\", dist.HalfNormal(scale = 10))\n",
    "    # ベクトル化(階層ベイズの花の種類の数を確率変数に割り当てるためのNumPyroのお作法)\n",
    "    with numpyro.plate(\"group\", n_groups):\n",
    "        ω0 = numpyro.sample(\"ω0\", dist.Normal(loc = μ_ω0, scale = σ_ω0))\n",
    "    # 傾きも切片と同様にモデルを定義する\n",
    "    μ_ω1 = numpyro.sample(\"μ_ω1\", dist.Normal(loc = 0, scale = 10))\n",
    "    σ_ω1 = numpyro.sample(\"σ_ω1\", dist.HalfNormal(scale = 10))\n",
    "    with numpyro.plate(\"group\", n_groups):\n",
    "        ω1 = numpyro.sample(\"ω1\", dist.Normal(loc = μ_ω1, scale = σ_ω1))\n",
    "    # 1次関数の右辺を $\\mu_{i}$ とおきます\n",
    "    μ = numpyro.deterministic(\"μ\", ω0[cl] + ω1[cl] * X)\n",
    "    # 正規分布の標準偏差は標準偏差10の半正規分布に従うと仮定します\n",
    "    σ = numpyro.sample(\"σ\", dist.HalfNormal(scale = 10))\n",
    "    # 目的変数 y は説明変数 x の値に応じた平均値 μ をパラメータとする正規分布に従うと仮定します。\n",
    "    # ベクトル化(学習用データを確率変数に割り当てるためのNumPyroのお作法)\n",
    "    N = len(X)\n",
    "    with numpyro.plate(\"N\", N):\n",
    "        numpyro.sample(\"Y\", dist.Normal(loc = μ, scale = σ), obs = Y)"
   ]
  },
  {
   "cell_type": "markdown",
   "id": "b96e88cf",
   "metadata": {},
   "source": [
    "作成したﾓﾃﾞﾙをプロットします。\\\n",
    "1次関数の確率分布にさらにもう一段階上の確率分布を仮定するのが階層ベイズモデルです。"
   ]
  },
  {
   "cell_type": "code",
   "execution_count": null,
   "id": "06a8c625",
   "metadata": {},
   "outputs": [],
   "source": [
    "model_args = {\n",
    "    \"X\": X,\n",
    "    \"Y\": Y,\n",
    "    \"cl\": cl,\n",
    "    \"n_groups\": len(species.unique())\n",
    "}\n",
    "try_render_model(model_hierarchical_bayes, render_name = \"階層ベイズ\", **model_args)"
   ]
  },
  {
   "cell_type": "markdown",
   "id": "ae2e2a88",
   "metadata": {},
   "source": [
    "### 5.3.4 サンプリングと結果分析\n",
    "データを用意してモデルを作成したら後はユーティリティ関数に渡すだけです。"
   ]
  },
  {
   "cell_type": "code",
   "execution_count": null,
   "id": "47104232",
   "metadata": {},
   "outputs": [],
   "source": [
    "model_args = {\n",
    "    \"X\": X,\n",
    "    \"Y\": Y,\n",
    "    \"cl\": cl,\n",
    "    \"n_groups\": len(species.unique())\n",
    "}\n",
    "idata = run_mcmc(\n",
    "    model_hierarchical_bayes,\n",
    "    num_chains = 4,\n",
    "    num_warmup = 1000,\n",
    "    num_samples = 1000,\n",
    "    thinning = 1,\n",
    "    seed = 42,\n",
    "    target_accept_prob = 0.8,\n",
    "    log_likelihood = False,\n",
    "    **model_args\n",
    ")"
   ]
  },
  {
   "cell_type": "markdown",
   "id": "3c438bf6",
   "metadata": {},
   "source": [
    "結果分析のコードは書籍とほぼ同じです。\n",
    "\n",
    "まずはサンプリングが上手くいったか確認します。"
   ]
  },
  {
   "cell_type": "code",
   "execution_count": null,
   "id": "ee5e6d46",
   "metadata": {},
   "outputs": [],
   "source": [
    "az.plot_trace(idata, compact = False, var_names = [\"ω0\", \"ω1\", \"σ\"])\n",
    "plt.tight_layout()"
   ]
  },
  {
   "cell_type": "markdown",
   "id": "18ecc93f",
   "metadata": {},
   "source": [
    "知りたかった1次関数の切片と傾きの事後分布をプロットします。"
   ]
  },
  {
   "cell_type": "code",
   "execution_count": null,
   "id": "3b696f43",
   "metadata": {},
   "outputs": [],
   "source": [
    "summary = az.summary(idata, var_names = [\"ω0\", \"ω1\"])\n",
    "display(summary)"
   ]
  },
  {
   "cell_type": "markdown",
   "id": "7512c25c",
   "metadata": {},
   "source": [
    "### 5.3.5 散布図と回帰直線の重ね描き\n",
    "花の種類ごとの1次関数近似の直線と答えの散布図をプロットします。\\\n",
    "たった9個のデータから計算したとは思えない精度です。"
   ]
  },
  {
   "cell_type": "code",
   "execution_count": null,
   "id": "071eda36",
   "metadata": {},
   "outputs": [],
   "source": [
    "# alphaとbetaの平均値の導出\n",
    "means = summary['mean']\n",
    "ω0_0 = means['ω0[0]']\n",
    "ω0_1 = means['ω0[1]']\n",
    "ω0_2 = means['ω0[2]']\n",
    "ω1_0 = means['ω1[0]']\n",
    "ω1_1 = means['ω1[1]']\n",
    "ω1_2 = means['ω1[2]']\n",
    "\n",
    "# 回帰直線用座標値の計算\n",
    "x_range = np.array([df['sepal_length'].min()-0.1, df['sepal_length'].max()+0.1+0.1])\n",
    "y0_range = ω1_0 * x_range + ω0_0\n",
    "y1_range = ω1_1 * x_range + ω0_1\n",
    "y2_range = ω1_2 * x_range + ω0_2\n",
    "\n",
    "# 散布図表示\n",
    "sns.scatterplot(\n",
    "    x='sepal_length', y='sepal_width', hue='species', style='species',\n",
    "    data=df_sel, s=50)\n",
    "plt.plot(x_range, y0_range, label='setosa')\n",
    "plt.plot(x_range, y1_range, label='versicolor')\n",
    "plt.plot(x_range, y2_range, label='virginica')\n",
    "plt.legend();"
   ]
  },
  {
   "cell_type": "code",
   "execution_count": null,
   "id": "32706fce",
   "metadata": {},
   "outputs": [],
   "source": [
    "# 散布図表示\n",
    "sns.scatterplot(\n",
    "    x='sepal_length', y='sepal_width', hue='species', style='species',\n",
    "    data=df, s=50)\n",
    "plt.plot(x_range, y0_range, label='setosa')\n",
    "plt.plot(x_range, y1_range, label='versicolor')\n",
    "plt.plot(x_range, y2_range, label='virginica')\n",
    "plt.legend();"
   ]
  },
  {
   "cell_type": "markdown",
   "id": "646327b7",
   "metadata": {},
   "source": [
    "## 終わりに\n",
    "階層ベイズモデルのベイズ推論を行いました。\\\n",
    "関連するデータが少しずつあるという業務でありがちな状況でベイズ推論が輝くことが分かりました。"
   ]
  }
 ],
 "metadata": {
  "kernelspec": {
   "display_name": "Python 3",
   "language": "python",
   "name": "python3"
  },
  "language_info": {
   "codemirror_mode": {
    "name": "ipython",
    "version": 3
   },
   "file_extension": ".py",
   "mimetype": "text/x-python",
   "name": "python",
   "nbconvert_exporter": "python",
   "pygments_lexer": "ipython3",
   "version": "3.13.9"
  }
 },
 "nbformat": 4,
 "nbformat_minor": 5
}
