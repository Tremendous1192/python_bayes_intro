{
 "cells": [
  {
   "cell_type": "markdown",
   "id": "c3a45659",
   "metadata": {},
   "source": [
    "# 「Pythonでスラスラわかる ベイズ推論「超」入門」をNumPyroで書き直す-目次"
   ]
  },
  {
   "cell_type": "markdown",
   "id": "ba6468eb",
   "metadata": {},
   "source": [
    "## はじめに\n",
    "[Pythonでスラスラわかる ベイズ推論「超」入門(赤石 雅典 (著), 須山 敦志 (監修))](https://www.yodobashi.com/product/100000009003770765/)はとても分かりやすい良書です。\\\n",
    "この記事は当該書籍のベイズ推論のライブラリを[PyMC](https://www.pymc.io/welcome.html)から[NumPyro](https://num.pyro.ai/en/stable/)に書き換えたコードへの**Zenn記事リンク集(目次)**です。\n",
    "\n",
    "異なるライブラリを使って同じ結果を得る過程は良い学びとなります。\\\n",
    "それぞれのライブラリの共通項を理解することでその裏にある原理への理解も深まります。\\\n",
    "この記事が皆さんの参考になれば幸いです。"
   ]
  },
  {
   "cell_type": "markdown",
   "id": "f5d1f5ae",
   "metadata": {},
   "source": [
    "## ライブラリのバージョン\n",
    "活発に更新されているライブラリではしばしば破壊的変更が行われます。\\\n",
    "同じコードを実行できないということが無いように、本記事とリンク先で使用するライブラリのバージョンを列挙します。\\\n",
    " First releasedから一年たつのでそろそろ```Python 3.13```に引き上げても良いだろうと判断しました。"
   ]
  },
  {
   "cell_type": "code",
   "execution_count": null,
   "id": "a965db3a",
   "metadata": {},
   "outputs": [],
   "source": [
    "# Pythonのバージョン\n",
    "import sys\n",
    "print(\"Miniforge\", sys.version)\n",
    "\n",
    "# DataFrame, Numerical computation\n",
    "import polars as pl\n",
    "print(\"Polars\", pl.__version__)\n",
    "import pandas as pd\n",
    "print(\"Pandas\", pd.__version__)\n",
    "import numpy as np\n",
    "print(\"NumPy\",np.__version__)\n",
    "import jax\n",
    "print(\"Jax\", jax.__version__)\n",
    "\n",
    "# ベイズ推定\n",
    "import numpyro\n",
    "print(\"NumPyro\", numpyro.__version__)\n",
    "\n",
    "# plot\n",
    "import matplotlib\n",
    "print(\"Matplotlib\", matplotlib.__version__)\n",
    "%matplotlib inline\n",
    "import seaborn as sns\n",
    "print(\"seaborn\", sns.__version__)\n",
    "import arviz as az\n",
    "print(\"ArviZ\", az.__version__)\n",
    "\n",
    "# plotの設定\n",
    "import json\n",
    "print(\"JSON\", json.__version__)\n",
    "\n",
    "# plotで日本語フォントを使用する。\n",
    "import japanize_matplotlib\n",
    "#print(japanize_matplotlib.__version__)"
   ]
  }
 ],
 "metadata": {
  "kernelspec": {
   "display_name": "Python 3",
   "language": "python",
   "name": "python3"
  },
  "language_info": {
   "codemirror_mode": {
    "name": "ipython",
    "version": 3
   },
   "file_extension": ".py",
   "mimetype": "text/x-python",
   "name": "python",
   "nbconvert_exporter": "python",
   "pygments_lexer": "ipython3",
   "version": "3.13.9"
  }
 },
 "nbformat": 4,
 "nbformat_minor": 5
}
