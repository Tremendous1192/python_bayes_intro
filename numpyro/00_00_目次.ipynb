{
 "cells": [
  {
   "cell_type": "markdown",
   "id": "c3a45659",
   "metadata": {},
   "source": [
    "# 「Pythonでスラスラわかる ベイズ推論「超」入門」をNumPyroで書き直す-目次"
   ]
  },
  {
   "cell_type": "markdown",
   "id": "ba6468eb",
   "metadata": {},
   "source": [
    "## はじめに\n",
    "[Pythonでスラスラわかる ベイズ推論「超」入門(赤石 雅典 (著), 須山 敦志 (監修))](https://www.yodobashi.com/product/100000009003770765/)はとても分かりやすい良書です。\\\n",
    "この記事は当該書籍のベイズ推論のライブラリを[PyMC](https://www.pymc.io/welcome.html)から[NumPyro](https://num.pyro.ai/en/stable/)に書き換えたコード(Zenn記事)への**リンク集**です。\n",
    "\n",
    "異なるライブラリを使って同じ結果を得る過程は良い学びとなります。\\\n",
    "それぞれのライブラリの共通項を理解することでその裏にある原理への理解も深まります。\\\n",
    "これらの記事が皆さんの参考になれば幸いです。"
   ]
  },
  {
   "cell_type": "markdown",
   "id": "e9294a2a",
   "metadata": {},
   "source": [
    "## PyMCとNumPyroの比較\n",
    "それぞれのチュートリアルを一通り触ってみての所感です。\\\n",
    "最初は癖の少ないPyMCで学ぶのが良いと思います。\\\n",
    "速度が必要になってからNumPyroに移るのがよいでしょう。\n",
    "\n",
    "項目 | PyMC | NumPyro |\n",
    "---- | ---- | ---- |\n",
    "特徴量と目的変数のデータ型 | ```numpy.ndarray```, ```pandas.DataFrame```を使用できる。慣れている人が多い。 | ```jax.numpy.array```を使う。 |\n",
    "確率モデルの作り方 | モデルのインスタンスを生成した後に```with```構文内でモデルの詳細を実装する。 | モデル名の関数の中でモデルの詳細を実装する。こちらの方が好み。 |\n",
    "確率モデルのプロット | 説明変数も可視化できる。わかりやすい。 | プロットがすっきりする。 |\n",
    "確率モデルのプロットのコードの書きやすさ | 簡単。書籍の通りでOK。 | 面倒くさい。ユーティリティ関数を作るべき。(本記事にコードを掲載しました) |\n",
    "サンプリングの実行速度 | 遅い。他のバックエンドを使用しても遅い。 | **速い**。もう戻れない。 |\n",
    "サンプリングのコードの書きやすさ | 簡単。書籍の通りでOK。 | 面倒くさい。ユーティリティ関数を作るべき。(本記事にコードを掲載しました) |\n",
    "サンプリング後の検証 | ArviZのコードを使用するので同じコードを使用する。 | 左に同じ |"
   ]
  },
  {
   "cell_type": "markdown",
   "id": "f5d1f5ae",
   "metadata": {},
   "source": [
    "## ライブラリのバージョン\n",
    "活発に更新されているライブラリでは破壊的変更が行われることがあります。\\\n",
    "読者が同じコードを実行できるように、本記事とリンク先で使用するライブラリのバージョンを列挙します。\\\n",
    "First releasedから一年たつのでそろそろ```Python 3.13```に引き上げても良いだろうと判断しました。"
   ]
  },
  {
   "cell_type": "code",
   "execution_count": null,
   "id": "a965db3a",
   "metadata": {},
   "outputs": [],
   "source": [
    "# Pythonのバージョン\n",
    "import sys\n",
    "print(\"Miniforge\", sys.version)\n",
    "\n",
    "# DataFrame, Numerical computation\n",
    "#import polars as pl\n",
    "#print(\"Polars\", pl.__version__)\n",
    "import pandas as pd\n",
    "print(\"Pandas\", pd.__version__)\n",
    "import numpy as np\n",
    "print(\"NumPy\",np.__version__)\n",
    "import jax\n",
    "print(\"Jax\", jax.__version__)\n",
    "\n",
    "# ベイズ推定\n",
    "import numpyro\n",
    "print(\"NumPyro\", numpyro.__version__)\n",
    "\n",
    "# plot\n",
    "import matplotlib\n",
    "print(\"Matplotlib\", matplotlib.__version__)\n",
    "%matplotlib inline\n",
    "import seaborn as sns\n",
    "print(\"seaborn\", sns.__version__)\n",
    "import arviz as az\n",
    "print(\"ArviZ\", az.__version__)\n",
    "\n",
    "# plotの設定\n",
    "import json\n",
    "print(\"JSON\", json.__version__)\n",
    "\n",
    "# plotで日本語フォントを使用する。\n",
    "import japanize_matplotlib\n",
    "#print(japanize_matplotlib.__version__)"
   ]
  },
  {
   "cell_type": "markdown",
   "id": "065322fb",
   "metadata": {},
   "source": [
    "## フォルダ構造とユーティリティ\n"
   ]
  }
 ],
 "metadata": {
  "kernelspec": {
   "display_name": "Python 3",
   "language": "python",
   "name": "python3"
  },
  "language_info": {
   "codemirror_mode": {
    "name": "ipython",
    "version": 3
   },
   "file_extension": ".py",
   "mimetype": "text/x-python",
   "name": "python",
   "nbconvert_exporter": "python",
   "pygments_lexer": "ipython3",
   "version": "3.13.9"
  }
 },
 "nbformat": 4,
 "nbformat_minor": 5
}
