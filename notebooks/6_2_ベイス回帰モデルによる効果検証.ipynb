{
  "nbformat": 4,
  "nbformat_minor": 0,
  "metadata": {
    "colab": {
      "provenance": [],
      "toc_visible": true
    },
    "kernelspec": {
      "name": "python3",
      "display_name": "Python 3"
    },
    "language_info": {
      "name": "python"
    }
  },
  "cells": [
    {
      "cell_type": "markdown",
      "source": [
        "##  6.2 ベイス回帰モデルによる効果検証\n",
        "参照リンク　(PyMCチュートリアル)　https://www.pymc.io/projects/docs/en/stable/learn/core_notebooks/pymc_overview.html#case-study-1-educational-outcomes-for-hearing-impaired-children\n",
        "\n",
        "チュートリアルでは正則化を含んだ複雑なモデルを作っているが、簡略化して単純な線形回帰モデルを作り、各説明変数の影響度を考察する"
      ],
      "metadata": {
        "id": "mfW1NghXXjph"
      }
    },
    {
      "cell_type": "markdown",
      "source": [
        "### 共通処理"
      ],
      "metadata": {
        "id": "44VPXX5bgtKT"
      }
    },
    {
      "cell_type": "code",
      "source": [
        "%matplotlib inline\n",
        "# 日本語化ライブラリ導入\n",
        "!pip install japanize-matplotlib | tail -n 1"
      ],
      "metadata": {
        "id": "64-SAjF1gkms"
      },
      "execution_count": null,
      "outputs": []
    },
    {
      "cell_type": "code",
      "source": [
        "# ライブラリのimport\n",
        "\n",
        "# NumPy用ライブラリ\n",
        "import numpy as np\n",
        "\n",
        "# Matplotlib中のpyplotライブラリのインポート\n",
        "import matplotlib.pyplot as plt\n",
        "\n",
        "# matplotlib日本語化対応ライブラリのインポート\n",
        "import japanize_matplotlib\n",
        "\n",
        "# pandas用ライブラリ\n",
        "import pandas as pd\n",
        "\n",
        "# データフレーム表示用関数\n",
        "from IPython.display import display\n",
        "\n",
        "# seaborn\n",
        "import seaborn as sns\n",
        "\n",
        "# 表示オプション調整\n",
        "\n",
        "# NumPy表示形式の設定\n",
        "np.set_printoptions(precision=3, floatmode='fixed')\n",
        "\n",
        "# グラフのデフォルトフォント指定\n",
        "plt.rcParams[\"font.size\"] = 14\n",
        "\n",
        "# サイズ設定\n",
        "plt.rcParams['figure.figsize'] = (6, 6)\n",
        "\n",
        "# 方眼表示ON\n",
        "plt.rcParams['axes.grid'] = True\n",
        "\n",
        "# データフレームでの表示精度\n",
        "pd.options.display.float_format = '{:.3f}'.format\n",
        "\n",
        "# データフレームですべての項目を表示\n",
        "pd.set_option(\"display.max_columns\",None)"
      ],
      "metadata": {
        "id": "UKyvpbGBg3q4"
      },
      "execution_count": null,
      "outputs": []
    },
    {
      "cell_type": "code",
      "source": [
        "import pymc as pm\n",
        "import arviz as az\n",
        "\n",
        "print(f\"Running on PyMC v{pm.__version__}\")\n",
        "print(f\"Running on ArViz v{az.__version__}\")"
      ],
      "metadata": {
        "id": "Iw1YsHsqiKOP"
      },
      "execution_count": null,
      "outputs": []
    },
    {
      "cell_type": "markdown",
      "source": [
        "### 6.2.1 問題設定"
      ],
      "metadata": {
        "id": "pKjboyDdhAqu"
      }
    },
    {
      "cell_type": "markdown",
      "source": [
        "　本節では、Listening and Spoken Language Data Repository (LSL-DR)で提供されているデータを用いて、ベイス推論により線形回帰モデルを構築します。\n",
        "\n",
        "　LSL-DRは難聴の子供の音声言語スキルの発達を支援する専門教育プログラムにおける国際的なデータリポジトリです。4か国の48のプログラムで、5,748人の難聴の子供の情報を収集し、彼らの音声言語の発達に影響を与える要因を調査するデータを収集しています。\n",
        "\n",
        "\n",
        "　このデータセットには、以下のような項目が含まれています。\n",
        "\n",
        "| 項目名        | 説明                                           | 項目値      |\n",
        "| ------------- | ---------------------------------------------- | ----------- |\n",
        "| score         | 能力テストのスコア(目的変数)                   | 0-144の整数 |\n",
        "| male          | 性別                                           | 1/0         |\n",
        "| siblings      | 世帯内の兄弟の数                               | 非負整数値  |\n",
        "| family_inv    | 家族の関与の指標                               | 0-4の整数値 |\n",
        "| non_english   | 家庭での主な言語が英語ではないか               | True/False  |\n",
        "| prev_disab    | 以前の障害の存在                               | 1/0         |\n",
        "| age_test      | テスト時の年齢                                 | 48-59の整数 |\n",
        "| non_severe_hl | 重度の難聴ではないか                           | 1/0         |\n",
        "| mother_hs     | 被験者の母親が高校卒業以上の学歴を持っているか | 1/0         |\n",
        "| early_ident   | 聴覚障害が生後3か月までに特定されたか          | True/False  |\n",
        "| non_white     | 非白人                                         | True/False  |\n",
        "\n",
        "\n",
        "　目的変数は、学習ドメインにおいて標準化されたテストのスコア の1つを用いています(score)。"
      ],
      "metadata": {
        "id": "WyjYNL7khjm5"
      }
    },
    {
      "cell_type": "markdown",
      "source": [
        "### 6.2.2 データ読み込み"
      ],
      "metadata": {
        "id": "j3bqcZ5oidnY"
      }
    },
    {
      "cell_type": "code",
      "source": [
        "# LSL-DR データ読み込み\n",
        "df = pd.read_csv(pm.get_data('test_scores.csv'), index_col=0)\n",
        "\n",
        "# 結果確認\n",
        "display(df.head())"
      ],
      "metadata": {
        "id": "JsG19bl8g7dQ"
      },
      "execution_count": null,
      "outputs": []
    },
    {
      "cell_type": "markdown",
      "source": [
        "### 6.2.3 データ確認"
      ],
      "metadata": {
        "id": "a3R3OTtUmjvH"
      }
    },
    {
      "cell_type": "markdown",
      "source": [
        "#### 目的変数scoreの分布"
      ],
      "metadata": {
        "id": "EDLkaX5HmzrI"
      }
    },
    {
      "cell_type": "code",
      "source": [
        "bins = np.arange(0, 150, 10)\n",
        "fig, ax = plt.subplots()\n",
        "df['score'].hist(bins=bins, align='left')\n",
        "plt.setp(ax.get_xticklabels(), rotation=90)\n",
        "plt.title('目的変数scoreスコアの分布')\n",
        "plt.xticks(bins);"
      ],
      "metadata": {
        "id": "LgbugmoTipUH"
      },
      "execution_count": null,
      "outputs": []
    },
    {
      "cell_type": "markdown",
      "source": [
        "#### 統計情報の確認"
      ],
      "metadata": {
        "id": "gh3mRSKPm6zZ"
      }
    },
    {
      "cell_type": "code",
      "source": [
        "df.describe()"
      ],
      "metadata": {
        "id": "i9BSIMn8isEm"
      },
      "execution_count": null,
      "outputs": []
    },
    {
      "cell_type": "markdown",
      "source": [
        "#### データ件数と欠損値の確認"
      ],
      "metadata": {
        "id": "d4-nsEaHnETb"
      }
    },
    {
      "cell_type": "code",
      "source": [
        "# データ件数の確認\n",
        "print(f'データ件数 {len(df)}\\n')\n",
        "\n",
        "# 欠損値値の確認\n",
        "print(df.isnull().sum())"
      ],
      "metadata": {
        "id": "usmq6yUGjTJy"
      },
      "execution_count": null,
      "outputs": []
    },
    {
      "cell_type": "markdown",
      "source": [
        "### 6.2.4 データ加工"
      ],
      "metadata": {
        "id": "kwypJMkVkkry"
      }
    },
    {
      "cell_type": "markdown",
      "source": [
        "#### 欠損値除去"
      ],
      "metadata": {
        "id": "e3j_p0P1nS8K"
      }
    },
    {
      "cell_type": "code",
      "source": [
        "# 欠損値除去\n",
        "df1 = df.dropna().astype(float)\n",
        "\n",
        "# データ件数の確認\n",
        "print(f'データ件数 {len(df1)}')"
      ],
      "metadata": {
        "id": "ACHpxyaEjy5s"
      },
      "execution_count": null,
      "outputs": []
    },
    {
      "cell_type": "markdown",
      "source": [
        "#### 目的変数yと説明変数Xに分離"
      ],
      "metadata": {
        "id": "MIfjVv1JneCl"
      }
    },
    {
      "cell_type": "code",
      "source": [
        "y = df1.pop(\"score\")\n",
        "X = df1.copy()\n",
        "\n",
        "# Xの結果確認\n",
        "display(X.head())"
      ],
      "metadata": {
        "id": "AaLZGSspkcK9"
      },
      "execution_count": null,
      "outputs": []
    },
    {
      "cell_type": "markdown",
      "source": [
        "#### Xの正規化"
      ],
      "metadata": {
        "id": "dka6ajgMnl-o"
      }
    },
    {
      "cell_type": "code",
      "source": [
        "X -= X.mean()\n",
        "X /= X.std()\n",
        "\n",
        "# 結果確認\n",
        "display(X.head())"
      ],
      "metadata": {
        "id": "hVfZQT4KlGhi"
      },
      "execution_count": null,
      "outputs": []
    },
    {
      "cell_type": "markdown",
      "source": [
        "#### ベイズモデル構築に必要な変数定義"
      ],
      "metadata": {
        "id": "dgmMK-F9nr26"
      }
    },
    {
      "cell_type": "code",
      "source": [
        "# データ件数とデータ項目数の設定\n",
        "N, D = X.shape\n",
        "\n",
        "# 項目名一覧をcolumnsに設定する\n",
        "columns = X.columns.values\n",
        "\n",
        "# 結果確認\n",
        "print(f'N: {N} (データ件数)\\n')\n",
        "print(f'D: {D} (説明変数項目数)\\n')\n",
        "print(f'項目名一覧: {columns}')"
      ],
      "metadata": {
        "id": "2vZARmUiti9t"
      },
      "execution_count": null,
      "outputs": []
    },
    {
      "cell_type": "markdown",
      "source": [
        "### 6.2.5 確率モデル定義"
      ],
      "metadata": {
        "id": "mJJgPCHlmmSe"
      }
    },
    {
      "cell_type": "code",
      "source": [
        "# 説明変数リストをpredictorsとして定義\n",
        "model1 = pm.Model(coords={'predictors': columns})\n",
        "\n",
        "with model1:\n",
        "    # Xは従来のベクトルが行列になる。転置していることに注意\n",
        "    X_data = pm.ConstantData('X_data', X.T)\n",
        "\n",
        "    # yが回帰モデルの目的変数\n",
        "    y_data = pm.ConstantData('y_data', y)\n",
        "\n",
        "    # alphaは単回帰の時はスカラーだったものがベクトルになる\n",
        "    # 要素数はpredictorsにより間接的に指定できる(上でcoordsパラメーターを指定した効果)\n",
        "    alpha = pm.Normal('alpha', mu=0.0, sigma=10.0, dims='predictors')\n",
        "\n",
        "    # betaとepsilonは単回帰の時と同じ(パラメータ値の選定理由は本文で説明)\n",
        "    beta = pm.Normal('beta', mu=100.0, sigma=25.0)\n",
        "    epsilon = pm.HalfNormal('epsilon', sigma=25.0)\n",
        "\n",
        "    # muの計算では、単回帰のときのかけ算が内積に変わっている\n",
        "    mu = pm.Deterministic('mu', alpha @ X_data + beta)\n",
        "\n",
        "    # 正規分布の定義は5.2節の単回帰と同じ\n",
        "    obs = pm.Normal('obs', mu=mu, sigma=epsilon, observed=y_data)\n",
        "\n",
        "g = pm.model_to_graphviz(model1)\n",
        "display(g)"
      ],
      "metadata": {
        "id": "xYuuSAdIloc3"
      },
      "execution_count": null,
      "outputs": []
    },
    {
      "cell_type": "markdown",
      "source": [
        "### 6.2.6 サンプリングと結果分析"
      ],
      "metadata": {
        "id": "Gh-YIGW4xVqm"
      }
    },
    {
      "cell_type": "markdown",
      "source": [
        "#### サンプリングとplot_trace関数による」結果分析"
      ],
      "metadata": {
        "id": "7UVoAYaaJRRu"
      }
    },
    {
      "cell_type": "code",
      "source": [
        "with model1:\n",
        "    idata1 = pm.sample(random_seed=42, target_accept=0.95)\n",
        "\n",
        "# plot_trace関数で推論結果の確認\n",
        "az.plot_trace(idata1, var_names=['alpha', 'beta', 'epsilon'], compact=False)\n",
        "plt.tight_layout();"
      ],
      "metadata": {
        "id": "0ogASrZAwJWy"
      },
      "execution_count": null,
      "outputs": []
    },
    {
      "cell_type": "markdown",
      "source": [
        "#### サンプリング結果の統計情報取得"
      ],
      "metadata": {
        "id": "IpIKPWPqJkmL"
      }
    },
    {
      "cell_type": "code",
      "source": [
        "summary1 = az.summary(idata1, var_names=['alpha'])\n",
        "display(summary1)"
      ],
      "metadata": {
        "id": "3Q5d5AY2249Q"
      },
      "execution_count": null,
      "outputs": []
    },
    {
      "cell_type": "markdown",
      "source": [
        "#### plot_forest関数で各項目の寄与度の確認"
      ],
      "metadata": {
        "id": "mIxZ821fRM5O"
      }
    },
    {
      "cell_type": "code",
      "source": [
        "az.plot_forest(idata1, combined=True, var_names=['alpha']);"
      ],
      "metadata": {
        "id": "d3yNOWxn0jbF"
      },
      "execution_count": null,
      "outputs": []
    },
    {
      "cell_type": "markdown",
      "source": [
        "#### plot_forest関数　combinedオプションを指定しない場合"
      ],
      "metadata": {
        "id": "kEXNOZHARYxZ"
      }
    },
    {
      "cell_type": "code",
      "source": [
        "az.plot_forest(idata1, var_names=['alpha']);"
      ],
      "metadata": {
        "id": "gzG5D3Dbx95z"
      },
      "execution_count": null,
      "outputs": []
    },
    {
      "cell_type": "markdown",
      "source": [
        "### コラム　チュートリアルの確率モデル"
      ],
      "metadata": {
        "id": "l_NxOrYJvHsk"
      }
    },
    {
      "cell_type": "markdown",
      "source": [
        "#### 確率モデル定義"
      ],
      "metadata": {
        "id": "AbrseeJTvu-8"
      }
    },
    {
      "cell_type": "code",
      "source": [
        "# D0の定義\n",
        "D0 = int(D / 2)\n",
        "\n",
        "# 説明変数リストをpredictorsとして定義\n",
        "model2 = pm.Model(coords={'predictors': columns})\n",
        "\n",
        "with model2:\n",
        "\n",
        "    # Xは従来のベクトルが行列になる。転置していることに注意\n",
        "    X_data = pm.ConstantData('X_data', X.T)\n",
        "\n",
        "    # yが回帰モデルの目的変数\n",
        "    y_data = pm.ConstantData('y_data', y)\n",
        "\n",
        "    # 誤差の分布 sigma -> epsilon 文字の置き換えのみ\n",
        "    epsilon = pm.HalfNormal('epsilon', sigma=25.0)\n",
        "\n",
        "    # 一次関数の係数の分布　beta -> alpha 定義内容も全面的に変更\n",
        "\n",
        "    # Global shrinkage prior\n",
        "    tau = pm.HalfStudentT(\"tau\", 2, D0 / (D - D0) * epsilon / np.sqrt(N))\n",
        "\n",
        "    # Local shrinkage prior\n",
        "    lam = pm.HalfStudentT(\"lam\", 2, dims=\"predictors\")\n",
        "    c2 = pm.InverseGamma(\"c2\", 1, 0.1)\n",
        "    z = pm.Normal(\"z\", 0.0, 1.0, dims=\"predictors\")\n",
        "\n",
        "    alpha = pm.Deterministic(\n",
        "        \"alpha\", z * tau * lam * pm.math.sqrt(\n",
        "        c2 / (c2 + tau**2 * lam**2)), dims=\"predictors\")\n",
        "\n",
        "    # 定数項　beta0 -> beta　文字の置き換えのみ\n",
        "    beta = pm.Normal(\"beta\",  mu=100.0, sigma=25.0)\n",
        "\n",
        "    # 正規分布の平均　mu np.dotを@に変えたがロジックは同じ\n",
        "    mu = pm.Deterministic('mu', alpha @ X_data + beta)\n",
        "\n",
        "    # 観測値の分布　scores -> obs 文字の置き換えのみ\n",
        "    obs = pm.Normal(\"obs\", mu, epsilon, observed=y_data)\n",
        "\n",
        "# 確率モデル可視化\n",
        "g = pm.model_to_graphviz(model2)\n",
        "display(g)"
      ],
      "metadata": {
        "id": "rO7ETJPNvdXl"
      },
      "execution_count": null,
      "outputs": []
    },
    {
      "cell_type": "markdown",
      "source": [
        "#### サンプリングと推論結果の確認"
      ],
      "metadata": {
        "id": "i5ZqZqnh2T4k"
      }
    },
    {
      "cell_type": "code",
      "source": [
        "with model2:\n",
        "    idata2 = pm.sample(random_seed=42, target_accept=0.95)\n",
        "\n",
        "# plot_trace関数で推論結果の確認\n",
        "az.plot_trace(idata2, var_names=['alpha', 'beta', 'epsilon'], compact=False)\n",
        "plt.tight_layout();"
      ],
      "metadata": {
        "id": "JtNJ2g0ev4TO"
      },
      "execution_count": null,
      "outputs": []
    },
    {
      "cell_type": "markdown",
      "source": [
        "#### plot_forest関数で各項目の寄与度の確認"
      ],
      "metadata": {
        "id": "YuSQrLJQ2xCs"
      }
    },
    {
      "cell_type": "code",
      "source": [
        "az.plot_forest(idata2, combined=True, var_names=['alpha']);"
      ],
      "metadata": {
        "id": "enV-c9OF2XDv"
      },
      "execution_count": null,
      "outputs": []
    },
    {
      "cell_type": "markdown",
      "source": [
        "#### サンプリング結果の統計分析"
      ],
      "metadata": {
        "id": "Kbeq8nKofJWK"
      }
    },
    {
      "cell_type": "code",
      "source": [
        "summary2 = az.summary(idata2, var_names=['alpha'])\n",
        "display(summary2)"
      ],
      "metadata": {
        "id": "xvOgJLxa21JJ"
      },
      "execution_count": null,
      "outputs": []
    },
    {
      "cell_type": "markdown",
      "source": [
        "#### バージョンの確認"
      ],
      "metadata": {
        "id": "yIpoduRaWSsJ"
      }
    },
    {
      "cell_type": "code",
      "source": [
        "!pip install watermark | tail -n 1\n",
        "%load_ext watermark\n",
        "%watermark --iversions"
      ],
      "metadata": {
        "id": "Tn17A0Iu3hIV"
      },
      "execution_count": null,
      "outputs": []
    },
    {
      "cell_type": "code",
      "source": [],
      "metadata": {
        "id": "EPeyuEI6WcFC"
      },
      "execution_count": null,
      "outputs": []
    }
  ]
}