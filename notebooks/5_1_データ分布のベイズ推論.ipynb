{
  "nbformat": 4,
  "nbformat_minor": 0,
  "metadata": {
    "colab": {
      "provenance": [],
      "toc_visible": true
    },
    "kernelspec": {
      "name": "python3",
      "display_name": "Python 3"
    },
    "language_info": {
      "name": "python"
    }
  },
  "cells": [
    {
      "cell_type": "markdown",
      "source": [
        "## 5.1 データ分布のベイス推論"
      ],
      "metadata": {
        "id": "uIoj_UW_qasp"
      }
    },
    {
      "cell_type": "markdown",
      "source": [
        "### 共通処理"
      ],
      "metadata": {
        "id": "vdi2sqRyqr4p"
      }
    },
    {
      "cell_type": "code",
      "source": [
        "%matplotlib inline\n",
        "# 日本語化ライブラリ導入\n",
        "!pip install japanize-matplotlib | tail -n 1"
      ],
      "metadata": {
        "id": "0dTjJOmIqmiS"
      },
      "execution_count": null,
      "outputs": []
    },
    {
      "cell_type": "code",
      "source": [
        "# ライブラリのimport\n",
        "\n",
        "# NumPy用ライブラリ\n",
        "import numpy as np\n",
        "\n",
        "# Matplotlib中のpyplotライブラリのインポート\n",
        "import matplotlib.pyplot as plt\n",
        "\n",
        "# matplotlib日本語化対応ライブラリのインポート\n",
        "import japanize_matplotlib\n",
        "\n",
        "# pandas用ライブラリ\n",
        "import pandas as pd\n",
        "\n",
        "# データフレーム表示用関数\n",
        "from IPython.display import display\n",
        "\n",
        "# seaborn\n",
        "import seaborn as sns\n",
        "\n",
        "# 表示オプション調整\n",
        "\n",
        "# NumPy表示形式の設定\n",
        "np.set_printoptions(precision=3, floatmode='fixed')\n",
        "\n",
        "# グラフのデフォルトフォント指定\n",
        "plt.rcParams[\"font.size\"] = 14\n",
        "\n",
        "# サイズ設定\n",
        "plt.rcParams['figure.figsize'] = (6, 6)\n",
        "\n",
        "# 方眼表示ON\n",
        "plt.rcParams['axes.grid'] = True\n",
        "\n",
        "# データフレームでの表示精度\n",
        "pd.options.display.float_format = '{:.3f}'.format\n",
        "\n",
        "# データフレームですべての項目を表示\n",
        "pd.set_option(\"display.max_columns\",None)"
      ],
      "metadata": {
        "id": "M46-MnBXq5-Z"
      },
      "execution_count": null,
      "outputs": []
    },
    {
      "cell_type": "code",
      "source": [
        "import pymc as pm\n",
        "import arviz as az\n",
        "\n",
        "print(f\"Running on PyMC v{pm.__version__}\")\n",
        "print(f\"Running on ArViz v{az.__version__}\")"
      ],
      "metadata": {
        "id": "my5YU9YCq-ou"
      },
      "execution_count": null,
      "outputs": []
    },
    {
      "cell_type": "markdown",
      "source": [
        "### 5章"
      ],
      "metadata": {
        "id": "GKrDeczv3ULO"
      }
    },
    {
      "cell_type": "code",
      "source": [
        "df = sns.load_dataset('iris')\n",
        "df1 = df.iloc[[0, 1, 50, 51, 100, 101]]\n",
        "display(df1)"
      ],
      "metadata": {
        "id": "SXSs1e4u3cWX"
      },
      "execution_count": null,
      "outputs": []
    },
    {
      "cell_type": "markdown",
      "source": [
        "### 5.1.1 問題定義\n",
        "アイリスデータセットの特定の花の種類の、特定の項目の長さの分布は、正規分布に従うと見なせるものとする。  \n",
        "3つの花のうちのひとつであるvirginicaのsepal_length(花弁の長さ)に最も近い正規分布のパラメータ(平均と分散)の値をベイズ推論で求めよ。\n"
      ],
      "metadata": {
        "id": "rBIfYJ_BrGUD"
      }
    },
    {
      "cell_type": "markdown",
      "source": [
        "### 5.1.2 データ準備"
      ],
      "metadata": {
        "id": "lnTxrJeXtJlG"
      }
    },
    {
      "cell_type": "markdown",
      "source": [
        "#### データ読み込みと確認"
      ],
      "metadata": {
        "id": "Jzjj2s1HLA6T"
      }
    },
    {
      "cell_type": "code",
      "source": [
        "# アイリスデータセットの読み込み\n",
        "df = sns.load_dataset('iris')\n",
        "\n",
        "# 先頭5行の確認\n",
        "display(df.head())\n",
        "\n",
        "#  speciesの分布確認\n",
        "df['species'].value_counts()"
      ],
      "metadata": {
        "id": "4DkJdzLIrCFM"
      },
      "execution_count": null,
      "outputs": []
    },
    {
      "cell_type": "markdown",
      "source": [
        "#### データ抽出とヒストグラムの描画"
      ],
      "metadata": {
        "id": "DTKV9xhELLcO"
      }
    },
    {
      "cell_type": "code",
      "source": [
        "# setosaの行のみ抽出\n",
        "df1 = df.query('species == \"setosa\"')\n",
        "\n",
        "bins = np.arange(4.0, 6.2, 0.2)\n",
        "# ヒストグラムを描画\n",
        "sns.histplot(df1, x='sepal_length', bins=bins, kde=True)\n",
        "plt.xticks(bins);"
      ],
      "metadata": {
        "id": "CPKscIcDu1vf"
      },
      "execution_count": null,
      "outputs": []
    },
    {
      "cell_type": "markdown",
      "source": [
        "#### 変数Xの抽出と値の確認"
      ],
      "metadata": {
        "id": "yCkS_qvfLVGf"
      }
    },
    {
      "cell_type": "code",
      "source": [
        "# sepal_length列の抽出\n",
        "s1 = df1['sepal_length']\n",
        "\n",
        "# NumPy配列変数に変換\n",
        "X = s1.values\n",
        "\n",
        "# 統計情報の確認\n",
        "print(s1.describe())\n",
        "\n",
        "# 値の確認\n",
        "print(X)"
      ],
      "metadata": {
        "id": "VvS8dmXFvHO1"
      },
      "execution_count": null,
      "outputs": []
    },
    {
      "cell_type": "markdown",
      "source": [
        "### 5.1.3 確率モデル定義"
      ],
      "metadata": {
        "id": "PgH4jGWpvoW9"
      }
    },
    {
      "cell_type": "markdown",
      "source": [
        "#### 確率モデル定義"
      ],
      "metadata": {
        "id": "3FkUoMNwVSzF"
      }
    },
    {
      "cell_type": "code",
      "source": [
        "model1 = pm.Model()\n",
        "\n",
        "with model1:\n",
        "  mu = pm.Normal('mu',mu=0.0, sigma=10.0)\n",
        "  sigma = pm.HalfNormal('sigma', sigma=10.0)\n",
        "  X_obs = pm.Normal('X_obs', mu=mu, sigma=sigma, observed=X)"
      ],
      "metadata": {
        "id": "Bdk8zw3fuphC"
      },
      "execution_count": null,
      "outputs": []
    },
    {
      "cell_type": "markdown",
      "source": [
        "#### 確率モデル構造可視化"
      ],
      "metadata": {
        "id": "43pVQ0NsVX7V"
      }
    },
    {
      "cell_type": "code",
      "source": [
        "g = pm.model_to_graphviz(model1)\n",
        "display(g)"
      ],
      "metadata": {
        "id": "WoopmWwGvvWe"
      },
      "execution_count": null,
      "outputs": []
    },
    {
      "cell_type": "markdown",
      "source": [
        "### 5.1.4 サンプリング"
      ],
      "metadata": {
        "id": "_mP-yzOLv_9n"
      }
    },
    {
      "cell_type": "code",
      "source": [
        "with model1:\n",
        "    idata1 = pm.sample(random_seed=42)"
      ],
      "metadata": {
        "id": "zQSSO-S9v4Qr"
      },
      "execution_count": null,
      "outputs": []
    },
    {
      "cell_type": "markdown",
      "source": [
        "### 5.1.5 結果分析"
      ],
      "metadata": {
        "id": "A5aRjCmEyVnE"
      }
    },
    {
      "cell_type": "markdown",
      "source": [
        "#### plot_trace関数による分析"
      ],
      "metadata": {
        "id": "FUKh3mO-fMg8"
      }
    },
    {
      "cell_type": "code",
      "source": [
        "az.plot_trace(idata1, compact=False)\n",
        "plt.tight_layout();"
      ],
      "metadata": {
        "id": "dHkdwKit1A3W"
      },
      "execution_count": null,
      "outputs": []
    },
    {
      "cell_type": "markdown",
      "source": [
        "#### idata直接確認"
      ],
      "metadata": {
        "id": "20YE1pt5iI7x"
      }
    },
    {
      "cell_type": "code",
      "source": [
        "idata1"
      ],
      "metadata": {
        "id": "qj4Ioag3iOUT"
      },
      "execution_count": null,
      "outputs": []
    },
    {
      "cell_type": "markdown",
      "source": [
        "#### plot_posterior関数による分析"
      ],
      "metadata": {
        "id": "fWpyG8h5fWXZ"
      }
    },
    {
      "cell_type": "code",
      "source": [
        "az.plot_posterior(idata1);"
      ],
      "metadata": {
        "id": "gZRIn1vF1I7t"
      },
      "execution_count": null,
      "outputs": []
    },
    {
      "cell_type": "markdown",
      "source": [
        "#### sumamry関数による分析"
      ],
      "metadata": {
        "id": "xp7dgWNZff50"
      }
    },
    {
      "cell_type": "code",
      "source": [
        "summary1 = az.summary(idata1)\n",
        "display(summary1)"
      ],
      "metadata": {
        "id": "CtqOQID11XYs"
      },
      "execution_count": null,
      "outputs": []
    },
    {
      "cell_type": "markdown",
      "source": [
        "#### 各確率変数の平均値取得"
      ],
      "metadata": {
        "id": "-lAI6N26fn5T"
      }
    },
    {
      "cell_type": "code",
      "source": [
        "summary1.loc['mu','mean']"
      ],
      "metadata": {
        "id": "gGhxmZUTnw0b"
      },
      "execution_count": null,
      "outputs": []
    },
    {
      "cell_type": "code",
      "source": [
        "mu_mean1 = summary1.loc['mu','mean']\n",
        "sigma_mean1 = summary1.loc['sigma','mean']\n",
        "\n",
        "# 結果確認\n",
        "print(f'mu={mu_mean1}, sigma={sigma_mean1}')"
      ],
      "metadata": {
        "id": "nrL3o7ky0nt4"
      },
      "execution_count": null,
      "outputs": []
    },
    {
      "cell_type": "markdown",
      "source": [
        "### 5.1.6 正規分布関数と重ね描き"
      ],
      "metadata": {
        "id": "PTcyd5k32g6G"
      }
    },
    {
      "cell_type": "markdown",
      "source": [
        "#### 正規分布の確率密度関数"
      ],
      "metadata": {
        "id": "mgmraDXF8z_b"
      }
    },
    {
      "cell_type": "code",
      "source": [
        "def norm(x, mu, sigma):\n",
        "    y = (x-mu)/sigma\n",
        "    a = np.exp(-(y**2)/2)\n",
        "    b = np.sqrt(2*np.pi)*sigma\n",
        "    return a/b"
      ],
      "metadata": {
        "id": "Xs55zld60zZQ"
      },
      "execution_count": null,
      "outputs": []
    },
    {
      "cell_type": "markdown",
      "source": [
        "#### ベイズ推論結果に基づく関数値計算"
      ],
      "metadata": {
        "id": "0I4B_8va9PtY"
      }
    },
    {
      "cell_type": "code",
      "source": [
        "x_min = X.min()\n",
        "x_max = X.max()\n",
        "x_list = np.arange(x_min, x_max, 0.01)\n",
        "y_list = norm(x_list, mu_mean1, sigma_mean1)"
      ],
      "metadata": {
        "id": "GogVKUbO2xu8"
      },
      "execution_count": null,
      "outputs": []
    },
    {
      "cell_type": "markdown",
      "source": [
        "#### ベイズ推論結果とKDE曲線の重ね描き"
      ],
      "metadata": {
        "id": "0E2zs-LV9nx_"
      }
    },
    {
      "cell_type": "code",
      "source": [
        "delta = 0.2\n",
        "bins=np.arange(4.0, 6.0, delta)\n",
        "fig, ax = plt.subplots()\n",
        "sns.histplot(df1, ax=ax, x='sepal_length',\n",
        "    bins=bins, kde=True, stat='probability')\n",
        "ax.get_lines()[0].set_label('KDE曲線')\n",
        "ax.set_xticks(bins)\n",
        "ax.plot(x_list, y_list*delta, c='b', label='ベイズ推論結果')\n",
        "ax.set_title('ベイズ推論結果とKDE曲線の比較')\n",
        "plt.legend();"
      ],
      "metadata": {
        "id": "zN5vCU-hvsIx"
      },
      "execution_count": null,
      "outputs": []
    },
    {
      "cell_type": "markdown",
      "source": [
        "### 5.1.7 少ないサンプル数でベイス推論"
      ],
      "metadata": {
        "id": "yCzyPliQ3qWQ"
      }
    },
    {
      "cell_type": "markdown",
      "source": [
        "#### データの絞り込み"
      ],
      "metadata": {
        "id": "xWmhdRGHlPmR"
      }
    },
    {
      "cell_type": "code",
      "source": [
        "# 先頭の5行だけにする\n",
        "X_less = X[:5]\n",
        "\n",
        "# 結果確認\n",
        "print(X_less)\n",
        "\n",
        "# 統計値確認\n",
        "print(pd.Series(X_less).describe())"
      ],
      "metadata": {
        "id": "sDZlagN54f_5"
      },
      "execution_count": null,
      "outputs": []
    },
    {
      "cell_type": "markdown",
      "source": [
        "#### 確率モデル定義とサンプリング"
      ],
      "metadata": {
        "id": "e61Psv1qlWVQ"
      }
    },
    {
      "cell_type": "code",
      "source": [
        "model2 = pm.Model()\n",
        "\n",
        "with model2:\n",
        "    mu = pm.Normal('mu', mu=0.0, sigma=10.0)\n",
        "    sigma = pm.HalfNormal('sigma', sigma=10.0)\n",
        "    X_obs = pm.Normal('X_obs', mu=mu, sigma=sigma, observed=X_less)\n",
        "\n",
        "    # サンプリング\n",
        "    idata2 = pm.sample(random_seed=42)"
      ],
      "metadata": {
        "id": "pNqa0GoI3a7S"
      },
      "execution_count": null,
      "outputs": []
    },
    {
      "cell_type": "markdown",
      "source": [
        "#### サンプリング結果の可視化"
      ],
      "metadata": {
        "id": "8rTSxuAKlhIH"
      }
    },
    {
      "cell_type": "code",
      "source": [
        "az.plot_posterior(idata2);"
      ],
      "metadata": {
        "id": "-ZyvC1oH43IE"
      },
      "execution_count": null,
      "outputs": []
    },
    {
      "cell_type": "markdown",
      "source": [
        "#### サンプリング結果の統計処理"
      ],
      "metadata": {
        "id": "--zHIudRlpQs"
      }
    },
    {
      "cell_type": "code",
      "source": [
        "summary2 = az.summary(idata2)\n",
        "display(summary2)"
      ],
      "metadata": {
        "id": "9AqNBNe232p6"
      },
      "execution_count": null,
      "outputs": []
    },
    {
      "cell_type": "markdown",
      "source": [
        "### コラム　tauによる確率モデルの定義"
      ],
      "metadata": {
        "id": "pGtpoDNOMxVt"
      }
    },
    {
      "cell_type": "markdown",
      "source": [
        "#### 確率モデル定義とサンプリング"
      ],
      "metadata": {
        "id": "fV0AOLZgQayD"
      }
    },
    {
      "cell_type": "code",
      "source": [
        "model3 = pm.Model()\n",
        "\n",
        "with model3:\n",
        "    mu = pm.Normal('mu', mu=0.0, sigma=10.0)\n",
        "    tau = pm.HalfNormal('tau', sigma=10.0)\n",
        "    X_obs = pm.Normal('X_obs', mu=mu, tau=tau, observed=X)\n",
        "    sigma = pm.Deterministic('sigma', 1/pm.math.sqrt(tau))\n",
        "\n",
        "    # サンプリング\n",
        "    idata3 = pm.sample(random_seed=42)"
      ],
      "metadata": {
        "id": "1mNaKloG5O2n"
      },
      "execution_count": null,
      "outputs": []
    },
    {
      "cell_type": "markdown",
      "source": [
        "#### サンプリング結果の可視化"
      ],
      "metadata": {
        "id": "OsbJLlF9S-yn"
      }
    },
    {
      "cell_type": "code",
      "source": [
        "az.plot_posterior(idata3);"
      ],
      "metadata": {
        "id": "GRmiLRw_RTHU"
      },
      "execution_count": null,
      "outputs": []
    },
    {
      "cell_type": "markdown",
      "source": [
        "#### バージョンの確認"
      ],
      "metadata": {
        "id": "f45Q3TnfNefC"
      }
    },
    {
      "cell_type": "code",
      "source": [
        "!pip install watermark | tail -n 1\n",
        "%load_ext watermark\n",
        "%watermark --iversions"
      ],
      "metadata": {
        "id": "vD-SCcaGRqrJ"
      },
      "execution_count": null,
      "outputs": []
    }
  ]
}