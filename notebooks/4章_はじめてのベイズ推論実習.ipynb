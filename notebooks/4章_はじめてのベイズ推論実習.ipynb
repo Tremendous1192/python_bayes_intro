{
  "nbformat": 4,
  "nbformat_minor": 0,
  "metadata": {
    "colab": {
      "provenance": [],
      "toc_visible": true
    },
    "kernelspec": {
      "name": "python3",
      "display_name": "Python 3"
    },
    "language_info": {
      "name": "python"
    }
  },
  "cells": [
    {
      "cell_type": "markdown",
      "source": [
        "## 4章　はじめてのベイズ推論実習"
      ],
      "metadata": {
        "id": "nU4c1bIkBgOe"
      }
    },
    {
      "cell_type": "markdown",
      "source": [
        "### 共通処理"
      ],
      "metadata": {
        "id": "PqwDnWT-BR0q"
      }
    },
    {
      "cell_type": "code",
      "source": [
        "%matplotlib inline\n",
        "# 日本語化ライブラリ導入\n",
        "!pip install japanize-matplotlib | tail -n 1"
      ],
      "metadata": {
        "id": "GuyTLGJkBO7o"
      },
      "execution_count": null,
      "outputs": []
    },
    {
      "cell_type": "code",
      "source": [
        "# ライブラリのimport\n",
        "\n",
        "# NumPy用ライブラリ\n",
        "import numpy as np\n",
        "\n",
        "# Matplotlib中のpyplotライブラリのインポート\n",
        "import matplotlib.pyplot as plt\n",
        "\n",
        "# matplotlib日本語化対応ライブラリのインポート\n",
        "import japanize_matplotlib\n",
        "\n",
        "# pandas用ライブラリ\n",
        "import pandas as pd\n",
        "\n",
        "# データフレーム表示用関数\n",
        "from IPython.display import display\n",
        "\n",
        "# seaborn\n",
        "import seaborn as sns\n",
        "\n",
        "# 表示オプション調整\n",
        "\n",
        "# NumPy表示形式の設定\n",
        "np.set_printoptions(precision=3, floatmode='fixed')\n",
        "\n",
        "# グラフのデフォルトフォント指定\n",
        "plt.rcParams[\"font.size\"] = 14\n",
        "\n",
        "# サイズ設定\n",
        "plt.rcParams['figure.figsize'] = (6, 6)\n",
        "\n",
        "# 方眼表示ON\n",
        "plt.rcParams['axes.grid'] = True\n",
        "\n",
        "# データフレームでの表示精度\n",
        "pd.options.display.float_format = '{:.3f}'.format\n",
        "\n",
        "# データフレームですべての項目を表示\n",
        "pd.set_option(\"display.max_columns\",None)"
      ],
      "metadata": {
        "id": "GUpYvKuKBolx"
      },
      "execution_count": null,
      "outputs": []
    },
    {
      "cell_type": "code",
      "source": [
        "import pymc as pm\n",
        "import arviz as az\n",
        "\n",
        "print(f\"Running on PyMC v{pm.__version__}\")\n",
        "print(f\"Running on ArViz v{az.__version__}\")"
      ],
      "metadata": {
        "id": "YoSNt5Z_qFIF"
      },
      "execution_count": null,
      "outputs": []
    },
    {
      "cell_type": "markdown",
      "source": [
        "### 問題定義\n",
        "常に確率が一定で、前回の結果が次回に一切影響しない(数学的には「独立な事象」という)くじ引きがあります。  \n",
        "ある人がこのくじ引きを5回引いたところ、結果は「当たり、はずれ、はずれ、当たり、はずれ」でした。  \n",
        "一回のくじ引きにあたる確率を $p$ とするとき、この $p$ の値を求めなさい。"
      ],
      "metadata": {
        "id": "36QxNPyYB0AW"
      }
    },
    {
      "cell_type": "markdown",
      "source": [
        "### 4.2 最尤推定"
      ],
      "metadata": {
        "id": "SWSYXTrlCKHM"
      }
    },
    {
      "cell_type": "markdown",
      "source": [
        "####  尤度関数のグラフ"
      ],
      "metadata": {
        "id": "pDKCb_6YL5UU"
      }
    },
    {
      "cell_type": "code",
      "source": [
        "def lh(p):\n",
        "    return p ** 2 * (1-p) ** 3\n",
        "\n",
        "# グラフ描画用x座標の定義\n",
        "# 0.0 < x < 1.0\n",
        "p = np.arange(0.0, 1.0, 0.01)\n",
        "\n",
        "# グラフ描画\n",
        "plt.rcParams['figure.figsize'] = (6, 4)\n",
        "plt.plot(p, lh(p))\n",
        "plt.xlabel('p(確率値)')\n",
        "plt.ylabel('尤度')\n",
        "plt.title(f'尤度関数');"
      ],
      "metadata": {
        "id": "n3gFFtsE1qoJ"
      },
      "execution_count": null,
      "outputs": []
    },
    {
      "cell_type": "markdown",
      "source": [
        "#### PyTorchで解く"
      ],
      "metadata": {
        "id": "bUWTucW_L_q0"
      }
    },
    {
      "cell_type": "code",
      "source": [
        "import torch # ライブラリインポート\n",
        "\n",
        "def log_lh(p): # 対数尤度関数\n",
        "    return (2 * torch.log(p) + 3 * torch.log(1-p))\n",
        "\n",
        "num_epochs = 40 # 繰り返し回数\n",
        "lr = 0.01           # 学習率\n",
        "\n",
        "# パラメータ初期値 (p=0.1)\n",
        "p = torch.tensor(0.1, dtype=torch.float32, requires_grad=True)\n",
        "\n",
        "logs = np.zeros((0,3))\n",
        "for epoch in range(num_epochs):\n",
        "    loss = -log_lh(p)       # 損失計算\n",
        "    loss.backward()         # 勾配計算\n",
        "    with torch.no_grad():\n",
        "        p -= lr * p.grad    # パラメータ修正\n",
        "        p.grad.zero_()      # 勾配値の初期化\n",
        "    log = np.array([epoch, p.item(), loss.item()]).reshape(1,-1)\n",
        "    logs = np.vstack([logs, log])"
      ],
      "metadata": {
        "id": "7SUwHW7rBuVn"
      },
      "execution_count": null,
      "outputs": []
    },
    {
      "cell_type": "code",
      "source": [
        "plt.rcParams['figure.figsize'] = (8, 4)\n",
        "fig, axes = plt.subplots(1, 2)\n",
        "axes[0].plot(logs[:,0], logs[:,1])\n",
        "axes[0].set_title('p(確率値)')\n",
        "axes[1].plot(logs[:,0], logs[:,2])\n",
        "axes[1].set_title('loss(損失)')\n",
        "plt.tight_layout();"
      ],
      "metadata": {
        "id": "eFIxQYmhLuIw"
      },
      "execution_count": null,
      "outputs": []
    },
    {
      "cell_type": "markdown",
      "source": [
        "### 4.3 ベイズ推論(確率モデル定義)"
      ],
      "metadata": {
        "id": "8gX0x79yp08G"
      }
    },
    {
      "cell_type": "markdown",
      "source": [
        "#### データ(観測値)準備"
      ],
      "metadata": {
        "id": "JWd5GvBy7lQJ"
      }
    },
    {
      "cell_type": "code",
      "source": [
        "X = np.array([1, 0, 0, 1, 0])\n",
        "print(X)"
      ],
      "metadata": {
        "id": "TxqXnyE_DPI7"
      },
      "execution_count": null,
      "outputs": []
    },
    {
      "cell_type": "markdown",
      "source": [
        "#### 確率モデル定義"
      ],
      "metadata": {
        "id": "6wEg7dkc7t3c"
      }
    },
    {
      "cell_type": "code",
      "source": [
        "# コンテキスト定義\n",
        "model1 = pm.Model()\n",
        "\n",
        "with model1:\n",
        "    # pm.Uniform: 一様分布\n",
        "    p = pm.Uniform('p', lower=0.0, upper=1.0)\n",
        "\n",
        "    # pm.Bernoulli ベルヌーイ分布\n",
        "    X_obs = pm.Bernoulli('X_obs', p=p, observed=X)"
      ],
      "metadata": {
        "id": "F5ThhRYXFwQH"
      },
      "execution_count": null,
      "outputs": []
    },
    {
      "cell_type": "markdown",
      "source": [
        "#### 確率モデルの可視化"
      ],
      "metadata": {
        "id": "3LN0Loj4g11H"
      }
    },
    {
      "cell_type": "code",
      "source": [
        "g = pm.model_to_graphviz(model1)\n",
        "display(g)"
      ],
      "metadata": {
        "id": "9MOWF2ZSHlPc"
      },
      "execution_count": null,
      "outputs": []
    },
    {
      "cell_type": "markdown",
      "source": [
        "### 4.4 ベイズ推論(サンプリング)"
      ],
      "metadata": {
        "id": "DcpA25EXrSKN"
      }
    },
    {
      "cell_type": "markdown",
      "source": [
        "#### パラメータ値を明示的に設定してサンプリング"
      ],
      "metadata": {
        "id": "d2QcWGvcM-AL"
      }
    },
    {
      "cell_type": "code",
      "source": [
        "with model1:\n",
        "    idata1_1 = pm.sample(\n",
        "        # 乱数系列の数(デフォルト2)\n",
        "        chains=3,\n",
        "        # 捨てるサンプル数(デフォルト1000)\n",
        "        tune=2000,\n",
        "        # 取得するサンプル数(デフォルト1000)\n",
        "        draws=2000,\n",
        "        random_seed=42)"
      ],
      "metadata": {
        "id": "dVuGeMxRrds_"
      },
      "execution_count": null,
      "outputs": []
    },
    {
      "cell_type": "markdown",
      "source": [
        "#### すべてデフォルト値でサンプリング"
      ],
      "metadata": {
        "id": "18J9j5ZKPJ4V"
      }
    },
    {
      "cell_type": "code",
      "source": [
        "with model1:\n",
        "    idata1_2 = pm.sample(random_seed=42)"
      ],
      "metadata": {
        "id": "0obEALDftJCl"
      },
      "execution_count": null,
      "outputs": []
    },
    {
      "cell_type": "markdown",
      "source": [
        "### 4.5 ベイズ推論( 結果分析)"
      ],
      "metadata": {
        "id": "q8hfG__lrfUE"
      }
    },
    {
      "cell_type": "markdown",
      "source": [
        "#### plot_trace 関数呼び出し"
      ],
      "metadata": {
        "id": "P426h2UMYi2e"
      }
    },
    {
      "cell_type": "code",
      "source": [
        "axes = az.plot_trace(idata1_2, compact=False)\n",
        "plt.tight_layout();"
      ],
      "metadata": {
        "id": "SEdQFb7wrD04"
      },
      "execution_count": null,
      "outputs": []
    },
    {
      "cell_type": "markdown",
      "source": [
        "#### plot_posteror関数呼び出し"
      ],
      "metadata": {
        "id": "jXfQ_7P0ufoj"
      }
    },
    {
      "cell_type": "code",
      "source": [
        "plt.rcParams['figure.figsize'] = (6, 6)\n",
        "ax = az.plot_posterior(idata1_2)\n",
        "ax.set_xlim(0, 1)\n",
        "ax.set_title('ベイズ推論結果　初期版');"
      ],
      "metadata": {
        "id": "fVXbgG9_uGUW"
      },
      "execution_count": null,
      "outputs": []
    },
    {
      "cell_type": "markdown",
      "source": [
        "#### summary関数呼び出し"
      ],
      "metadata": {
        "id": "_i9NiSEGusAg"
      }
    },
    {
      "cell_type": "code",
      "source": [
        "summary1_2= az.summary(idata1_2)\n",
        "display(summary1_2)"
      ],
      "metadata": {
        "id": "Qk5vZR7ZttxV"
      },
      "execution_count": null,
      "outputs": []
    },
    {
      "cell_type": "markdown",
      "source": [
        "### 4.6 ベイズ推論(二項分布バージョン)"
      ],
      "metadata": {
        "id": "Xqou6AwPsROC"
      }
    },
    {
      "cell_type": "markdown",
      "source": [
        "#### 確率モデル定義　二項分布バージョン"
      ],
      "metadata": {
        "id": "mUEsQFlBugPs"
      }
    },
    {
      "cell_type": "code",
      "source": [
        "# コンテキスト定義\n",
        "model2 = pm.Model()\n",
        "\n",
        "with model2:\n",
        "    # pm.Uniform: 一様分布\n",
        "    p = pm.Uniform('p', lower=0.0, upper=1.0)\n",
        "\n",
        "    # pm.Binomial:  二項分布\n",
        "    # p: 成功確率\n",
        "    # n: 試行数\n",
        "    X_obs = pm.Binomial('X_obs', p=p, n=5, observed=2)"
      ],
      "metadata": {
        "id": "nkg_R5H_sVzi"
      },
      "execution_count": null,
      "outputs": []
    },
    {
      "cell_type": "markdown",
      "source": [
        "####  二項分布バージョンの確率モデル可視化"
      ],
      "metadata": {
        "id": "nO32Zyy7pK4z"
      }
    },
    {
      "cell_type": "code",
      "source": [
        "# モデル構造可視化\n",
        "g = pm.model_to_graphviz(model2)\n",
        "display(g)"
      ],
      "metadata": {
        "id": "LNy1Cc9kvQas"
      },
      "execution_count": null,
      "outputs": []
    },
    {
      "cell_type": "markdown",
      "source": [
        "#### サンプリング"
      ],
      "metadata": {
        "id": "zI_Jps3lukwQ"
      }
    },
    {
      "cell_type": "code",
      "source": [
        "with model2:\n",
        "    idata2 = pm.sample(random_seed=42)"
      ],
      "metadata": {
        "id": "6elFd8Nwuov_"
      },
      "execution_count": null,
      "outputs": []
    },
    {
      "cell_type": "markdown",
      "source": [
        "#### 結果分析"
      ],
      "metadata": {
        "id": "oxMJmW6kupjP"
      }
    },
    {
      "cell_type": "markdown",
      "source": [
        "##### plot_trace関数呼び出し"
      ],
      "metadata": {
        "id": "NZimo5WIzgix"
      }
    },
    {
      "cell_type": "code",
      "source": [
        "axes = az.plot_trace(idata2, compact=False)\n",
        "plt.tight_layout();"
      ],
      "metadata": {
        "id": "HnS-4Ntfutf2"
      },
      "execution_count": null,
      "outputs": []
    },
    {
      "cell_type": "markdown",
      "source": [
        "##### plot_posteror関数呼び出し"
      ],
      "metadata": {
        "id": "QqS0xe2oYDF9"
      }
    },
    {
      "cell_type": "code",
      "source": [
        "plt.rcParams['figure.figsize'] = (6, 6)\n",
        "ax = az.plot_posterior(idata2)\n",
        "ax.set_xlim(0, 1)\n",
        "ax.set_title('ベイズ推論結果　二項分布版');"
      ],
      "metadata": {
        "id": "ybB2q3jAYMU2"
      },
      "execution_count": null,
      "outputs": []
    },
    {
      "cell_type": "markdown",
      "source": [
        "##### summary関数呼び出し"
      ],
      "metadata": {
        "id": "Mrl1-9gqzr2K"
      }
    },
    {
      "cell_type": "code",
      "source": [
        "summary2 = az.summary(idata2)\n",
        "display(summary2)"
      ],
      "metadata": {
        "id": "kjOh_5J4vnmS"
      },
      "execution_count": null,
      "outputs": []
    },
    {
      "cell_type": "markdown",
      "source": [
        "### 4.7 ベイズ推論(試行数を増やす)"
      ],
      "metadata": {
        "id": "DMUKtXZbrzIl"
      }
    },
    {
      "cell_type": "markdown",
      "source": [
        "#### 確率モデル定義"
      ],
      "metadata": {
        "id": "ipSWvogSwOT1"
      }
    },
    {
      "cell_type": "code",
      "source": [
        "# コンテキスト定義\n",
        "model3 = pm.Model()\n",
        "\n",
        "with model3:\n",
        "    # pm.Uniform: 一様分布\n",
        "    p = pm.Uniform('p', lower=0.0, upper=1.0)\n",
        "\n",
        "    # pm.Binomial:  二項分布\n",
        "    # p: 成功確率\n",
        "    # n: 試行数\n",
        "    X_obs = pm.Binomial('X_obs', p=p, n=50, observed=20)"
      ],
      "metadata": {
        "id": "53VXoEwlwSFK"
      },
      "execution_count": null,
      "outputs": []
    },
    {
      "cell_type": "markdown",
      "source": [
        "#### 確率モデル可視化"
      ],
      "metadata": {
        "id": "5dtaWhYN0BBF"
      }
    },
    {
      "cell_type": "code",
      "source": [
        "g = pm.model_to_graphviz(model3)\n",
        "display(g)"
      ],
      "metadata": {
        "id": "Qwszi6e9znQb"
      },
      "execution_count": null,
      "outputs": []
    },
    {
      "cell_type": "markdown",
      "source": [
        "#### サンプリング"
      ],
      "metadata": {
        "id": "UnJcsyBkwStT"
      }
    },
    {
      "cell_type": "code",
      "source": [
        "# サンプリング\n",
        "with model3:\n",
        "    idata3 = pm.sample(random_seed=42)"
      ],
      "metadata": {
        "id": "_JQzyGrtsWt2"
      },
      "execution_count": null,
      "outputs": []
    },
    {
      "cell_type": "markdown",
      "source": [
        "#### 結果分析"
      ],
      "metadata": {
        "id": "eFYbErMBwWw-"
      }
    },
    {
      "cell_type": "markdown",
      "source": [
        "##### plot_trace関数呼び出し"
      ],
      "metadata": {
        "id": "7lR42jx-0Ll4"
      }
    },
    {
      "cell_type": "code",
      "source": [
        "axes = az.plot_trace(idata3, compact=False)\n",
        "plt.tight_layout();"
      ],
      "metadata": {
        "id": "fLYRGRdDwalA"
      },
      "execution_count": null,
      "outputs": []
    },
    {
      "cell_type": "markdown",
      "source": [
        "##### plot_posterior関数呼び出し"
      ],
      "metadata": {
        "id": "riapq5By0SIX"
      }
    },
    {
      "cell_type": "code",
      "source": [
        "plt.rcParams['figure.figsize'] = (6, 6)\n",
        "ax = az.plot_posterior(idata3)\n",
        "ax.set_xlim(0, 1)\n",
        "ax.set_title('試行回数を増やす(n=50)');"
      ],
      "metadata": {
        "id": "g43nAFOix2rj"
      },
      "execution_count": null,
      "outputs": []
    },
    {
      "cell_type": "markdown",
      "source": [
        "##### summary関数呼び出し"
      ],
      "metadata": {
        "id": "Z7sMEfRi0a7H"
      }
    },
    {
      "cell_type": "code",
      "source": [
        "summary3 = az.summary(idata3)\n",
        "display(summary3)"
      ],
      "metadata": {
        "id": "EHTGm9VHz-Dg"
      },
      "execution_count": null,
      "outputs": []
    },
    {
      "cell_type": "markdown",
      "source": [
        "### 4.8 事前分布を変更する\n"
      ],
      "metadata": {
        "id": "vwx-xiBCIaCC"
      }
    },
    {
      "cell_type": "code",
      "source": [
        "# コンテキスト定義\n",
        "model4 = pm.Model()\n",
        "\n",
        "with model4:\n",
        "    # モデル定義\n",
        "\n",
        "    # 一様分布のパラメータを変更\n",
        "    p = pm.Uniform('p', lower=0.1, upper=0.9)\n",
        "\n",
        "    # 5回中2回あたりという観測値はそのまま\n",
        "    X_obs = pm.Binomial('X_obs', p=p, n=5, observed=2)\n",
        "\n",
        "    # サンプル値取得\n",
        "    idata4 = pm.sample(random_seed=42)"
      ],
      "metadata": {
        "id": "zTWoxuwkI072"
      },
      "execution_count": null,
      "outputs": []
    },
    {
      "cell_type": "code",
      "source": [
        "plt.rcParams['figure.figsize'] = (6, 6)\n",
        "# 事後分布の可視化\n",
        "ax = az.plot_posterior(idata4)\n",
        "ax.set_title('事前分布変更版　[0.1, 0.9]')\n",
        "ax.set_xlim(0, 1)\n",
        "\n",
        "# サンプル値の集計\n",
        "summary4 = az.summary(idata4)\n",
        "display(summary4)"
      ],
      "metadata": {
        "id": "TboUyaG-u4DM"
      },
      "execution_count": null,
      "outputs": []
    },
    {
      "cell_type": "markdown",
      "source": [
        "### 4.9 ベータ分布との比較"
      ],
      "metadata": {
        "id": "r00m_BKFsdkV"
      }
    },
    {
      "cell_type": "markdown",
      "source": [
        "#### ベータ分布とベイズ推論結果の重ね描き"
      ],
      "metadata": {
        "id": "L9faosvZ6PFS"
      }
    },
    {
      "cell_type": "code",
      "source": [
        "# 真のベータ関数の定義\n",
        "from scipy import stats\n",
        "alpha = 20 + 1\n",
        "beta = 30 + 1\n",
        "true_beta = stats.beta(alpha, beta)\n",
        "\n",
        "plt.rcParams['figure.figsize'] = (6, 6)\n",
        "# ベイズ推論結果の可視化\n",
        "# idata3は4.7節で計算した結果を利用\n",
        "ax = az.plot_posterior(idata3)\n",
        "ax.lines[0].set_label('ベイズ推論結果')\n",
        "\n",
        "# 真のベータ関数の可視化\n",
        "x = np.linspace(*ax.get_xlim())\n",
        "ax.plot(x, true_beta.pdf(x), color='orange', label='真値')\n",
        "ax.legend(loc='center right');"
      ],
      "metadata": {
        "id": "EGClbDSX1OSp"
      },
      "execution_count": null,
      "outputs": []
    },
    {
      "cell_type": "markdown",
      "source": [
        "### コラム ArviZのFAQ"
      ],
      "metadata": {
        "id": "SE-35GfF1igk"
      }
    },
    {
      "cell_type": "markdown",
      "source": [
        "#### plot_posterior関数でyスケールを表示"
      ],
      "metadata": {
        "id": "CcUfjEW31-vT"
      }
    },
    {
      "cell_type": "code",
      "source": [
        "plt.rcParams['figure.figsize'] = (6, 6)\n",
        "ax = az.plot_posterior(idata1_2)\n",
        "\n",
        "# y軸の線の表示\n",
        "ax.spines['left'].set_visible(True)\n",
        "\n",
        "# y軸ラベル表示\n",
        "ax.set_ylabel(\"Density\")\n",
        "\n",
        "# y軸のティックの位置を自動的に決定\n",
        "from matplotlib.ticker import AutoLocator\n",
        "ax.yaxis.set_major_locator(AutoLocator())\n",
        "\n",
        "ax.set_xlim(0, 1)\n",
        "ax.set_title('ベイズ推論結果　 y軸スケール表示版');"
      ],
      "metadata": {
        "id": "4r93XQ7lvWpd"
      },
      "execution_count": null,
      "outputs": []
    },
    {
      "cell_type": "markdown",
      "source": [
        "#### plot_trace関数グラフでタイトルを変更"
      ],
      "metadata": {
        "id": "nqhQ5QON5U7F"
      }
    },
    {
      "cell_type": "code",
      "source": [
        "axes = az.plot_trace(idata1_2, compact=False)\n",
        "plt.tight_layout()\n",
        "axes[0,1].set_title('グラフタイトルの変更');"
      ],
      "metadata": {
        "id": "XOEzJKjj5Ag2"
      },
      "execution_count": null,
      "outputs": []
    },
    {
      "cell_type": "markdown",
      "source": [
        "#### バージョンの確認"
      ],
      "metadata": {
        "id": "daMkk5jQmAgf"
      }
    },
    {
      "cell_type": "code",
      "source": [
        "!pip install watermark | tail -n 1\n",
        "%load_ext watermark\n",
        "%watermark --iversions"
      ],
      "metadata": {
        "id": "oMZeD9bY9F-m"
      },
      "execution_count": null,
      "outputs": []
    },
    {
      "cell_type": "code",
      "source": [],
      "metadata": {
        "id": "Vqizv8yl14Kg"
      },
      "execution_count": null,
      "outputs": []
    }
  ]
}