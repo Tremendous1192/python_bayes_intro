{
  "nbformat": 4,
  "nbformat_minor": 0,
  "metadata": {
    "colab": {
      "provenance": [],
      "toc_visible": true
    },
    "kernelspec": {
      "name": "python3",
      "display_name": "Python 3"
    },
    "language_info": {
      "name": "python"
    }
  },
  "cells": [
    {
      "cell_type": "markdown",
      "source": [
        "## 2章　よく利用される確率分布"
      ],
      "metadata": {
        "id": "qSPzKMVJyI1Q"
      }
    },
    {
      "cell_type": "markdown",
      "source": [
        "### 共通処理"
      ],
      "metadata": {
        "id": "GnnBseyayPhn"
      }
    },
    {
      "cell_type": "code",
      "execution_count": null,
      "metadata": {
        "id": "if-gXKFKx5c9"
      },
      "outputs": [],
      "source": [
        "%matplotlib inline\n",
        "# 日本語化ライブラリ導入\n",
        "!pip install japanize-matplotlib | tail -n 1"
      ]
    },
    {
      "cell_type": "code",
      "source": [
        "# ライブラリのimport\n",
        "\n",
        "# NumPy用ライブラリ\n",
        "import numpy as np\n",
        "\n",
        "# Matplotlib中のpyplotライブラリのインポート\n",
        "import matplotlib.pyplot as plt\n",
        "\n",
        "# matplotlib日本語化対応ライブラリのインポート\n",
        "import japanize_matplotlib\n",
        "\n",
        "# pandas用ライブラリ\n",
        "import pandas as pd\n",
        "\n",
        "# データフレーム表示用関数\n",
        "from IPython.display import display\n",
        "\n",
        "# seaborn\n",
        "import seaborn as sns\n",
        "\n",
        "# 表示オプション調整\n",
        "\n",
        "# NumPy表示形式の設定\n",
        "np.set_printoptions(precision=3, floatmode='fixed')\n",
        "\n",
        "# グラフのデフォルトフォント指定\n",
        "plt.rcParams[\"font.size\"] = 14\n",
        "\n",
        "# サイズ設定\n",
        "plt.rcParams['figure.figsize'] = (6, 6)\n",
        "\n",
        "# 方眼表示ON\n",
        "plt.rcParams['axes.grid'] = True\n",
        "\n",
        "# データフレームでの表示精度\n",
        "pd.options.display.float_format = '{:.3f}'.format\n",
        "\n",
        "# データフレームですべての項目を表示\n",
        "pd.set_option(\"display.max_columns\",None)"
      ],
      "metadata": {
        "id": "zS2KvH3Kx-zQ"
      },
      "execution_count": null,
      "outputs": []
    },
    {
      "cell_type": "code",
      "source": [
        "import pymc as pm\n",
        "import arviz as az\n",
        "\n",
        "print(f\"Running on PyMC v{pm.__version__}\")\n",
        "print(f\"Running on ArViz v{az.__version__}\")"
      ],
      "metadata": {
        "id": "MFjinDyer3ue"
      },
      "execution_count": null,
      "outputs": []
    },
    {
      "cell_type": "markdown",
      "source": [
        "### 2.1 ベルヌーイ分布"
      ],
      "metadata": {
        "id": "V2FVffYn3_vQ"
      }
    },
    {
      "cell_type": "markdown",
      "source": [
        "#### 確率モデル定義"
      ],
      "metadata": {
        "id": "6AeYYMb05uxO"
      }
    },
    {
      "cell_type": "code",
      "source": [
        "# パラメータ設定\n",
        "p = 0.5\n",
        "\n",
        "model1 = pm.Model()\n",
        "with model1:\n",
        "    # pm.Bernoulli: ベルヌーイ分布\n",
        "    # p: くじに当たる確率\n",
        "    x = pm.Bernoulli('x', p=p)"
      ],
      "metadata": {
        "id": "4Vv8KwJ72gpZ"
      },
      "execution_count": null,
      "outputs": []
    },
    {
      "cell_type": "markdown",
      "source": [
        "#### サンプリング"
      ],
      "metadata": {
        "id": "IeElm9j9mORW"
      }
    },
    {
      "cell_type": "code",
      "source": [
        "with model1:\n",
        "    prior_samples1 = pm.sample_prior_predictive(random_seed=42)"
      ],
      "metadata": {
        "id": "DsCTkXRfmLrM"
      },
      "execution_count": null,
      "outputs": []
    },
    {
      "cell_type": "markdown",
      "source": [
        "#### 結果分析"
      ],
      "metadata": {
        "id": "r4b5ULfjjAQk"
      }
    },
    {
      "cell_type": "markdown",
      "source": [
        "##### NumPy形式のサンプル値抽出"
      ],
      "metadata": {
        "id": "EI_Z1Z03jLo9"
      }
    },
    {
      "cell_type": "code",
      "source": [
        "x_samples1 = prior_samples1['prior']['x'].values\n",
        "print(x_samples1)"
      ],
      "metadata": {
        "id": "wQGWtIkNeb_S"
      },
      "execution_count": null,
      "outputs": []
    },
    {
      "cell_type": "markdown",
      "source": [
        "##### サンプリング結果の統計分析"
      ],
      "metadata": {
        "id": "K62w1LCljUVd"
      }
    },
    {
      "cell_type": "code",
      "source": [
        "summary1 = az.summary(prior_samples1, kind='stats')\n",
        "display(summary1)"
      ],
      "metadata": {
        "id": "jC8fnBaVecli"
      },
      "execution_count": null,
      "outputs": []
    },
    {
      "cell_type": "markdown",
      "source": [
        "  ##### サンプリング結果の可視化"
      ],
      "metadata": {
        "id": "08BmsYxxjdAX"
      }
    },
    {
      "cell_type": "code",
      "source": [
        "ax = az.plot_dist(x_samples1)\n",
        "ax.set_title(f'ベルヌーイ分布　p={p}');"
      ],
      "metadata": {
        "id": "XioagmXMecw_"
      },
      "execution_count": null,
      "outputs": []
    },
    {
      "cell_type": "markdown",
      "source": [
        "### 2.2 二項分布"
      ],
      "metadata": {
        "id": "RuXmoumC7kKU"
      }
    },
    {
      "cell_type": "markdown",
      "source": [
        "#### 確率モデル定義(p=0.5, n=5)"
      ],
      "metadata": {
        "id": "4JmV0ZxGmvcm"
      }
    },
    {
      "cell_type": "code",
      "source": [
        "# パラメータ設定\n",
        "p = 0.5\n",
        "n = 5\n",
        "\n",
        "model2 = pm.Model()\n",
        "with model2:\n",
        "    # pm.Binomial: 二項分布\n",
        "    # p: くじに当たる確率\n",
        "    # n: 試行回数\n",
        "    x = pm.Binomial('x', p=p, n=n)"
      ],
      "metadata": {
        "id": "_xWgSMM4m2ga"
      },
      "execution_count": null,
      "outputs": []
    },
    {
      "cell_type": "markdown",
      "source": [
        "#### サンプルリングと結果分析"
      ],
      "metadata": {
        "id": "hTWTdG5PaWAp"
      }
    },
    {
      "cell_type": "code",
      "source": [
        "with model2:\n",
        "    # サンプリング\n",
        "    prior_samples2 = pm.sample_prior_predictive(random_seed=42)\n",
        "\n",
        "# サンプル値抽出\n",
        "x_samples2 = prior_samples2['prior']['x'].values\n",
        "print(x_samples2)\n",
        "\n",
        "# サンプリング結果の統計分析\n",
        "summary2 = az.summary(prior_samples2, kind='stats')\n",
        "display(summary2)\n",
        "\n",
        "# サンプリング結果の可視化\n",
        "ax = az.plot_dist(x_samples2)\n",
        "ax.set_title(f'二項分布　p={p} n={n}');"
      ],
      "metadata": {
        "id": "Mp5GiheQz0R4"
      },
      "execution_count": null,
      "outputs": []
    },
    {
      "cell_type": "markdown",
      "source": [
        "#### 確率モデル定義(p=0.5, n=50)、サンプリング"
      ],
      "metadata": {
        "id": "R7sDSnw0ePzC"
      }
    },
    {
      "cell_type": "code",
      "source": [
        "# パラメータ設定\n",
        "p = 0.5\n",
        "n = 50\n",
        "\n",
        "model3 = pm.Model()\n",
        "with model3:\n",
        "    # pm.Binomial: 二項分布\n",
        "    # p: くじに当たる確率\n",
        "    # n: 試行回数\n",
        "    x = pm.Binomial('x', p=p, n=n)\n",
        "\n",
        "    # サンプリング\n",
        "    prior_samples3 = pm.sample_prior_predictive(random_seed=42)\n",
        "\n",
        "# サンプル値の抽出\n",
        "x_samples3 = prior_samples3['prior']['x'].values\n",
        "print(x_samples3)\n",
        "\n",
        "# サンプリング結果の統計分析\n",
        "summary3 = az.summary(prior_samples3, kind='stats')\n",
        "display(summary3)\n",
        "\n",
        "# サンプリング結果の可視化\n",
        "ax = az.plot_dist(x_samples3)\n",
        "ax.set_title(f'二項分布　p={p} n={n}');"
      ],
      "metadata": {
        "id": "5njw6OoteX7V"
      },
      "execution_count": null,
      "outputs": []
    },
    {
      "cell_type": "markdown",
      "source": [
        "### 2.3 正規分布"
      ],
      "metadata": {
        "id": "D5c1V9sWyew2"
      }
    },
    {
      "cell_type": "markdown",
      "source": [
        "#### アイリスデータセットからsetosaのがく片長の分布を調べる"
      ],
      "metadata": {
        "id": "AQKScIlU6BhP"
      }
    },
    {
      "cell_type": "code",
      "source": [
        "# アイリスデータセットの読み込み\n",
        "df = sns.load_dataset('iris')\n",
        "\n",
        "# setosaの行のみ抽出\n",
        "df1 = df.query('species == \"setosa\"')\n",
        "\n",
        "bins = np.arange(4.0, 6.2, 0.2)\n",
        "# 分布の確認\n",
        "sns.histplot(df1, x='sepal_length', bins=bins, kde=True)\n",
        "plt.xticks(bins);"
      ],
      "metadata": {
        "id": "G98iCww4tszh"
      },
      "execution_count": null,
      "outputs": []
    },
    {
      "cell_type": "markdown",
      "source": [
        "#### 正規分布関数のグラフ"
      ],
      "metadata": {
        "id": "D63c7o4dg_CI"
      }
    },
    {
      "cell_type": "code",
      "source": [
        "# 正規分布関数の定義\n",
        "# (2.3.1式をNumPyで実装)\n",
        "def norm(x, mu, sigma):\n",
        "    return np.exp(-((x - mu)/sigma)**2/2) / (np.sqrt(2 * np.pi) * sigma)\n",
        "\n",
        "# パラメータ定義\n",
        "mu1, sigma1 = 3.0, 2.0\n",
        "mu2, sigma2 = 1.0, 3.0\n",
        "\n",
        "# グラフ描画用x座標の定義\n",
        "# 2つの正規分布関数で　±3sigmaまで入るように計算\n",
        "x = np.arange(-8.0, 10.0, 0.01)\n",
        "\n",
        "# x軸目盛の設定\n",
        "xticks = np.arange(-8.0, 11.0, 1.0)\n",
        "\n",
        "# グラフ描画\n",
        "plt.plot(x, norm(x, mu1, sigma1), label=f'mu={mu1} sigma={sigma1}')\n",
        "plt.plot(x, norm(x, mu2, sigma2), label=f'mu={mu2} sigma={sigma2}')\n",
        "plt.xticks(xticks, fontsize=12)\n",
        "plt.legend(fontsize=12)\n",
        "plt.title(f'正規分布関数のグラフ');"
      ],
      "metadata": {
        "id": "tKUs3ia1hPcJ"
      },
      "execution_count": null,
      "outputs": []
    },
    {
      "cell_type": "markdown",
      "source": [
        "#### 確率モデル定義(mu=0.0 sigma=1.0)"
      ],
      "metadata": {
        "id": "QAVR3w4EFEjT"
      }
    },
    {
      "cell_type": "code",
      "source": [
        "# パラメータ設定\n",
        "mu = 0.0\n",
        "sigma = 1.0\n",
        "\n",
        "model4 = pm.Model()\n",
        "with model4:\n",
        "    # pm.Normal: 正規分布\n",
        "    # mu:平均\n",
        "    # sigma:標準偏差\n",
        "    x = pm.Normal('x', mu=mu, sigma=sigma)"
      ],
      "metadata": {
        "id": "Fnji26SwnRk_"
      },
      "execution_count": null,
      "outputs": []
    },
    {
      "cell_type": "markdown",
      "source": [
        "#### サンプリング"
      ],
      "metadata": {
        "id": "EnSsbn83nns3"
      }
    },
    {
      "cell_type": "code",
      "source": [
        "with model4:\n",
        "    # サンプリング\n",
        "    prior_samples4 = pm.sample_prior_predictive(random_seed=42)\n",
        "\n",
        "# サンプル値抽出\n",
        "x_samples4 = prior_samples4['prior']['x'].values\n",
        "# 桁数が多いので先頭100個だけに限定\n",
        "print(x_samples4[:,:100])\n",
        "\n",
        "# サンプリング結果の可視化\n",
        "ax = az.plot_dist(x_samples4)\n",
        "ax.set_title(f'正規分布　mu={mu} sigma={sigma}');"
      ],
      "metadata": {
        "id": "TLqU5QKoEfyO"
      },
      "execution_count": null,
      "outputs": []
    },
    {
      "cell_type": "markdown",
      "source": [
        "#### ヒストグラムによる表示"
      ],
      "metadata": {
        "id": "IbAe3Wean8mY"
      }
    },
    {
      "cell_type": "code",
      "source": [
        "bins = np.arange(-3,3.5,0.5)\n",
        "ax = az.plot_dist(x_samples4, kind='hist',\n",
        "    hist_kwargs={'bins':bins})\n",
        "plt.xticks(np.arange(-3,4,1))\n",
        "ax.set_title(f'正規分布　mu={mu} sigma={sigma}');"
      ],
      "metadata": {
        "id": "Buugvn-HyLNt"
      },
      "execution_count": null,
      "outputs": []
    },
    {
      "cell_type": "markdown",
      "source": [
        "#### サンプリング結果の統計分析"
      ],
      "metadata": {
        "id": "C16uB7eSoKGe"
      }
    },
    {
      "cell_type": "code",
      "source": [
        "summary4 = az.summary(prior_samples4, kind='stats')\n",
        "display(summary4)"
      ],
      "metadata": {
        "id": "yfWlnJJvUN_2"
      },
      "execution_count": null,
      "outputs": []
    },
    {
      "cell_type": "markdown",
      "source": [
        "\n",
        "#### 確率モデル定義(mu=3.0 sigma=2,0)とサンプリング結果分析\n"
      ],
      "metadata": {
        "id": "9UL_s5dgNya8"
      }
    },
    {
      "cell_type": "code",
      "source": [
        "# パラメータ設定\n",
        "mu = 3.0\n",
        "sigma = 2.0\n",
        "\n",
        "model5 = pm.Model()\n",
        "with model5:\n",
        "    # pm.Normal: 正規分布\n",
        "    # mu:平均\n",
        "    # sigma:標準偏差\n",
        "    x = pm.Normal('x', mu=mu, sigma=sigma)\n",
        "\n",
        "    # サンプリング\n",
        "    prior_samples5 = pm.sample_prior_predictive(random_seed=42)\n",
        "\n",
        "# サンプル値抽出\n",
        "x_samples5 = prior_samples5['prior']['x'].values\n",
        "# 桁数が多いので先頭100個だけに限定\n",
        "print(x_samples5[:,:100])\n",
        "\n",
        "# サンプリング結果の可視化\n",
        "ax = az.plot_dist(x_samples5)\n",
        "ax.set_title(f'正規分布　mu={mu} sigma={sigma}');"
      ],
      "metadata": {
        "id": "rxafvDj7N8EY"
      },
      "execution_count": null,
      "outputs": []
    },
    {
      "cell_type": "markdown",
      "source": [
        "#### ヒストグラムによる表示"
      ],
      "metadata": {
        "id": "3NbxwxD7opmY"
      }
    },
    {
      "cell_type": "code",
      "source": [
        "bins = np.arange(-4, 10, 1.0)\n",
        "az.plot_dist(x_samples5, kind='hist',\n",
        "    hist_kwargs={'bins':bins})\n",
        "plt.title(f'正規分布　mu={mu} sigma={sigma}');"
      ],
      "metadata": {
        "id": "GcVsbbze1Y3F"
      },
      "execution_count": null,
      "outputs": []
    },
    {
      "cell_type": "markdown",
      "source": [
        "#### サンプリング結果の統計分析"
      ],
      "metadata": {
        "id": "2tyW19U6oxY0"
      }
    },
    {
      "cell_type": "code",
      "source": [
        "summary5 = az.summary(prior_samples5, kind='stats')\n",
        "display(summary5)"
      ],
      "metadata": {
        "id": "yPA63AOXj8kd"
      },
      "execution_count": null,
      "outputs": []
    },
    {
      "cell_type": "markdown",
      "source": [
        "### 2.4 一様分布"
      ],
      "metadata": {
        "id": "BpDJ0b5K0r6A"
      }
    },
    {
      "cell_type": "markdown",
      "source": [
        "#### 確率モデル生成(lower=0.0, upper=1.0)"
      ],
      "metadata": {
        "id": "WBBD8wB80r6B"
      }
    },
    {
      "cell_type": "code",
      "source": [
        "# パラメータ設定\n",
        "lower = 0.0\n",
        "upper = 1.0\n",
        "\n",
        "model6 = pm.Model()\n",
        "with model6:\n",
        "    # pm.Uniform: 一様分布\n",
        "    # lower: 下限値\n",
        "    # upper: 上限値\n",
        "    x = pm.Uniform('x', lower=lower, upper=upper)"
      ],
      "metadata": {
        "id": "KnNUsf5t0r6B"
      },
      "execution_count": null,
      "outputs": []
    },
    {
      "cell_type": "markdown",
      "source": [
        "#### サンプリングと結果分析"
      ],
      "metadata": {
        "id": "FNeanQrMzU_g"
      }
    },
    {
      "cell_type": "code",
      "source": [
        "with model6:\n",
        "    # サンプリング\n",
        "    prior_samples6 = pm.sample_prior_predictive(random_seed=42)\n",
        "\n",
        "# サンプル値抽出\n",
        "x_samples6 = prior_samples6['prior']['x'].values\n",
        "print(x_samples6[:,:100])\n",
        "\n",
        "# サンプリング結果の可視化\n",
        "ax = az.plot_dist(x_samples6)\n",
        "ax.set_title(f'一様分布 lower={lower} upper={upper}');"
      ],
      "metadata": {
        "id": "JCOcBNh4zGm6"
      },
      "execution_count": null,
      "outputs": []
    },
    {
      "cell_type": "markdown",
      "source": [
        "#### サンプリング結果のヒストグラム表示"
      ],
      "metadata": {
        "id": "N9dDyAcYzgZe"
      }
    },
    {
      "cell_type": "code",
      "source": [
        "bins = np.arange(0.0,1.1,0.1)\n",
        "ax = az.plot_dist(x_samples6, kind='hist',\n",
        "    hist_kwargs={'bins':bins})\n",
        "ax.set_title(f'一様分布 lower={lower} upper={upper}');"
      ],
      "metadata": {
        "id": "86m9Frob0r6B"
      },
      "execution_count": null,
      "outputs": []
    },
    {
      "cell_type": "markdown",
      "source": [
        "#### サンプリング結果の統計分析"
      ],
      "metadata": {
        "id": "g-WJZdGmzydc"
      }
    },
    {
      "cell_type": "code",
      "source": [
        "summary6 = az.summary(prior_samples6, kind='stats')\n",
        "display(summary6)"
      ],
      "metadata": {
        "id": "0lFYJata0r6B"
      },
      "execution_count": null,
      "outputs": []
    },
    {
      "cell_type": "markdown",
      "source": [
        "#### 確率モデル定義(下限値0.1、上限値0.9)とサンプリング結果分析"
      ],
      "metadata": {
        "id": "SQyXSOI10r6B"
      }
    },
    {
      "cell_type": "code",
      "source": [
        "# パラメータ設定\n",
        "lower = 0.1\n",
        "upper = 0.9\n",
        "\n",
        "model7 = pm.Model()\n",
        "with model7:\n",
        "    # pm.Uniform: 一様分布\n",
        "    # lower: 下限値\n",
        "    # upper: 上限値\n",
        "    x = pm.Uniform('x', lower=lower, upper=upper)\n",
        "\n",
        "    # サンプリング\n",
        "    prior_samples7 = pm.sample_prior_predictive(random_seed=42)\n",
        "\n",
        "# サンプル値抽出\n",
        "x_samples7 = prior_samples7['prior']['x'].values\n",
        "print(x_samples7[:,:100])\n",
        "\n",
        "# サンプリング結果の可視化\n",
        "ax = az.plot_dist(x_samples7)\n",
        "ax.set_title(f'一様分布 lower={lower} upper={upper}');"
      ],
      "metadata": {
        "id": "s9X1aBeE0r6C"
      },
      "execution_count": null,
      "outputs": []
    },
    {
      "cell_type": "markdown",
      "source": [
        "#### サンプリング結果のヒストグラム表示"
      ],
      "metadata": {
        "id": "383Drcj96eTu"
      }
    },
    {
      "cell_type": "code",
      "source": [
        "bins = np.arange(0.0,1.1,0.1)\n",
        "ax = az.plot_dist(x_samples7, kind='hist',\n",
        "    hist_kwargs={'bins':bins})\n",
        "ax.set_title(f'一様分布 lower={lower} upper={upper}');"
      ],
      "metadata": {
        "id": "5kXo7wOi0r6C"
      },
      "execution_count": null,
      "outputs": []
    },
    {
      "cell_type": "markdown",
      "source": [
        "### 2.5 ベータ分布"
      ],
      "metadata": {
        "id": "ovR31ClSp52k"
      }
    },
    {
      "cell_type": "markdown",
      "source": [
        "#### ベータ分布　確率密度関数のグラフ (alpha=3, beta=4)"
      ],
      "metadata": {
        "id": "TwCpKKFRO8sD"
      }
    },
    {
      "cell_type": "code",
      "source": [
        "from math import gamma\n",
        "\n",
        "# パラメータ定義\n",
        "alpha = 2.0 + 1.0\n",
        "beta = 3.0 + 1.0\n",
        "\n",
        "# ベータ関数の定義\n",
        "def Beta(p, alpha, beta):\n",
        "    C = gamma(alpha+beta-1)/(gamma(alpha-1)*gamma(beta-1))\n",
        "    return C * p ** (alpha-1) * (1-p) ** (beta-1)\n",
        "\n",
        "# グラフ描画用x座標の定義\n",
        "# 0.0 < p < 1.0\n",
        "p = np.arange(0.0, 1.0, 0.01)\n",
        "\n",
        "# グラフ描画\n",
        "plt.plot(p, Beta(p, alpha, beta))\n",
        "plt.title(f'ベータ分布確率密度関数 alpha={alpha} beta={beta}')\n",
        "plt.xlabel(r'$p$')\n",
        "plt.ylabel('尤度');"
      ],
      "metadata": {
        "id": "EHpCr4MSPCmv"
      },
      "execution_count": null,
      "outputs": []
    },
    {
      "cell_type": "markdown",
      "source": [
        "#### 確率モデル定義(alpha=3, beta=4)"
      ],
      "metadata": {
        "id": "egmIRPJShXmi"
      }
    },
    {
      "cell_type": "code",
      "source": [
        "# パラメータ設定\n",
        "alpha = 2.0 + 1.0\n",
        "beta = 3.0 + 1.0\n",
        "\n",
        "model8 = pm.Model()\n",
        "with model8:\n",
        "    # pm.Beta: ベータ分布\n",
        "    # alpha:くじに当たった回数+1\n",
        "    # beta:くじにはずれた回数+1\n",
        "    p = pm.Beta('p', alpha=alpha, beta=beta)"
      ],
      "metadata": {
        "id": "H7SO9QbZhoaj"
      },
      "execution_count": null,
      "outputs": []
    },
    {
      "cell_type": "markdown",
      "source": [
        "#### サンプリングと結果分析"
      ],
      "metadata": {
        "id": "8B9IszOAp-cD"
      }
    },
    {
      "cell_type": "code",
      "source": [
        "with model8:\n",
        "    # サンプリング\n",
        "    prior_samples8 = pm.sample_prior_predictive(random_seed=42)\n",
        "\n",
        "# サンプル値抽出\n",
        "p_samples8 = prior_samples8['prior']['p'].values\n",
        "# 桁数が多いので先頭100個だけに限定\n",
        "print(p_samples8[:,:100])\n",
        "\n",
        "# サンプリング結果の可視化\n",
        "ax = az.plot_dist(p_samples8)\n",
        "ax.set_title(f'ベータ分布　alpha={alpha} beta={beta}');"
      ],
      "metadata": {
        "id": "yHBfUMQe3aHg"
      },
      "execution_count": null,
      "outputs": []
    },
    {
      "cell_type": "markdown",
      "source": [
        "#### サンプル結果のヒストグラム表示"
      ],
      "metadata": {
        "id": "pK7QeaMF-Fdz"
      }
    },
    {
      "cell_type": "code",
      "source": [
        "bins = np.arange(0, 1.0, 0.1)\n",
        "ax = az.plot_dist(p_samples8, kind='hist',\n",
        "    hist_kwargs={'bins':bins})\n",
        "ax.set_title(f'ベータ分布　alpha={alpha} beta={beta}');"
      ],
      "metadata": {
        "id": "harYf2O0PmWa"
      },
      "execution_count": null,
      "outputs": []
    },
    {
      "cell_type": "markdown",
      "source": [
        "#### サンプリング結果の統計分析"
      ],
      "metadata": {
        "id": "0UcKz_h3-Luk"
      }
    },
    {
      "cell_type": "code",
      "source": [
        "summary8 = az.summary(prior_samples8, kind='stats')\n",
        "display(summary8)"
      ],
      "metadata": {
        "id": "nXj3usJiqc0G"
      },
      "execution_count": null,
      "outputs": []
    },
    {
      "cell_type": "markdown",
      "source": [
        "#### 確率モデル定義(alpha=21, beta=31)とサンプリング結果分析"
      ],
      "metadata": {
        "id": "AzPiLT0us7MB"
      }
    },
    {
      "cell_type": "code",
      "source": [
        "# パラメータ設定\n",
        "alpha = 20.0 + 1.0\n",
        "beta = 30.0 + 1.0\n",
        "\n",
        "model9 = pm.Model()\n",
        "with model9:\n",
        "    # pm.Beta: ベータ分布\n",
        "    # alpha: 注目している試行の成功数+1\n",
        "    # beta: 注目している試行の失敗数+1\n",
        "    p = pm.Beta('p', alpha=alpha, beta=beta)\n",
        "\n",
        "    # サンプリング\n",
        "    prior_samples9 = pm.sample_prior_predictive(random_seed=42)\n",
        "\n",
        "# サンプル値抽出\n",
        "p_samples9 = prior_samples9['prior']['p'].values\n",
        "# 桁数が多いので先頭100個だけに限定\n",
        "print(p_samples9[:,:100])\n",
        "\n",
        "# サンプリング結果の可視化\n",
        "ax = az.plot_dist(p_samples9)\n",
        "ax.set_title(f'ベータ分布　alpha={alpha} beta={beta}');"
      ],
      "metadata": {
        "id": "69gh_aAotDLU"
      },
      "execution_count": null,
      "outputs": []
    },
    {
      "cell_type": "markdown",
      "source": [
        "####  サンプリング結果のヒストグラム表示"
      ],
      "metadata": {
        "id": "D6dw3ewx9e1o"
      }
    },
    {
      "cell_type": "code",
      "source": [
        "bins = np.arange(0.2, 0.6, 0.05)\n",
        "ax = az.plot_dist(p_samples9, kind='hist',\n",
        "    hist_kwargs={'bins':bins})\n",
        "ax.set_title(f'ベータ分布　alpha={alpha} beta={beta}');"
      ],
      "metadata": {
        "id": "2CqSleyh9lTb"
      },
      "execution_count": null,
      "outputs": []
    },
    {
      "cell_type": "markdown",
      "source": [
        "#### サンプリング結果の統計分析"
      ],
      "metadata": {
        "id": "JLu5fQi-9vSQ"
      }
    },
    {
      "cell_type": "code",
      "source": [
        "summary9 = az.summary(prior_samples9, kind='stats')\n",
        "display(summary9)"
      ],
      "metadata": {
        "id": "tDqFx7kBuOPu"
      },
      "execution_count": null,
      "outputs": []
    },
    {
      "cell_type": "markdown",
      "source": [
        "### 2.6 半正規分布\n"
      ],
      "metadata": {
        "id": "fz7Yh56ivI84"
      }
    },
    {
      "cell_type": "markdown",
      "source": [
        "#### 確率モデル定義(sigma=1.0)"
      ],
      "metadata": {
        "id": "FBP9NkXcincj"
      }
    },
    {
      "cell_type": "code",
      "source": [
        "# パラメータ設定\n",
        "sigma = 1.0\n",
        "\n",
        "model10 = pm.Model()\n",
        "with model10:\n",
        "    # pm.HalfNormal: 半正規分布\n",
        "    # sigma: 標準偏差\n",
        "    x = pm.HalfNormal('x', sigma=sigma)"
      ],
      "metadata": {
        "id": "RfeOhJBbitiW"
      },
      "execution_count": null,
      "outputs": []
    },
    {
      "cell_type": "markdown",
      "source": [
        "#### サンプリングと結果分析"
      ],
      "metadata": {
        "id": "tsAlzrNZ65OY"
      }
    },
    {
      "cell_type": "code",
      "source": [
        "with model10:\n",
        "    # サンプリング\n",
        "    prior_samples10 = pm.sample_prior_predictive(random_seed=42)\n",
        "\n",
        "# サンプル値抽出\n",
        "x_samples10 = prior_samples10['prior']['x'].values\n",
        "# 桁数が多いので先頭100個だけに限定\n",
        "print(x_samples10[:,:100])\n",
        "\n",
        "# サンプリング結果の可視化\n",
        "ax = az.plot_dist(x_samples10)\n",
        "ax.set_title(f'半正規分布　sigma={sigma}');"
      ],
      "metadata": {
        "id": "HXPitM6GS8ti"
      },
      "execution_count": null,
      "outputs": []
    },
    {
      "cell_type": "markdown",
      "source": [
        "### コラム　HDIとCIの違い"
      ],
      "metadata": {
        "id": "wiDbfCpCipD4"
      }
    },
    {
      "cell_type": "markdown",
      "source": [
        " #### CIグラフ描画準備"
      ],
      "metadata": {
        "id": "icIVVsY07OhJ"
      }
    },
    {
      "cell_type": "code",
      "source": [
        "# カイ2乗分布(nu=3)の確率密度関数\n",
        "def qui_square(x):\n",
        "    w = x/(2*np.pi)\n",
        "    return np.sqrt(w) * np.exp(-x/2)\n",
        "\n",
        "# x1, x2はa1, a2の値が0.1になるようにヒューリスティックに求めた\n",
        "x1 = 0.585\n",
        "x2 = 6.25\n",
        "\n",
        "# 数値積分でグラフの面積を計算\n",
        "from scipy import integrate\n",
        "a1, _err1 = integrate.quad(qui_square, 0, x1)\n",
        "a2, _err2 = integrate.quad(qui_square, x2, 1000)\n",
        "a = np.array([a1, a2])\n",
        "print(a)"
      ],
      "metadata": {
        "id": "DkY_18VJiyNz"
      },
      "execution_count": null,
      "outputs": []
    },
    {
      "cell_type": "markdown",
      "source": [
        "#### CIグラフ描画"
      ],
      "metadata": {
        "id": "w99-tzvA7Wa4"
      }
    },
    {
      "cell_type": "code",
      "source": [
        "x = np.arange(0.0, 15, 0.01)\n",
        "x_between = np.logical_and((x1 < x), (x  < x2))\n",
        "y = qui_square(x)\n",
        "plt.plot(x, y)\n",
        "plt.fill_between(x, 0, y, where=x_between, color='b')\n",
        "plt.plot((x1, x1), (0, 0.25), c='k')\n",
        "plt.plot((x2, x2), (0, 0.25), c='k')\n",
        "plt.title('CI (credible interval)の考え方');"
      ],
      "metadata": {
        "id": "eNmmR9lJiyYe"
      },
      "execution_count": null,
      "outputs": []
    },
    {
      "cell_type": "markdown",
      "source": [
        "#### HDIグラフ描画準備"
      ],
      "metadata": {
        "id": "XT459NRt7gT8"
      }
    },
    {
      "cell_type": "code",
      "source": [
        "from scipy import optimize\n",
        "\n",
        "def h(x):\n",
        "    return qui_square(x) - 0.05\n",
        "\n",
        "print(optimize.fsolve(h, 0.0))\n",
        "print(optimize.fsolve(h, 5.0))"
      ],
      "metadata": {
        "id": "C9-7Be2_u9QL"
      },
      "execution_count": null,
      "outputs": []
    },
    {
      "cell_type": "markdown",
      "source": [
        "#### HDIグラフ描画"
      ],
      "metadata": {
        "id": "zQt3yjXQ7nwg"
      }
    },
    {
      "cell_type": "code",
      "source": [
        "x = np.arange(0.0, 15, 0.01)\n",
        "x1 = 0.02\n",
        "x2 = 5.93\n",
        "y = qui_square(x)\n",
        "plt.plot(x, y)\n",
        "plt.fill_between(x, 0.0, y, where= np.logical_and(x > x1, x < x2), color='b')\n",
        "plt.plot((0, 15.0), (0.05, 0.05), c='k')\n",
        "plt.plot((x1, x1), (0, 0.25), c='k')\n",
        "plt.plot((x2, x2), (0, 0.25), c='k')\n",
        "plt.title('HDI (highest density interval)の考え方');"
      ],
      "metadata": {
        "id": "UOAhoyTkiyc5"
      },
      "execution_count": null,
      "outputs": []
    },
    {
      "cell_type": "markdown",
      "source": [
        "### バージョンの確認"
      ],
      "metadata": {
        "id": "LF9g5uh0sf-g"
      }
    },
    {
      "cell_type": "code",
      "source": [
        "!pip install watermark | tail -n 1\n",
        "%load_ext watermark\n",
        "%watermark --iversions"
      ],
      "metadata": {
        "id": "JTL8C57rDC9t"
      },
      "execution_count": null,
      "outputs": []
    },
    {
      "cell_type": "code",
      "source": [],
      "metadata": {
        "id": "0aE6KEvLHQ_i"
      },
      "execution_count": null,
      "outputs": []
    }
  ]
}