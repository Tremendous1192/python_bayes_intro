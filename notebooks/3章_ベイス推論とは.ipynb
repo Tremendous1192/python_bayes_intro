{
  "cells": [
    {
      "cell_type": "markdown",
      "metadata": {
        "id": "z9YCAOVcfPie"
      },
      "source": [
        "## 3章　ベイス推論とは"
      ]
    },
    {
      "cell_type": "markdown",
      "metadata": {
        "id": "tNWSPFiM1zaG"
      },
      "source": [
        "<a href=\"https://colab.research.google.com/github/makaishi2/python_bayes_intro/blob/main/notebooks/3%E7%AB%A0_%E3%83%99%E3%82%A4%E3%82%B9%E6%8E%A8%E8%AB%96%E3%81%A8%E3%81%AF.ipynb\" target=\"_parent\"><img src=\"https://colab.research.google.com/assets/colab-badge.svg\" alt=\"Open In Colab\"/></a>\n"
      ]
    },
    {
      "cell_type": "markdown",
      "metadata": {
        "id": "_HG_NLmyfdF6"
      },
      "source": [
        "### 共通処理"
      ]
    },
    {
      "cell_type": "code",
      "execution_count": 1,
      "metadata": {
        "id": "LF-JMPVefZXr"
      },
      "outputs": [],
      "source": [
        "#%matplotlib inline\n",
        "# 日本語化ライブラリ導入\n",
        "#!pip install japanize-matplotlib | tail -n 1"
      ]
    },
    {
      "cell_type": "code",
      "execution_count": 2,
      "metadata": {
        "id": "SllTvgULfivc"
      },
      "outputs": [],
      "source": [
        "# ライブラリのimport\n",
        "\n",
        "# NumPy用ライブラリ\n",
        "import numpy as np\n",
        "# Matplotlib中のpyplotライブラリのインポート\n",
        "import matplotlib.pyplot as plt\n",
        "# matplotlib日本語化対応ライブラリのインポート\n",
        "import japanize_matplotlib\n",
        "# pandas用ライブラリ\n",
        "import pandas as pd\n",
        "# データフレーム表示用関数\n",
        "from IPython.display import display\n",
        "# seaborn\n",
        "import seaborn as sns\n",
        "# 表示オプション調整\n",
        "# NumPy表示形式の設定\n",
        "np.set_printoptions(precision=3, floatmode='fixed')\n",
        "# グラフのデフォルトフォント指定\n",
        "plt.rcParams[\"font.size\"] = 14\n",
        "# サイズ設定\n",
        "plt.rcParams['figure.figsize'] = (6, 6)\n",
        "# 方眼表示ON\n",
        "plt.rcParams['axes.grid'] = True\n",
        "# データフレームでの表示精度\n",
        "pd.options.display.float_format = '{:.3f}'.format\n",
        "# データフレームですべての項目を表示\n",
        "pd.set_option(\"display.max_columns\",None)"
      ]
    },
    {
      "cell_type": "code",
      "execution_count": 3,
      "metadata": {
        "id": "MBzeKi-lfltG"
      },
      "outputs": [
        {
          "name": "stdout",
          "output_type": "stream",
          "text": [
            "Running on PyMC v5.11.0\n",
            "Running on ArViz v0.17.1\n"
          ]
        }
      ],
      "source": [
        "import pymc as pm\n",
        "import arviz as az\n",
        "\n",
        "print(f\"Running on PyMC v{pm.__version__}\")\n",
        "print(f\"Running on ArViz v{az.__version__}\")"
      ]
    },
    {
      "cell_type": "markdown",
      "metadata": {
        "id": "tSoiwbzgfyWE"
      },
      "source": [
        "### 3.1 ベイズ推論利用の目的"
      ]
    },
    {
      "cell_type": "code",
      "execution_count": 4,
      "metadata": {
        "id": "uXtb8isNfoal"
      },
      "outputs": [
        {
          "data": {
            "image/png": "[encoded data removed]",
            "text/plain": [
              "<Figure size 600x600 with 1 Axes>"
            ]
          },
          "metadata": {},
          "output_type": "display_data"
        }
      ],
      "source": [
        "# [0, 1]区間一様分布の確率密度関数\n",
        "def f(x):\n",
        "    # 関数をユニバーサル関数にするための工夫\n",
        "    return x - x + 1.0\n",
        "\n",
        "x = np.arange(0.0, 1.1, 0.1)\n",
        "plt.fill_between(x, f(x))\n",
        "plt.title('区間[0, 1]一様分布の確率密度関数');"
      ]
    },
    {
      "cell_type": "markdown",
      "metadata": {
        "id": "W3l3sKXzanNg"
      },
      "source": [
        "### バージョンの確認"
      ]
    },
    {
      "cell_type": "code",
      "execution_count": 5,
      "metadata": {
        "id": "KOTCOgxggKcP"
      },
      "outputs": [
        {
          "name": "stdout",
          "output_type": "stream",
          "text": [
            "numpy              : 1.26.4\n",
            "pandas             : 2.2.1\n",
            "pymc               : 5.11.0\n",
            "arviz              : 0.17.1\n",
            "seaborn            : 0.12.2\n",
            "japanize_matplotlib: 1.1.3\n",
            "matplotlib         : 3.8.3\n",
            "\n"
          ]
        }
      ],
      "source": [
        "#!pip install watermark | tail -n 1\n",
        "%load_ext watermark\n",
        "%watermark --iversions"
      ]
    }
  ],
  "metadata": {
    "colab": {
      "provenance": [],
      "toc_visible": true
    },
    "kernelspec": {
      "display_name": "Python 3",
      "name": "python3"
    },
    "language_info": {
      "codemirror_mode": {
        "name": "ipython",
        "version": 3
      },
      "file_extension": ".py",
      "mimetype": "text/x-python",
      "name": "python",
      "nbconvert_exporter": "python",
      "pygments_lexer": "ipython3",
      "version": "3.11.8"
    }
  },
  "nbformat": 4,
  "nbformat_minor": 0
}
