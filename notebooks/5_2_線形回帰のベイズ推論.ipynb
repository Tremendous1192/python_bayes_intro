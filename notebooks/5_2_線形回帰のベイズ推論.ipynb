{
  "nbformat": 4,
  "nbformat_minor": 0,
  "metadata": {
    "colab": {
      "provenance": [],
      "toc_visible": true
    },
    "kernelspec": {
      "name": "python3",
      "display_name": "Python 3"
    },
    "language_info": {
      "name": "python"
    }
  },
  "cells": [
    {
      "cell_type": "markdown",
      "source": [
        "## 5.2 線形回帰のベイス推論"
      ],
      "metadata": {
        "id": "uIoj_UW_qasp"
      }
    },
    {
      "cell_type": "markdown",
      "source": [
        "### 共通処理"
      ],
      "metadata": {
        "id": "vdi2sqRyqr4p"
      }
    },
    {
      "cell_type": "code",
      "source": [
        "%matplotlib inline\n",
        "# 日本語化ライブラリ導入\n",
        "!pip install japanize-matplotlib | tail -n 1"
      ],
      "metadata": {
        "id": "0dTjJOmIqmiS"
      },
      "execution_count": null,
      "outputs": []
    },
    {
      "cell_type": "code",
      "source": [
        "# ライブラリのimport\n",
        "\n",
        "# NumPy用ライブラリ\n",
        "import numpy as np\n",
        "\n",
        "# Matplotlib中のpyplotライブラリのインポート\n",
        "import matplotlib.pyplot as plt\n",
        "\n",
        "# matplotlib日本語化対応ライブラリのインポート\n",
        "import japanize_matplotlib\n",
        "\n",
        "# pandas用ライブラリ\n",
        "import pandas as pd\n",
        "\n",
        "# データフレーム表示用関数\n",
        "from IPython.display import display\n",
        "\n",
        "# seaborn\n",
        "import seaborn as sns\n",
        "\n",
        "# 表示オプション調整\n",
        "\n",
        "# NumPy表示形式の設定\n",
        "np.set_printoptions(precision=3, floatmode='fixed')\n",
        "\n",
        "# グラフのデフォルトフォント指定\n",
        "plt.rcParams[\"font.size\"] = 14\n",
        "\n",
        "# サイズ設定\n",
        "plt.rcParams['figure.figsize'] = (6, 6)\n",
        "\n",
        "# 方眼表示ON\n",
        "plt.rcParams['axes.grid'] = True\n",
        "\n",
        "# データフレームでの表示精度\n",
        "pd.options.display.float_format = '{:.3f}'.format\n",
        "\n",
        "# データフレームですべての項目を表示\n",
        "pd.set_option(\"display.max_columns\",None)"
      ],
      "metadata": {
        "id": "M46-MnBXq5-Z"
      },
      "execution_count": null,
      "outputs": []
    },
    {
      "cell_type": "code",
      "source": [
        "import pymc as pm\n",
        "import arviz as az\n",
        "\n",
        "print(f\"Running on PyMC v{pm.__version__}\")\n",
        "print(f\"Running on ArViz v{az.__version__}\")"
      ],
      "metadata": {
        "id": "my5YU9YCq-ou"
      },
      "execution_count": null,
      "outputs": []
    },
    {
      "cell_type": "markdown",
      "source": [
        "###  5.2.1 問題設定\n",
        "アイリスデータセットで花の種類を特定した場合、２つの項目値には正の相関があり。線形回帰(単回帰)に従うと見なせる。  \n",
        "当実習では、上の点を前提とした上で、最適な回帰式をベイズ推論で求める。  \n"
      ],
      "metadata": {
        "id": "rBIfYJ_BrGUD"
      }
    },
    {
      "cell_type": "markdown",
      "source": [
        "### 5.2.2 データ準備"
      ],
      "metadata": {
        "id": "lnTxrJeXtJlG"
      }
    },
    {
      "cell_type": "markdown",
      "source": [
        "#### データ読み込みと確認"
      ],
      "metadata": {
        "id": "qtTYOjAQlH-G"
      }
    },
    {
      "cell_type": "code",
      "source": [
        "# アイリスデータセットの読み込み\n",
        "df = sns.load_dataset('iris')\n",
        "\n",
        "# 先頭5行の確認\n",
        "display(df.head())\n",
        "\n",
        "#  speciesの分布確認\n",
        "df['species'].value_counts()"
      ],
      "metadata": {
        "id": "4DkJdzLIrCFM"
      },
      "execution_count": null,
      "outputs": []
    },
    {
      "cell_type": "markdown",
      "source": [
        "#### 分析対象データ抽出"
      ],
      "metadata": {
        "id": "OZIm6GndlUDA"
      }
    },
    {
      "cell_type": "code",
      "source": [
        "# versicolorの行のみ抽出\n",
        "df1 = df.query('species == \"versicolor\"')\n",
        "\n",
        "# sepal_lengthとsepal_widthの列を抽出\n",
        "X = df1['sepal_length']\n",
        "Y = df1['sepal_width']"
      ],
      "metadata": {
        "id": "ugzTmiojNV6m"
      },
      "execution_count": null,
      "outputs": []
    },
    {
      "cell_type": "markdown",
      "source": [
        "####  分析対象項目間の散布図表示"
      ],
      "metadata": {
        "id": "TMDozZ0XojEK"
      }
    },
    {
      "cell_type": "code",
      "source": [
        "plt.title('二つの項目間の関係')\n",
        "plt.scatter(X, Y, label='ベイズ推論で利用', c='b', marker='o')\n",
        "plt.legend()\n",
        "plt.xlabel('sepal_length')\n",
        "plt.ylabel('sepal_width');"
      ],
      "metadata": {
        "id": "RVvUfPLGVTH-"
      },
      "execution_count": null,
      "outputs": []
    },
    {
      "cell_type": "markdown",
      "source": [
        "### 5.2.3 確率モデル定義1"
      ],
      "metadata": {
        "id": "PgH4jGWpvoW9"
      }
    },
    {
      "cell_type": "markdown",
      "source": [
        "$ y_n =  \\alpha  x_n + \\beta +  \\epsilon_n$"
      ],
      "metadata": {
        "id": "_OL7srviYyiX"
      }
    },
    {
      "cell_type": "markdown",
      "source": [
        "#### 確率モデル定義1\n",
        "シンプルなモデル定義の方法"
      ],
      "metadata": {
        "id": "KGL7gLc4Iy8M"
      }
    },
    {
      "cell_type": "code",
      "source": [
        "model1 = pm.Model()\n",
        "\n",
        "with model1:\n",
        "    # 確率変数alpha、betaの定義(一次関数の傾きと切片)\n",
        "    alpha = pm.Normal('alpha', mu=0, sigma=10.0)\n",
        "    beta = pm.Normal('beta', mu=0, sigma=10.0)\n",
        "\n",
        "    # 平均値muの計算\n",
        "    mu = alpha * X + beta\n",
        "\n",
        "    #　誤差を示す確率変数epsilonの定義\n",
        "    epsilon = pm.HalfNormal('epsilon', sigma=1.0)\n",
        "\n",
        "    # 観測値を持つ確率変数はY_obsとして定義\n",
        "    Y_obs= pm.Normal('Y_obs', mu=mu, sigma=epsilon, observed=Y)"
      ],
      "metadata": {
        "id": "Bdk8zw3fuphC"
      },
      "execution_count": null,
      "outputs": []
    },
    {
      "cell_type": "markdown",
      "source": [
        "#### 確率モデル構造の可視化"
      ],
      "metadata": {
        "id": "KP68nsy3I9Eo"
      }
    },
    {
      "cell_type": "code",
      "source": [
        "g = pm.model_to_graphviz(model1)\n",
        "display(g)"
      ],
      "metadata": {
        "id": "WoopmWwGvvWe"
      },
      "execution_count": null,
      "outputs": []
    },
    {
      "cell_type": "markdown",
      "source": [
        "### 5.2.4 確率モデル定義2\n",
        "より詳細なモデル定義の方法"
      ],
      "metadata": {
        "id": "eAKDls9dJ-Q_"
      }
    },
    {
      "cell_type": "markdown",
      "source": [
        "#### 確率モデル定義2"
      ],
      "metadata": {
        "id": "QdqlMSQOJGBz"
      }
    },
    {
      "cell_type": "code",
      "source": [
        "model2 = pm.Model()\n",
        "\n",
        "with model2:\n",
        "    # X, Yの観測値をConstantDataとして定義\n",
        "    X_data = pm.ConstantData('X_data', X)\n",
        "    Y_data = pm.ConstantData('Y_data', Y)\n",
        "\n",
        "    # 確率変数alpha、betaの定義(一次関数の傾きと切片)\n",
        "    alpha = pm.Normal('alpha', mu=0, sigma=10.0)\n",
        "    beta = pm.Normal('beta', mu=0, sigma=10.0)\n",
        "\n",
        "    # 平均値muの計算\n",
        "    mu = pm.Deterministic('mu', alpha * X_data + beta)\n",
        "\n",
        "    #　誤差を示す確率変数epsilonの定義\n",
        "    epsilon = pm.HalfNormal('epsilon', sigma=1.0)\n",
        "\n",
        "    # 観測値を持つ確率変数はobsとして定義\n",
        "    obs = pm.Normal('obs', mu=mu, sigma=epsilon, observed=Y_data)"
      ],
      "metadata": {
        "id": "8ibX_Xo2J2pB"
      },
      "execution_count": null,
      "outputs": []
    },
    {
      "cell_type": "markdown",
      "source": [
        "#### 確率モデル構造の可視化"
      ],
      "metadata": {
        "id": "yag_0AbFxpJ3"
      }
    },
    {
      "cell_type": "code",
      "source": [
        "g = pm.model_to_graphviz(model2)\n",
        "display(g)"
      ],
      "metadata": {
        "id": "QtK06_gdKESL"
      },
      "execution_count": null,
      "outputs": []
    },
    {
      "cell_type": "markdown",
      "source": [
        "### 5.2.5 サンプリングと結果分析"
      ],
      "metadata": {
        "id": "_mP-yzOLv_9n"
      }
    },
    {
      "cell_type": "markdown",
      "source": [
        "#### サンプリング"
      ],
      "metadata": {
        "id": "pIhC2Q0NxysT"
      }
    },
    {
      "cell_type": "code",
      "source": [
        "with model2:\n",
        "    idata2 = pm.sample(random_seed=42)"
      ],
      "metadata": {
        "id": "zQSSO-S9v4Qr"
      },
      "execution_count": null,
      "outputs": []
    },
    {
      "cell_type": "markdown",
      "source": [
        "#### plot_trace関数呼び出し"
      ],
      "metadata": {
        "id": "jUIFku6B0Pt0"
      }
    },
    {
      "cell_type": "code",
      "source": [
        "az.plot_trace(idata2, compact=False, var_names=['alpha', 'beta', 'epsilon'])\n",
        "plt.tight_layout();"
      ],
      "metadata": {
        "id": "IFYibU57KOdZ"
      },
      "execution_count": null,
      "outputs": []
    },
    {
      "cell_type": "markdown",
      "source": [
        "#### plot_posterior関数呼び出し"
      ],
      "metadata": {
        "id": "Nsc3eedw0ab-"
      }
    },
    {
      "cell_type": "markdown",
      "source": [
        "### 5.2.6 回帰直線と散布図の重ね描き"
      ],
      "metadata": {
        "id": "PTcyd5k32g6G"
      }
    },
    {
      "cell_type": "markdown",
      "source": [
        "#### 個別のサンプルにおける回帰直線予測値の計算"
      ],
      "metadata": {
        "id": "d-UzacE93MZ3"
      }
    },
    {
      "cell_type": "code",
      "source": [
        "# xの２点をNumPy配列にする\n",
        "x_values = np.array([X.min()-0.1, X.max()+0.1])\n",
        "print(x_values, x_values.shape)\n",
        "\n",
        "# サンプルリング結果からalphaとbetaを取り出しshapeを加工する\n",
        "alphas2 = idata2['posterior']['alpha'].values.reshape(-1, 1)\n",
        "betas2 = idata2['posterior']['beta'].values.reshape(-1, 1)\n",
        "\n",
        "# shapeの確認\n",
        "print(alphas2.shape, betas2.shape)\n",
        "\n",
        "# 2000パターンそれぞれで、２点の１次関数値の計算\n",
        "y_preds = x_values * alphas2 + betas2\n",
        "print(y_preds.shape)"
      ],
      "metadata": {
        "id": "kIMQA4gojgSk"
      },
      "execution_count": null,
      "outputs": []
    },
    {
      "cell_type": "markdown",
      "source": [
        "#### ベイズ推論における回帰直線"
      ],
      "metadata": {
        "id": "Px8DRNbF3PP3"
      }
    },
    {
      "cell_type": "code",
      "source": [
        "for y_pred in y_preds:\n",
        "    plt.plot(x_values, y_pred, lw=1, alpha=0.01, c='g')\n",
        "plt.scatter(X, Y)\n",
        "plt.title('ベイズ推論による回帰直線')\n",
        "plt.xlabel('sepal_length')\n",
        "plt.ylabel('sepal_width');"
      ],
      "metadata": {
        "id": "Eox4W8MtnkSv"
      },
      "execution_count": null,
      "outputs": []
    },
    {
      "cell_type": "markdown",
      "source": [
        "###  5.2.7 少ないサンプル数でベイス推論"
      ],
      "metadata": {
        "id": "yCzyPliQ3qWQ"
      }
    },
    {
      "cell_type": "markdown",
      "source": [
        "#### 乱数により3個のインデックスを生成"
      ],
      "metadata": {
        "id": "PCVhshFFCdgH"
      }
    },
    {
      "cell_type": "code",
      "source": [
        "import random\n",
        "random.seed(42)\n",
        "indexes =range(len(X))\n",
        "sample_indexes=random.sample(indexes, 3)\n",
        "print('インデックス値', sample_indexes)\n",
        "\n",
        "# データ数を3個にする\n",
        "X_less = X.iloc[sample_indexes]\n",
        "Y_less = Y.iloc[sample_indexes]\n",
        "print('xの値', X_less.values)\n",
        "print('yの値', Y_less.values)"
      ],
      "metadata": {
        "id": "SRWppjjmPGat"
      },
      "execution_count": null,
      "outputs": []
    },
    {
      "cell_type": "markdown",
      "source": [
        "#### 抽出した3点の散布図表示"
      ],
      "metadata": {
        "id": "FHCDa9bKCmHI"
      }
    },
    {
      "cell_type": "code",
      "source": [
        "plt.title('sepal_lengthとsepal_widthの関係')\n",
        "plt.scatter(X_less, Y_less, label='ベイズ推論で利用', c='b', marker='o')\n",
        "plt.legend()\n",
        "plt.xlabel('sepal_length')\n",
        "plt.ylabel('sepal_width');"
      ],
      "metadata": {
        "id": "bW2snNg6Q5sp"
      },
      "execution_count": null,
      "outputs": []
    },
    {
      "cell_type": "markdown",
      "source": [
        "#### 確率モデル定義とサンプリング"
      ],
      "metadata": {
        "id": "zbkUV8zaCs-8"
      }
    },
    {
      "cell_type": "code",
      "source": [
        "model3 = pm.Model()\n",
        "\n",
        "with model3:\n",
        "    # X, Yの観測値をConstantDataとして定義\n",
        "    X_data = pm.ConstantData('X_data', X_less)\n",
        "    Y_data = pm.ConstantData('Y_data', Y_less)\n",
        "\n",
        "    # 確率変数alpha、betaの定義(一次関数の傾きと切片)\n",
        "    alpha = pm.Normal('alpha', mu=0, sigma=10.0)\n",
        "    beta = pm.Normal('beta', mu=0, sigma=10.0)\n",
        "\n",
        "    # 平均値muの計算\n",
        "    mu = pm.Deterministic('mu', alpha * X_data + beta)\n",
        "\n",
        "    #　誤差を示す確率変数epsilonの定義\n",
        "    epsilon = pm.HalfNormal('epsilon', sigma=1.0)\n",
        "\n",
        "    # 観測値を持つ確率変数はobsとして定義\n",
        "    obs = pm.Normal('obs', mu=mu, sigma=epsilon, observed=Y_data)\n",
        "\n",
        "    # サンプリング\n",
        "    idata3 = pm.sample(random_seed=42, target_accept=0.995)"
      ],
      "metadata": {
        "id": "pNqa0GoI3a7S"
      },
      "execution_count": null,
      "outputs": []
    },
    {
      "cell_type": "markdown",
      "source": [
        "#### plot_trace関数でベイズ推論結果の確認"
      ],
      "metadata": {
        "id": "c2XPr0QNC3h9"
      }
    },
    {
      "cell_type": "code",
      "source": [
        "az.plot_trace(idata3, compact=False, var_names=['alpha', 'beta', 'epsilon'])\n",
        "plt.tight_layout();"
      ],
      "metadata": {
        "id": "qmASPaG_goiN"
      },
      "execution_count": null,
      "outputs": []
    },
    {
      "cell_type": "markdown",
      "source": [
        "#### 回帰直線と散布図の重ね描き"
      ],
      "metadata": {
        "id": "qLM8PGmpC-cY"
      }
    },
    {
      "cell_type": "code",
      "source": [
        "# xの２点をNumPy配列にする\n",
        "x_values = np.array([X_less.min()-0.1, X_less.max()+0.1])\n",
        "\n",
        "# サンプル値からalphaとbetaを取り出しshapeを加工する\n",
        "alphas3 = idata3['posterior']['alpha'].values.reshape(-1, 1)\n",
        "betas3 = idata3['posterior']['beta'].values.reshape(-1, 1)\n",
        "\n",
        "# 2000パターンそれぞれで、２点の１次関数値の計算\n",
        "y_preds = x_values * alphas3 + betas3\n",
        "\n",
        "# 2000組の直線を散布図と同時表示\n",
        "for y_pred in y_preds:\n",
        "    plt.plot(x_values, y_pred, lw=1, alpha=0.01, c='g')\n",
        "plt.scatter(X_less, Y_less)\n",
        "plt.ylim(1.75, 3.75)\n",
        "plt.title('ベイズ推論による回帰直線')\n",
        "plt.xlabel('sepal_length')\n",
        "plt.ylabel('sepal_width');"
      ],
      "metadata": {
        "id": "1mNaKloG5O2n"
      },
      "execution_count": null,
      "outputs": []
    },
    {
      "cell_type": "markdown",
      "source": [
        "### コラム　target_acceptによるチューニング"
      ],
      "metadata": {
        "id": "bBOCfigvJl9A"
      }
    },
    {
      "cell_type": "markdown",
      "source": [
        "#### 確率モデル定義とサンプリング(``target_accept``パラメータなし)"
      ],
      "metadata": {
        "id": "Gv2T_qMeDGaQ"
      }
    },
    {
      "cell_type": "code",
      "source": [
        "model4 = pm.Model()\n",
        "\n",
        "with model4:\n",
        "    # X, Yの観測値をConstantDataとして定義\n",
        "    X_data = pm.ConstantData('X_data', X_less)\n",
        "    Y_data = pm.ConstantData('Y_data', Y_less)\n",
        "\n",
        "    # 確率変数alpha、betaの定義(一次関数の傾きと切片)\n",
        "    alpha = pm.Normal('alpha', mu=0, sigma=10.0)\n",
        "    beta = pm.Normal('beta', mu=0, sigma=10.0)\n",
        "\n",
        "    # 平均値muの計算\n",
        "    mu = pm.Deterministic('mu', alpha * X_data + beta)\n",
        "\n",
        "    #　誤差を示す確率変数epsilonの定義\n",
        "    epsilon = pm.HalfNormal('epsilon', sigma=1.0)\n",
        "\n",
        "    # 観測値を持つ確率変数はobsとして定義\n",
        "    obs = pm.Normal('obs', mu=mu, sigma=epsilon, observed=Y_data)\n",
        "\n",
        "    # サンプリング\n",
        "    idata4 = pm.sample(random_seed=42)"
      ],
      "metadata": {
        "id": "pf97GBZ_05sJ"
      },
      "execution_count": null,
      "outputs": []
    },
    {
      "cell_type": "markdown",
      "source": [
        "#### plot_trace関数でベイズ推論結果の確認"
      ],
      "metadata": {
        "id": "LO0YvmJmDLe_"
      }
    },
    {
      "cell_type": "code",
      "source": [
        "az.plot_trace(idata4, compact=False, var_names=['alpha', 'beta', 'epsilon'])\n",
        "plt.tight_layout();"
      ],
      "metadata": {
        "id": "UFnNkdxtJ0vq"
      },
      "execution_count": null,
      "outputs": []
    },
    {
      "cell_type": "markdown",
      "source": [
        "#### summary関数でベイズ推論結果の確認"
      ],
      "metadata": {
        "id": "hdRMXdvd3cw9"
      }
    },
    {
      "cell_type": "code",
      "source": [
        "summary4 = az.summary(idata4, var_names=['alpha', 'beta', 'epsilon'])\n",
        "display(summary4)"
      ],
      "metadata": {
        "id": "_sUOZ7-n1RMm"
      },
      "execution_count": null,
      "outputs": []
    },
    {
      "cell_type": "markdown",
      "source": [
        "#### 回帰直線と散布図の重ね描き"
      ],
      "metadata": {
        "id": "F4m2U-HADRGo"
      }
    },
    {
      "cell_type": "code",
      "source": [
        "az.plot_posterior(idata2, var_names=['alpha', 'beta', 'epsilon']);"
      ],
      "metadata": {
        "id": "UKLGD4ZyKN9d"
      },
      "execution_count": null,
      "outputs": []
    },
    {
      "cell_type": "code",
      "source": [
        "# xの２点をNumPy配列にする\n",
        "x_values = np.array([X_less.min()-0.1, X_less.max()+0.1])\n",
        "\n",
        "# サンプル値からalphaとbetaを取り出しshapeを加工する\n",
        "alphas4 = idata4['posterior']['alpha'].values.reshape(-1, 1)\n",
        "betas4 = idata4['posterior']['beta'].values.reshape(-1, 1)\n",
        "\n",
        "# 2000パターンそれぞれで、２点の１次関数値の計算\n",
        "y_preds = x_values * alphas4 + betas4\n",
        "\n",
        "# 2000組の直線を散布図と同時表示\n",
        "for y_pred in y_preds:\n",
        "    plt.plot(x_values, y_pred, lw=1, alpha=0.01, c='g')\n",
        "plt.scatter(X_less, Y_less)\n",
        "plt.ylim(1.75, 3.75)\n",
        "plt.title('ベイズ推論による回帰直線')\n",
        "plt.xlabel('sepal_length')\n",
        "plt.ylabel('sepal_width');"
      ],
      "metadata": {
        "id": "Y3axvdwBJ6Qc"
      },
      "execution_count": null,
      "outputs": []
    },
    {
      "cell_type": "markdown",
      "source": [
        "#### バージョンの確認"
      ],
      "metadata": {
        "id": "P-xWewzUPm65"
      }
    },
    {
      "cell_type": "code",
      "source": [
        "!pip install watermark | tail -n 1\n",
        "%load_ext watermark\n",
        "%watermark --iversions"
      ],
      "metadata": {
        "id": "TMop6cFw1jlv"
      },
      "execution_count": null,
      "outputs": []
    },
    {
      "cell_type": "code",
      "source": [],
      "metadata": {
        "id": "t2UAcikzUdlq"
      },
      "execution_count": null,
      "outputs": []
    }
  ]
}