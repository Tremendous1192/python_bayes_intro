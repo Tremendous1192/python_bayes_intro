{
  "nbformat": 4,
  "nbformat_minor": 0,
  "metadata": {
    "colab": {
      "provenance": [],
      "toc_visible": true
    },
    "kernelspec": {
      "name": "python3",
      "display_name": "Python 3"
    },
    "language_info": {
      "name": "python"
    }
  },
  "cells": [
    {
      "cell_type": "markdown",
      "source": [
        "## 1章　確率分布"
      ],
      "metadata": {
        "id": "qSPzKMVJyI1Q"
      }
    },
    {
      "cell_type": "markdown",
      "source": [
        "### 共通処理"
      ],
      "metadata": {
        "id": "GnnBseyayPhn"
      }
    },
    {
      "cell_type": "code",
      "execution_count": null,
      "metadata": {
        "id": "if-gXKFKx5c9"
      },
      "outputs": [],
      "source": [
        "%matplotlib inline\n",
        "# 日本語化ライブラリ導入\n",
        "!pip install japanize-matplotlib | tail -n 1"
      ]
    },
    {
      "cell_type": "code",
      "source": [
        "# ライブラリのimport\n",
        "\n",
        "# NumPy用ライブラリ\n",
        "import numpy as np\n",
        "\n",
        "# Matplotlib中のpyplotライブラリのインポート\n",
        "import matplotlib.pyplot as plt\n",
        "\n",
        "# matplotlib日本語化対応ライブラリのインポート\n",
        "import japanize_matplotlib\n",
        "\n",
        "# pandas用ライブラリ\n",
        "import pandas as pd\n",
        "\n",
        "# データフレーム表示用関数\n",
        "from IPython.display import display\n",
        "\n",
        "# seaborn\n",
        "import seaborn as sns\n",
        "\n",
        "# 表示オプション調整\n",
        "\n",
        "# NumPy表示形式の設定\n",
        "np.set_printoptions(precision=3, floatmode='fixed')\n",
        "\n",
        "# グラフのデフォルトフォント指定\n",
        "#plt.rcParams[\"font.size\"] = 14\n",
        "\n",
        "# サイズ設定\n",
        "plt.rcParams['figure.figsize'] = (6, 6)\n",
        "\n",
        "# 方眼表示ON\n",
        "plt.rcParams['axes.grid'] = True\n",
        "\n",
        "# データフレームでの表示精度\n",
        "pd.options.display.float_format = '{:.3f}'.format\n",
        "\n",
        "# データフレームですべての項目を表示\n",
        "pd.set_option(\"display.max_columns\",None)"
      ],
      "metadata": {
        "id": "zS2KvH3Kx-zQ"
      },
      "execution_count": null,
      "outputs": []
    },
    {
      "cell_type": "markdown",
      "source": [
        "### 1.3 離散分布と連続分布"
      ],
      "metadata": {
        "id": "wTy9T_N0Yz8b"
      }
    },
    {
      "cell_type": "markdown",
      "source": [
        "#### くじ引き問題の確率分布の可視化プログラム"
      ],
      "metadata": {
        "id": "kMDHDLNGFVJ5"
      }
    },
    {
      "cell_type": "code",
      "source": [
        "from scipy.special import comb\n",
        "n = 5\n",
        "x = range(n+1)\n",
        "y = [comb(n, i)/2**n for i in x]\n",
        "plt.bar(x, y)\n",
        "plt.title('くじ引き問題の確率分布の可視化結果');"
      ],
      "metadata": {
        "id": "vqA9_i3NUaMj"
      },
      "execution_count": null,
      "outputs": []
    },
    {
      "cell_type": "markdown",
      "source": [
        "#### くじ引き問題の確率分布の可視化プログラム(n=1000)"
      ],
      "metadata": {
        "id": "mEFPmS4AFkrI"
      }
    },
    {
      "cell_type": "code",
      "source": [
        "from scipy.special import comb\n",
        "n = 1000\n",
        "x = range(n+1)\n",
        "y = [comb(n, i)/2**n for i in x]\n",
        "plt.bar(x, y)\n",
        "plt.xlim((430,570))\n",
        "plt.title('くじ引き問題の確率分布の可視化結果(n=1000)');"
      ],
      "metadata": {
        "id": "RGPPAx6kmywq"
      },
      "execution_count": null,
      "outputs": []
    },
    {
      "cell_type": "markdown",
      "source": [
        "#### 確率分布と正規分布関数の重ね描き"
      ],
      "metadata": {
        "id": "5s48or3cFrqI"
      }
    },
    {
      "cell_type": "code",
      "source": [
        "# 正規分布関数の定義\n",
        "def norm(x, mu, sigma):\n",
        "    return np.exp(-((x - mu)/sigma)**2/2) / (np.sqrt(2 * np.pi) * sigma)\n",
        "\n",
        "n = 1000\n",
        "\n",
        "# グラフ描画\n",
        "plt.xlim((430,570))\n",
        "x = np.arange(430, 571)\n",
        "\n",
        "# 確率分布関数のグラフ描画\n",
        "y1 = [comb(n, i)/2**n for i in x]\n",
        "plt.bar(x, y1)\n",
        "\n",
        "# 正規分布関数のグラフ描画\n",
        "mu = n/2\n",
        "sigma = np.sqrt(mu/2)\n",
        "y2 = norm(x, mu, sigma)\n",
        "plt.plot(x, y2, c='k')\n",
        "\n",
        "plt.title('確率分布と正規分布関数の重ね描き');"
      ],
      "metadata": {
        "id": "ZZDtKNGkoMKA"
      },
      "execution_count": null,
      "outputs": []
    },
    {
      "cell_type": "markdown",
      "source": [
        "#### 正規分布関数と確率の関係正規分布関数と確率の関係"
      ],
      "metadata": {
        "id": "jVV7J1e_GFwf"
      }
    },
    {
      "cell_type": "code",
      "source": [
        "n = 1000\n",
        "\n",
        "# グラフ描画\n",
        "plt.xlim((430,570))\n",
        "x = np.arange(430, 571)\n",
        "x1 = 460\n",
        "x2 = 480\n",
        "x_range = np.arange(x1, x2+1)\n",
        "\n",
        "# 正規分布関数\n",
        "mu = n/2\n",
        "sigma = np.sqrt(mu/2)\n",
        "plt.plot(x, norm(x, mu, sigma), c='k')\n",
        "plt.fill_between(x_range, 0, norm(x_range, mu, sigma), facecolor='b', alpha=0.2)\n",
        "plt.plot((x1, x1), (0, norm(x1, mu, sigma)), c='b')\n",
        "plt.plot((x2, x2), (0, norm(x2, mu, sigma)), c='b')\n",
        "plt.title('正規分布関数と確率の関係');"
      ],
      "metadata": {
        "id": "k36bvH-Kr8kn"
      },
      "execution_count": null,
      "outputs": []
    },
    {
      "cell_type": "markdown",
      "source": [
        "### 1.4 PyMCプログラミング"
      ],
      "metadata": {
        "id": "4Ancrb2l6EBU"
      }
    },
    {
      "cell_type": "markdown",
      "source": [
        "#### インポート文"
      ],
      "metadata": {
        "id": "JGsKiNojRCXl"
      }
    },
    {
      "cell_type": "code",
      "source": [
        "import pymc as pm\n",
        "import arviz as az\n",
        "\n",
        "print(f\"Running on PyMC v{pm.__version__}\")\n",
        "print(f\"Running on ArViz v{az.__version__}\")"
      ],
      "metadata": {
        "id": "iXT5wRuQyw3w"
      },
      "execution_count": null,
      "outputs": []
    },
    {
      "cell_type": "markdown",
      "source": [
        "#### 確率モデル生成"
      ],
      "metadata": {
        "id": "lHJ7uJVuRLac"
      }
    },
    {
      "cell_type": "code",
      "source": [
        "# 確率モデルコンテキスト用インスタンス生成\n",
        "model = pm.Model()\n",
        "\n",
        "# 先ほど定義したインスタンスを用いてwith文でコンテキストを指定\n",
        "with model:\n",
        "    # Binomial: 二項分布の確率分布クラス\n",
        "    # p: 二項分布の元になる試行の成功確率\n",
        "    # n: 二項分布における試行回数\n",
        "    # 'x':  確率変数 x のサンプル値を参照するときのラベル\n",
        "    x = pm.Binomial('x', p=0.5, n=5)"
      ],
      "metadata": {
        "id": "FwlXwkox9v-k"
      },
      "execution_count": null,
      "outputs": []
    },
    {
      "cell_type": "markdown",
      "source": [
        "#### サンプリングの実施"
      ],
      "metadata": {
        "id": "_jZHMFWhRRJn"
      }
    },
    {
      "cell_type": "code",
      "source": [
        "# with modelのコンテキスト定義により、\n",
        "# 上で定義した確率モデルと紐付けられる\n",
        "# sample_prior_predictive: 事前分布の予測値取得関数\n",
        "# 乱数により生成されたサンプル値が変数prior_samplesにセットされる\n",
        "with model:\n",
        "    prior_samples = pm.sample_prior_predictive(random_seed=42)"
      ],
      "metadata": {
        "id": "-wHEgO4mNr31"
      },
      "execution_count": null,
      "outputs": []
    },
    {
      "cell_type": "markdown",
      "source": [
        "### 1.5 サンプル値分析"
      ],
      "metadata": {
        "id": "8w0TiB2eRWI5"
      }
    },
    {
      "cell_type": "markdown",
      "source": [
        "#### notebook UIによる方法"
      ],
      "metadata": {
        "id": "ynpfI4uAvleZ"
      }
    },
    {
      "cell_type": "code",
      "source": [
        "prior_samples"
      ],
      "metadata": {
        "id": "HRdnOGBQ8tD4"
      },
      "execution_count": null,
      "outputs": []
    },
    {
      "cell_type": "markdown",
      "source": [
        "#### NumPy形式データを抽出して分析する方法"
      ],
      "metadata": {
        "id": "LZFPv7JAvuNe"
      }
    },
    {
      "cell_type": "code",
      "source": [
        "# 事前分布(prior)としてのサンプル値を取得\n",
        "x_samples = prior_samples['prior']['x'].values\n",
        "print('type: ', type(x_samples))\n",
        "print('shape: ', x_samples.shape)\n",
        "print('values: ' , x_samples, '\\n')\n",
        "\n",
        "# 通常のNumPyデータとして頻度分析をした例\n",
        "value_counts = pd.DataFrame(\n",
        "    x_samples.reshape(-1)).value_counts().sort_index()\n",
        "print(value_counts)"
      ],
      "metadata": {
        "id": "wTQH6mM2N2ZQ"
      },
      "execution_count": null,
      "outputs": []
    },
    {
      "cell_type": "markdown",
      "source": [
        "#### ArviZによる分析"
      ],
      "metadata": {
        "id": "EVt5HAdSvzLs"
      }
    },
    {
      "cell_type": "markdown",
      "source": [
        "#####  ArviZによるサンプル値の集計"
      ],
      "metadata": {
        "id": "ay1ljOEvHpVe"
      }
    },
    {
      "cell_type": "code",
      "source": [
        "summary = az.summary(prior_samples, kind='stats')\n",
        "display(summary)"
      ],
      "metadata": {
        "id": "OHu8odHkwPfq"
      },
      "execution_count": null,
      "outputs": []
    },
    {
      "cell_type": "markdown",
      "source": [
        "##### ArviZによる可視化分析"
      ],
      "metadata": {
        "id": "FIK3QIh_Hv5w"
      }
    },
    {
      "cell_type": "code",
      "source": [
        "ax = az.plot_dist(x_samples)\n",
        "ax.set_title('ArviZによるサンプル値の可視化結果');"
      ],
      "metadata": {
        "id": "721FFuePfYT9"
      },
      "execution_count": null,
      "outputs": []
    },
    {
      "cell_type": "markdown",
      "source": [
        "### バージョンの確認"
      ],
      "metadata": {
        "id": "2oUa1cRnsU_q"
      }
    },
    {
      "cell_type": "code",
      "source": [
        "!pip install watermark | tail -n 1\n",
        "%load_ext watermark\n",
        "%watermark --iversions"
      ],
      "metadata": {
        "id": "HXPitM6GS8ti"
      },
      "execution_count": null,
      "outputs": []
    },
    {
      "cell_type": "code",
      "source": [],
      "metadata": {
        "id": "5dY6lqRIsbWV"
      },
      "execution_count": null,
      "outputs": []
    }
  ]
}