{
  "nbformat": 4,
  "nbformat_minor": 0,
  "metadata": {
    "colab": {
      "provenance": [],
      "toc_visible": true
    },
    "kernelspec": {
      "name": "python3",
      "display_name": "Python 3"
    },
    "language_info": {
      "name": "python"
    }
  },
  "cells": [
    {
      "cell_type": "markdown",
      "source": [
        "## 5.4 潜在変数モデル"
      ],
      "metadata": {
        "id": "uIoj_UW_qasp"
      }
    },
    {
      "cell_type": "markdown",
      "source": [
        "### 共通処理"
      ],
      "metadata": {
        "id": "vdi2sqRyqr4p"
      }
    },
    {
      "cell_type": "code",
      "source": [
        "%matplotlib inline\n",
        "# 日本語化ライブラリ導入\n",
        "!pip install japanize-matplotlib | tail -n 1"
      ],
      "metadata": {
        "id": "0dTjJOmIqmiS"
      },
      "execution_count": null,
      "outputs": []
    },
    {
      "cell_type": "code",
      "source": [
        "# ライブラリのimport\n",
        "\n",
        "# NumPy用ライブラリ\n",
        "import numpy as np\n",
        "\n",
        "# Matplotlib中のpyplotライブラリのインポート\n",
        "import matplotlib.pyplot as plt\n",
        "\n",
        "# matplotlib日本語化対応ライブラリのインポート\n",
        "import japanize_matplotlib\n",
        "\n",
        "# pandas用ライブラリ\n",
        "import pandas as pd\n",
        "\n",
        "# データフレーム表示用関数\n",
        "from IPython.display import display\n",
        "\n",
        "# seaborn\n",
        "import seaborn as sns\n",
        "\n",
        "# 表示オプション調整\n",
        "\n",
        "# NumPy表示形式の設定\n",
        "np.set_printoptions(precision=3, floatmode='fixed')\n",
        "\n",
        "# グラフのデフォルトフォント指定\n",
        "plt.rcParams[\"font.size\"] = 14\n",
        "\n",
        "# サイズ設定\n",
        "plt.rcParams['figure.figsize'] = (6, 6)\n",
        "\n",
        "# 方眼表示ON\n",
        "plt.rcParams['axes.grid'] = True\n",
        "\n",
        "# データフレームでの表示精度\n",
        "pd.options.display.float_format = '{:.3f}'.format\n",
        "\n",
        "# データフレームですべての項目を表示\n",
        "pd.set_option(\"display.max_columns\",None)"
      ],
      "metadata": {
        "id": "M46-MnBXq5-Z"
      },
      "execution_count": null,
      "outputs": []
    },
    {
      "cell_type": "code",
      "source": [
        "import pymc as pm\n",
        "import arviz as az\n",
        "\n",
        "print(f\"Running on PyMC v{pm.__version__}\")\n",
        "print(f\"Running on ArViz v{az.__version__}\")"
      ],
      "metadata": {
        "id": "my5YU9YCq-ou"
      },
      "execution_count": null,
      "outputs": []
    },
    {
      "cell_type": "markdown",
      "source": [
        "### 5.4.1 問題設定\n",
        "アイリスデータセットで特定項目の値のみを利用する。  \n",
        "花の種別の情報をなしで、2種類の花の統計的特徴を推論する。\n"
      ],
      "metadata": {
        "id": "rBIfYJ_BrGUD"
      }
    },
    {
      "cell_type": "markdown",
      "source": [
        "### 5.4.2 データ準備"
      ],
      "metadata": {
        "id": "lnTxrJeXtJlG"
      }
    },
    {
      "cell_type": "markdown",
      "source": [
        "#### データ読み込みと確認"
      ],
      "metadata": {
        "id": "Z6oJ-5Yj4QQI"
      }
    },
    {
      "cell_type": "code",
      "source": [
        "# アイリスデータセットの読み込み\n",
        "df = sns.load_dataset('iris')\n",
        "\n",
        "# 先頭5行の確認\n",
        "display(df.head())\n",
        "\n",
        "#  speciesの分布確認\n",
        "df['species'].value_counts()"
      ],
      "metadata": {
        "id": "4DkJdzLIrCFM"
      },
      "execution_count": null,
      "outputs": []
    },
    {
      "cell_type": "markdown",
      "source": [
        "#### 分析対象データの絞り込み\n"
      ],
      "metadata": {
        "id": "x8bv5SkA4U-f"
      }
    },
    {
      "cell_type": "code",
      "source": [
        "# 花の種類をsetosa以外の２種類に絞り込む\n",
        "df2 = df.query('species != \"setosa\"')\n",
        "\n",
        "# インデックスを0から振り直す\n",
        "df2 = df2.reset_index(drop=True)\n",
        "\n",
        "# petal_widthの項目値をx_dataにセット\n",
        "X = df2['petal_width'].values"
      ],
      "metadata": {
        "id": "CZFE_MrE2Vr8"
      },
      "execution_count": null,
      "outputs": []
    },
    {
      "cell_type": "markdown",
      "source": [
        "#### 分析対象データを色分けなしにヒストグラム表示"
      ],
      "metadata": {
        "id": "areTBgXp4qVs"
      }
    },
    {
      "cell_type": "code",
      "source": [
        "bins = np.arange(0.8, 3.0, 0.1)\n",
        "fig, ax = plt.subplots()\n",
        "sns.histplot(bins=bins, x=X, ax=ax)\n",
        "ax.xaxis.set_tick_params(rotation=90)\n",
        "ax.set_title('petal_widthのヒストグラム')\n",
        "ax.set_xticks(bins);"
      ],
      "metadata": {
        "id": "yk01phVIlugz"
      },
      "execution_count": null,
      "outputs": []
    },
    {
      "cell_type": "markdown",
      "source": [
        "####  petal_widthのヒストグラム描画(花の種類で色分け)"
      ],
      "metadata": {
        "id": "qT7F6BWp4x6l"
      }
    },
    {
      "cell_type": "code",
      "source": [
        "bins = np.arange(0.8, 3.0, 0.1)\n",
        "fig, ax = plt.subplots()\n",
        "sns.histplot(data=df2, bins=bins, x='petal_width',\n",
        "    hue='species', kde=True)\n",
        "ax.xaxis.set_tick_params(rotation=90)\n",
        "ax.set_title('petal_widthのヒストグラム')\n",
        "ax.set_xticks(bins);"
      ],
      "metadata": {
        "id": "4KUJ4s76hQM-"
      },
      "execution_count": null,
      "outputs": []
    },
    {
      "cell_type": "markdown",
      "source": [
        "### 5.4.3 確率モデル定義"
      ],
      "metadata": {
        "id": "PgH4jGWpvoW9"
      }
    },
    {
      "cell_type": "markdown",
      "source": [
        "#### 潜在変数モデルの確率モデル定義"
      ],
      "metadata": {
        "id": "TwLsB_CftLay"
      }
    },
    {
      "cell_type": "code",
      "source": [
        "#  変数の初期設定\n",
        "\n",
        "# 何種類の正規分布モデルがあるか\n",
        "n_components = 2\n",
        "\n",
        "# 観測データ件数\n",
        "N = X.shape\n",
        "\n",
        "model1 = pm.Model()\n",
        "\n",
        "with model1:\n",
        "    # Xの観測値をConstantDataとして定義\n",
        "    X_data = pm.ConstantData('X_data', X)\n",
        "\n",
        "    # p: 潜在変数が1の値を取る確率\n",
        "    p = pm.Uniform('p', lower=0.0, upper=1.0)\n",
        "\n",
        "    # s: 潜在変数　pの確率値を基に0, 1のいずれかの値を返す\n",
        "    s = pm.Bernoulli('s', p=p, shape=N)\n",
        "\n",
        "    # mus: ２つの花の種類毎の平均値\n",
        "    mus = pm.Normal('mus', mu=0.0, sigma=10.0, shape=n_components)\n",
        "\n",
        "    # taus: 2つの花の種類毎のバラツキ\n",
        "    # 標準偏差sigmasとの間には　taus = 1/(sigmas*sigmas) の関係がある\n",
        "    taus = pm.HalfNormal('taus', sigma=10.0, shape=n_components)\n",
        "\n",
        "    # グラフ描画など分析でsigmasが必要なため、tausからsigmasを求めておく\n",
        "    sigmas = pm.Deterministic('sigmas', 1/pm.math.sqrt(taus))\n",
        "\n",
        "    # 各観測値ごとに潜在変数からmuとtauを求める\n",
        "    mu = pm.Deterministic('mu', mus[s])\n",
        "    tau = pm.Deterministic('tau', taus[s])\n",
        "\n",
        "    # 正規分布に従う確率変数X_obsの定義\n",
        "    X_obs = pm.Normal('X_obs', mu=mu, tau=tau, observed=X_data)"
      ],
      "metadata": {
        "id": "k_Lw-2-XvIDi"
      },
      "execution_count": null,
      "outputs": []
    },
    {
      "cell_type": "markdown",
      "source": [
        "#### 確率モデル構造定義"
      ],
      "metadata": {
        "id": "5FPUpEQOtSl7"
      }
    },
    {
      "cell_type": "code",
      "source": [
        "g = pm.model_to_graphviz(model1)\n",
        "display(g)"
      ],
      "metadata": {
        "id": "WoopmWwGvvWe"
      },
      "execution_count": null,
      "outputs": []
    },
    {
      "cell_type": "markdown",
      "source": [
        "### 5.4.4 サンプリングと結果分析"
      ],
      "metadata": {
        "id": "_mP-yzOLv_9n"
      }
    },
    {
      "cell_type": "markdown",
      "source": [
        "#### サンプリング"
      ],
      "metadata": {
        "id": "PLyVQMlKyD8a"
      }
    },
    {
      "cell_type": "code",
      "source": [
        "with model1:\n",
        "    idata1 = pm.sample(chains=1, draws=2000, target_accept=0.99,\n",
        "      random_seed=42)"
      ],
      "metadata": {
        "id": "UOt2twamwm7q"
      },
      "execution_count": null,
      "outputs": []
    },
    {
      "cell_type": "markdown",
      "source": [
        "#### plot_trace関数で推論結果の確認"
      ],
      "metadata": {
        "id": "_sl5QzimyNJv"
      }
    },
    {
      "cell_type": "code",
      "source": [
        "az.plot_trace(idata1, var_names=['p', 'mus', 'sigmas'], compact=False)\n",
        "plt.tight_layout();"
      ],
      "metadata": {
        "id": "dHkdwKit1A3W"
      },
      "execution_count": null,
      "outputs": []
    },
    {
      "cell_type": "markdown",
      "source": [
        "#### 各確率変数の事後分布の確認"
      ],
      "metadata": {
        "id": "nCNaXqIm1k3P"
      }
    },
    {
      "cell_type": "code",
      "source": [
        "plt.rcParams['figure.figsize']=(6,6)\n",
        "az.plot_posterior(idata1, var_names=['p', 'mus', 'sigmas'])\n",
        "plt.tight_layout();"
      ],
      "metadata": {
        "id": "4zMT8RzI-BFK"
      },
      "execution_count": null,
      "outputs": []
    },
    {
      "cell_type": "markdown",
      "source": [
        "#### summary関数で推論結果の確認"
      ],
      "metadata": {
        "id": "8rKTNX-zyWwE"
      }
    },
    {
      "cell_type": "code",
      "source": [
        "summary1 = az.summary(idata1, var_names=['p', 'mus', 'sigmas'])\n",
        "display(summary1)"
      ],
      "metadata": {
        "id": "SXEWuooOfo-c"
      },
      "execution_count": null,
      "outputs": []
    },
    {
      "cell_type": "code",
      "source": [
        "df2.species.value_counts()"
      ],
      "metadata": {
        "id": "JtFM6sjT_J-M"
      },
      "execution_count": null,
      "outputs": []
    },
    {
      "cell_type": "code",
      "source": [
        "df3 = df2.copy()\n",
        "df3 = df3.query('species==\"virginica\"')\n",
        "print(len(df3))"
      ],
      "metadata": {
        "id": "nTss9sNd_75t"
      },
      "execution_count": null,
      "outputs": []
    },
    {
      "cell_type": "markdown",
      "source": [
        "### 5.4.5 ヒストグラムと正規分布関数の重ね描き"
      ],
      "metadata": {
        "id": "PTcyd5k32g6G"
      }
    },
    {
      "cell_type": "code",
      "source": [
        "# 正規分布関数の定義\n",
        "def norm(x, mu, sigma):\n",
        "    return np.exp(-((x - mu)/sigma)**2/2) / (np.sqrt(2 * np.pi) * sigma)\n",
        "\n",
        "# 推論結果から各パラメータの平均値を取得\n",
        "mean = summary1['mean']\n",
        "\n",
        "# muの平均値取得\n",
        "mean_mu0 = mean['mus[0]']\n",
        "mean_mu1 = mean['mus[1]']\n",
        "\n",
        "# sigmaの平均値取得\n",
        "mean_sigma0 = mean['sigmas[0]']\n",
        "mean_sigma1 = mean['sigmas[1]']\n",
        "\n",
        "# 正規分布関数値の計算\n",
        "y0 = norm(x, mean_mu0, mean_sigma0) * delta / n_components\n",
        "y1 = norm(x, mean_mu1, mean_sigma1) * delta / n_components\n",
        "\n",
        "# グラフ描画\n",
        "delta = 0.1\n",
        "bins = np.arange(0.8, 3.0, delta)\n",
        "x = np.arange(0.8, 3.0, 0.05)\n",
        "plt.rcParams['figure.figsize']=(6,6)\n",
        "fig, ax = plt.subplots()\n",
        "sns.histplot(data=df2, bins=bins, x='petal_width',\n",
        "    hue='species', kde=True, ax=ax,  stat='probability')\n",
        "ax.get_lines()[0].set_label('KDE versicolor')\n",
        "ax.get_lines()[1].set_label('KDE virginica')\n",
        "ax.plot(x, y0, c='b', lw=3, label='Bayse versicolor')\n",
        "ax.plot(x, y1, c='y', lw=3, label='Bayse virginica')\n",
        "ax.set_xticks(bins);\n",
        "ax.xaxis.set_tick_params(rotation=90)\n",
        "ax.set_title('ヒストグラムと正規分布関数の重ね描き')\n",
        "plt.legend();"
      ],
      "metadata": {
        "id": "7abMvBMkVx30"
      },
      "execution_count": null,
      "outputs": []
    },
    {
      "cell_type": "markdown",
      "source": [
        "### 5.4.6 潜在変数の確率分布"
      ],
      "metadata": {
        "id": "m2-RanqsKuu_"
      }
    },
    {
      "cell_type": "markdown",
      "source": [
        "#### petal_widthの値が1.0, 1.5, 1.7, 2.0, 2.5のインデックスを調べる"
      ],
      "metadata": {
        "id": "KsMpViBfI7Rb"
      }
    },
    {
      "cell_type": "code",
      "source": [
        "value_list = [1.0, 1.5, 1.7, 2.0, 2.5]\n",
        "\n",
        "df_heads = pd.DataFrame(None)\n",
        "\n",
        "# petal_widthの値が1.0から2.5までそれぞれの値である先頭の行を抽出\n",
        "for value in value_list:\n",
        "\n",
        "    # df2からpetal_widthの値がvalueである行のみ抽出\n",
        "    w = df2.query('`petal_width`==@value', engine='python')\n",
        "\n",
        "    # 先頭の１行を抽出し、df_headsに連結\n",
        "    df_heads = pd.concat([df_heads, w.head(1)], axis=0)\n",
        "\n",
        "# 結果確認\n",
        "display(df_heads)"
      ],
      "metadata": {
        "id": "ANHu670nK4u1"
      },
      "execution_count": null,
      "outputs": []
    },
    {
      "cell_type": "markdown",
      "source": [
        "#### petal_widthの値の違いによる潜在変数sの確率分布の可視化"
      ],
      "metadata": {
        "id": "j5_2fT5LKQll"
      }
    },
    {
      "cell_type": "code",
      "source": [
        "# df_headsのインデックスを抽出\n",
        "indexes = df_heads.index\n",
        "\n",
        "# 潜在変数sのサンプル値から、index=7, 1, 27, 60, 50の値を抽出\n",
        "sval = idata1.posterior['s'][:,:,indexes].values.reshape(-1,5).T\n",
        "\n",
        "# それぞれのケースでヒストグラムの描画\n",
        "plt.rcParams['figure.figsize']=(15,3)\n",
        "vlist = [1.0, 1.5, 1.7, 2.0, 2.5]\n",
        "fig, axes = plt.subplots(1, 5)\n",
        "for ax, item, value, index in zip(axes, sval, vlist, indexes):\n",
        "    f = pd.DataFrame(item)\n",
        "    f.hist(ax=ax, bins=2)\n",
        "    ax.set_ylim(0,2000)\n",
        "    ax.set_title(f'value={value} index={index}')\n",
        "plt.tight_layout();"
      ],
      "metadata": {
        "id": "pE8grEh-t4xk"
      },
      "execution_count": null,
      "outputs": []
    },
    {
      "cell_type": "markdown",
      "source": [
        " ### コラム　潜在変数モデルにおけるベイズ推論のツボ"
      ],
      "metadata": {
        "id": "yh7xE04ZZ88t"
      }
    },
    {
      "cell_type": "markdown",
      "source": [
        "#### 意図しない結果になる確率モデル"
      ],
      "metadata": {
        "id": "evzU0aqd5XNK"
      }
    },
    {
      "cell_type": "markdown",
      "source": [
        "##### 確率モデル定義"
      ],
      "metadata": {
        "id": "9VaeidrvVNVx"
      }
    },
    {
      "cell_type": "code",
      "source": [
        "model2 = pm.Model()\n",
        "\n",
        "with model2:\n",
        "    # Xの観測値をConstantDataとして定義\n",
        "    X_data = pm.ConstantData('X_data', X)\n",
        "\n",
        "    # p: 潜在変数が1の値を取る確率\n",
        "    p = pm.Uniform('p', lower=0.0, upper=1.0)\n",
        "\n",
        "    # s: 潜在変数　pの確率値を基に0, 1のいずれかの値を返す\n",
        "    s = pm.Bernoulli('s', p=p, shape=N)\n",
        "\n",
        "    # mus: ２つの花の種類毎の平均値\n",
        "    mus = pm.Normal('mus', mu=0.0, sigma=10.0, shape=n_components)\n",
        "\n",
        "    # sigmas: 2つの花の種類毎のバラツキ\n",
        "    sigmas = pm.HalfNormal('sigmas', sigma=10.0, shape=n_components)\n",
        "\n",
        "    # 各観測値ごとに潜在変数から平均値と標準偏差を求める\n",
        "    mu = pm.Deterministic('mu', mus[s])\n",
        "    sigma = pm.Deterministic('sigma', sigmas[s])\n",
        "\n",
        "    # 正規分布によりxの値を求める\n",
        "    X_obs = pm.Normal('X_obs', mu=mu, sigma=sigma, observed=X_data)\n",
        "\n",
        "# モデル構造可視化\n",
        "g = pm.model_to_graphviz(model2)\n",
        "display(g)"
      ],
      "metadata": {
        "id": "OPgJxdeL5JM0"
      },
      "execution_count": null,
      "outputs": []
    },
    {
      "cell_type": "markdown",
      "source": [
        "##### サンプリングとplot_trace関数呼び出し"
      ],
      "metadata": {
        "id": "lpa-9fp5bhu1"
      }
    },
    {
      "cell_type": "code",
      "source": [
        "with model2:\n",
        "    # サンプリング\n",
        "    idata2 = pm.sample(random_seed=42, chains=1, target_accept=0.998)\n",
        "\n",
        "# plot_trace関数で推論結果の確認\n",
        "az.plot_trace(idata2, var_names=['p', 'mus', 'sigmas'], compact=False)\n",
        "plt.tight_layout();"
      ],
      "metadata": {
        "id": "aAuXArC7brMj"
      },
      "execution_count": null,
      "outputs": []
    },
    {
      "cell_type": "code",
      "source": [
        "summary2 = az.summary(idata2, var_names=['p', 'mus', 'sigmas'])\n",
        "display(summary2)"
      ],
      "metadata": {
        "id": "R0FKbOg-gIVp"
      },
      "execution_count": null,
      "outputs": []
    },
    {
      "cell_type": "markdown",
      "source": [
        "#### ラベルスイッチが起きない確率モデル"
      ],
      "metadata": {
        "id": "Tn63ZJlGmPzI"
      }
    },
    {
      "cell_type": "markdown",
      "source": [
        "##### 確率モデル定義"
      ],
      "metadata": {
        "id": "X6nN310nVS14"
      }
    },
    {
      "cell_type": "code",
      "source": [
        "#  変数の初期設定\n",
        "\n",
        "# 何種類の正規分布モデルがあるか\n",
        "n_components = 2\n",
        "\n",
        "# 観測データ件数\n",
        "N = X.shape\n",
        "\n",
        "model3 = pm.Model()\n",
        "\n",
        "with model3:\n",
        "    # Xの観測値をConstantDataとして定義\n",
        "    X_data = pm.ConstantData('X_data', X)\n",
        "\n",
        "    # p: 潜在変数が1の値を取る確率\n",
        "    p = pm.Uniform('p', lower=0.0, upper=1.0)\n",
        "\n",
        "    # s: 潜在変数　pの確率値を基に0, 1のいずれかの値を返す\n",
        "    s = pm.Bernoulli('s', p=p, shape=N)\n",
        "\n",
        "    # mus: ２つの花の種類毎の平均値\n",
        "    mu0 = pm.HalfNormal('mu0', sigma=10.0)\n",
        "    delta0 = pm.HalfNormal('delta0', sigma=10.0)\n",
        "    mu1 = pm.Deterministic('mu1', mu0+delta0)\n",
        "    mus = pm.Deterministic('mus',pm.math.stack([mu0, mu1]))\n",
        "\n",
        "    # taus: 2つの花の種類毎のバラツキ\n",
        "    # 標準偏差sigmasとの間には　taus = 1/(sigmas*sigmas) の関係がある\n",
        "    taus = pm.HalfNormal('taus', sigma=10.0, shape=n_components)\n",
        "\n",
        "    # グラフ描画など分析でsigmasが必要なため、tausからsigmasを求めておく\n",
        "    sigmas = pm.Deterministic('sigmas', 1/pm.math.sqrt(taus))\n",
        "\n",
        "    # 各観測値ごとに潜在変数からmuとtauを求める\n",
        "    mu = pm.Deterministic('mu', mus[s])\n",
        "    tau = pm.Deterministic('tau', taus[s])\n",
        "\n",
        "    # 正規分布に従う確率変数X_obsの定義\n",
        "    X_obs = pm.Normal('X_obs', mu=mu, tau=tau, observed=X_data)\n",
        "\n",
        "g = pm.model_to_graphviz(model3)\n",
        "display(g)"
      ],
      "metadata": {
        "id": "Ifp_8MNKxyBn"
      },
      "execution_count": null,
      "outputs": []
    },
    {
      "cell_type": "markdown",
      "source": [
        "##### サンプリングとplot_trace関数呼び出し"
      ],
      "metadata": {
        "id": "qXYa1ZbwcBrq"
      }
    },
    {
      "cell_type": "code",
      "source": [
        "with model3:\n",
        "    # サンプリング\n",
        "    idata3 = pm.sample(random_seed=42, target_accept=0.999)\n",
        "\n",
        "# plot_trace関数で推論結果の確認\n",
        "az.plot_trace(idata3, var_names=['p', 'mus', 'sigmas'], compact=False)\n",
        "plt.tight_layout();"
      ],
      "metadata": {
        "id": "R3eULAMgnAz4"
      },
      "execution_count": null,
      "outputs": []
    },
    {
      "cell_type": "code",
      "source": [
        "summary3 = az.summary(idata3, var_names=['p', 'mus', 'sigmas'])\n",
        "display(summary3)"
      ],
      "metadata": {
        "id": "0jG4FmB3nxHm"
      },
      "execution_count": null,
      "outputs": []
    },
    {
      "cell_type": "markdown",
      "source": [
        "##### グラフ描画"
      ],
      "metadata": {
        "id": "1VoXqEGUH3Nt"
      }
    },
    {
      "cell_type": "code",
      "source": [
        "# サイズ設定\n",
        "plt.rcParams['figure.figsize'] = (6, 6)\n",
        "\n",
        "# 正規分布関数の定義\n",
        "def norm(x, mu, sigma):\n",
        "    return np.exp(-((x - mu)/sigma)**2/2) / (np.sqrt(2 * np.pi) * sigma)\n",
        "\n",
        "# 推論結果から各パラメータの平均値を取得\n",
        "mean = summary3['mean']\n",
        "\n",
        "# muの平均値取得\n",
        "mean_mu0 = mean['mus[0]']\n",
        "mean_mu1 = mean['mus[1]']\n",
        "\n",
        "# sigmaの平均値取得\n",
        "mean_sigma0 = mean['sigmas[0]']\n",
        "mean_sigma1 = mean['sigmas[1]']\n",
        "\n",
        "# 正規分布関数値の計算\n",
        "y0 = norm(x, mean_mu0, mean_sigma0) * delta / n_components\n",
        "y1 = norm(x, mean_mu1, mean_sigma1) * delta / n_components\n",
        "\n",
        "# グラフ描画\n",
        "delta = 0.1\n",
        "bins = np.arange(0.8, 3.0, delta)\n",
        "x = np.arange(0.8, 3.0, 0.05)\n",
        "plt.rcParams['figure.figsize']=(6,6)\n",
        "fig, ax = plt.subplots()\n",
        "sns.histplot(data=df2, bins=bins, x='petal_width',\n",
        "    hue='species', kde=True, ax=ax, stat='probability')\n",
        "ax.get_lines()[0].set_label('KDE versicolor')\n",
        "ax.get_lines()[1].set_label('KDE virginica')\n",
        "ax.xaxis.set_tick_params(rotation=90)\n",
        "ax.set_title('ヒストグラムと正規分布関数の重ね描き\\n(ラベルスイッチ対策版)')\n",
        "ax.set_xticks(bins);\n",
        "ax.plot(x, y0, c='b', lw=3, label='Bayse versicolor')\n",
        "ax.plot(x, y1, c='y', lw=3, label='Bayse virginica')\n",
        "plt.legend();"
      ],
      "metadata": {
        "id": "zTr-6VdbDK6w"
      },
      "execution_count": null,
      "outputs": []
    },
    {
      "cell_type": "markdown",
      "source": [
        "#### バージョンの確認"
      ],
      "metadata": {
        "id": "x5DEy2muwyeQ"
      }
    },
    {
      "cell_type": "code",
      "source": [
        "!pip install watermark | tail -n 1\n",
        "%load_ext watermark\n",
        "%watermark --iversions"
      ],
      "metadata": {
        "id": "zEa9F-tuH9fU"
      },
      "execution_count": null,
      "outputs": []
    }
  ]
}